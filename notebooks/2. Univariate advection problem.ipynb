{
 "cells": [
  {
   "cell_type": "code",
   "execution_count": 1,
   "metadata": {},
   "outputs": [],
   "source": [
    "import numpy as np\n",
    "import matplotlib.pyplot as plt\n",
    "\n",
    "from module.tools import make_samples\n",
    "from module.ntbk2_routines import *\n",
    "from module.multivariate import MultivariateEnKF1D, MultivariatePKF1D\n",
    "\n",
    "from sympy import Function, Derivative, Eq, symbols\n",
    "from sympkf import Expectation, PDESystem, SymbolicPKF, FDModelBuilder, t\n",
    "import sympy\n",
    "sympy.init_printing()"
   ]
  },
  {
   "cell_type": "markdown",
   "metadata": {},
   "source": [
    "# 1. The advection problem <a class=\"anchor\" id=\"section1\"></a>\n",
    "\n",
    "We consider the following 1D advection problem : \n",
    "\n",
    "$$\n",
    "\\partial_t \\mathcal{X} + u \\partial_x \\mathcal{X}= -\\mathcal{X}\\partial_x u\n",
    "$$\n",
    "\n",
    "where $u$ is a wind field. The term on the right hand of the equation implies a conservation of mass of the tracer $A$.\n",
    "\n",
    "We will consider periodic boundary conditions.\n",
    "\n",
    "\n",
    "An RK4 time-scheme is used."
   ]
  },
  {
   "cell_type": "code",
   "execution_count": 2,
   "metadata": {},
   "outputs": [
    {
     "data": {
      "image/png": "[encoded data removed]",
      "text/latex": [
       "$\\displaystyle \\frac{\\partial}{\\partial t} X{\\left(t,x \\right)} = - X{\\left(t,x \\right)} \\frac{d}{d x} u{\\left(x \\right)} - u{\\left(x \\right)} \\frac{\\partial}{\\partial x} X{\\left(t,x \\right)}$"
      ],
      "text/plain": [
       "∂                       d               ∂          \n",
       "──(X(t, x)) = - X(t, x)⋅──(u(x)) - u(x)⋅──(X(t, x))\n",
       "∂t                      dx              ∂x         "
      ]
     },
     "execution_count": 2,
     "metadata": {},
     "output_type": "execute_result"
    }
   ],
   "source": [
    "x = symbols('x')\n",
    "u = Function('u')(x)\n",
    "X = Function('X')(t,x)\n",
    "\n",
    "# definition of the dynamics\n",
    "dynamics = [Eq(Derivative(X,t), -u*Derivative(X,x) -X*Derivative(u,x)),]\n",
    "dynamics[0]"
   ]
  },
  {
   "cell_type": "markdown",
   "metadata": {},
   "source": [
    "## Deriving the PKF dynamics with SymPKF"
   ]
  },
  {
   "cell_type": "code",
   "execution_count": 3,
   "metadata": {},
   "outputs": [
    {
     "data": {
      "image/png": "[encoded data removed]",
      "text/latex": [
       "$\\displaystyle \\frac{\\partial}{\\partial t} X{\\left(t,x \\right)} = - X{\\left(t,x \\right)} \\frac{d}{d x} u{\\left(x \\right)} - u{\\left(x \\right)} \\frac{\\partial}{\\partial x} X{\\left(t,x \\right)}$"
      ],
      "text/plain": [
       "∂                       d               ∂          \n",
       "──(X(t, x)) = - X(t, x)⋅──(u(x)) - u(x)⋅──(X(t, x))\n",
       "∂t                      dx              ∂x         "
      ]
     },
     "metadata": {},
     "output_type": "display_data"
    },
    {
     "data": {
      "image/png": "[encoded data removed]",
      "text/latex": [
       "$\\displaystyle \\frac{\\partial}{\\partial t} \\operatorname{{V_{X}}}{\\left(t,x \\right)} = - u{\\left(x \\right)} \\frac{\\partial}{\\partial x} \\operatorname{{V_{X}}}{\\left(t,x \\right)} - 2 \\operatorname{{V_{X}}}{\\left(t,x \\right)} \\frac{d}{d x} u{\\left(x \\right)}$"
      ],
      "text/plain": [
       "∂                          ∂                                   d       \n",
       "──({V_{X}}(t, x)) = - u(x)⋅──({V_{X}}(t, x)) - 2⋅{V_{X}}(t, x)⋅──(u(x))\n",
       "∂t                         ∂x                                  dx      "
      ]
     },
     "metadata": {},
     "output_type": "display_data"
    },
    {
     "data": {
      "image/png": "[encoded data removed]",
      "text/latex": [
       "$\\displaystyle \\frac{\\partial}{\\partial t} \\operatorname{{s_{X,xx}}}{\\left(t,x \\right)} = - u{\\left(x \\right)} \\frac{\\partial}{\\partial x} \\operatorname{{s_{X,xx}}}{\\left(t,x \\right)} + 2 \\operatorname{{s_{X,xx}}}{\\left(t,x \\right)} \\frac{d}{d x} u{\\left(x \\right)}$"
      ],
      "text/plain": [
       "∂                             ∂                                         d     \n",
       "──({s_{X,xx}}(t, x)) = - u(x)⋅──({s_{X,xx}}(t, x)) + 2⋅{s_{X,xx}}(t, x)⋅──(u(x\n",
       "∂t                            ∂x                                        dx    \n",
       "\n",
       "  \n",
       "))\n",
       "  "
      ]
     },
     "metadata": {},
     "output_type": "display_data"
    }
   ],
   "source": [
    "pkf_dynamics = SymbolicPKF(dynamics)\n",
    "\n",
    "for equation in pkf_dynamics.in_aspect:    \n",
    "    display(equation)"
   ]
  },
  {
   "cell_type": "markdown",
   "metadata": {},
   "source": [
    "## Automatic code generation for building classes"
   ]
  },
  {
   "cell_type": "code",
   "execution_count": 4,
   "metadata": {},
   "outputs": [
    {
     "name": "stdout",
     "output_type": "stream",
     "text": [
      "class adv has been written in module adv in file adv.py\n",
      "class pkf_adv has been written in module pkf_adv in file pkf_adv.py\n"
     ]
    }
   ],
   "source": [
    "Nx=241\n",
    "\n",
    "exec(FDModelBuilder(dynamics, class_name='adv').code)\n",
    "exec(FDModelBuilder(pkf_dynamics.in_aspect, class_name='pkf_adv').code)\n",
    "\n",
    "#saving generated classes :\n",
    "FDModelBuilder(dynamics, class_name='adv').write_module()\n",
    "FDModelBuilder(pkf_dynamics.in_aspect, class_name='pkf_adv').write_module()"
   ]
  },
  {
   "cell_type": "code",
   "execution_count": 5,
   "metadata": {},
   "outputs": [],
   "source": [
    "class EnKF_Advection(MultivariateEnKF1D, adv):\n",
    "    def __init__(self, shape):\n",
    "        adv.__init__(self, shape)\n",
    "        MultivariateEnKF1D.__init__(self, ['X'])\n",
    "    \n",
    "class PKF_Advection(MultivariatePKF1D, pkf_adv):\n",
    "    def __init__(self, shape):\n",
    "        pkf_adv.__init__(self, shape)\n",
    "        MultivariatePKF1D.__init__(self, ['X'])"
   ]
  },
  {
   "cell_type": "code",
   "execution_count": 6,
   "metadata": {},
   "outputs": [
    {
     "name": "stdout",
     "output_type": "stream",
     "text": [
      "Warning: function `u` has to be set\n",
      "Warning: function `u` has to be set\n",
      "Warning: function `u` has to be set\n"
     ]
    }
   ],
   "source": [
    "enkf_lr = EnKF_Advection(shape=(Nx,))\n",
    "enkf_hr = EnKF_Advection(shape=(3*Nx,))\n",
    "pkf = PKF_Advection(shape=(Nx,))\n",
    "\n",
    "domain = pkf"
   ]
  },
  {
   "cell_type": "markdown",
   "metadata": {},
   "source": [
    "# 2. Forecasting EnKF and PKF <a class=\"anchor\" id=\"section2\"></a>"
   ]
  },
  {
   "cell_type": "markdown",
   "metadata": {},
   "source": [
    "#### wind conditions"
   ]
  },
  {
   "cell_type": "code",
   "execution_count": 7,
   "metadata": {},
   "outputs": [
    {
     "data": {
      "image/png": "[encoded data removed]",
      "text/plain": [
       "<Figure size 504x324 with 1 Axes>"
      ]
     },
     "metadata": {
      "needs_background": "light"
     },
     "output_type": "display_data"
    }
   ],
   "source": [
    "D = 1000  #km\n",
    "u_amp = 15 #kmh\n",
    "u_mean = 35  #kmh\n",
    "\n",
    "u_lr = (u_mean + u_amp*np.cos(2*np.pi*enkf_lr.x[0]))/D\n",
    "u_hr = (u_mean + u_amp*np.cos(2*np.pi*enkf_hr.x[0]))/D\n",
    "\n",
    "Tadv = 1/u_lr.mean()\n",
    "\n",
    "enkf_lr.u = u_lr\n",
    "enkf_hr.u = u_hr\n",
    "pkf.u = u_lr\n",
    "\n",
    "fig,ax = plt.subplots(1,1,figsize=(7,4.5))\n",
    "ax.plot(enkf_hr.x[0], u_hr/u_hr.max(), c='k',linewidth=3)\n",
    "ax.set_xlabel(r'$x/D$',fontsize=14)\n",
    "ax.set_title(r\"Wind speed, $U_{max}=$50kmh\",fontsize=14)\n",
    "ax.set_ylabel(r\"$u(x)/U_{max}$\",fontsize=14);\n",
    "fig.tight_layout()\n",
    "fig.savefig(f'../figures/Nx{Nx}/wind_Nx{Nx}.png')"
   ]
  },
  {
   "cell_type": "markdown",
   "metadata": {},
   "source": [
    "#### initial conditions"
   ]
  },
  {
   "cell_type": "code",
   "execution_count": 8,
   "metadata": {},
   "outputs": [],
   "source": [
    "x0 = 1\n",
    "sigma0 = 0.1\n",
    "lh0 = 15*enkf_lr.dx[0]"
   ]
  },
  {
   "cell_type": "markdown",
   "metadata": {},
   "source": [
    "#### initializing filters"
   ]
  },
  {
   "cell_type": "code",
   "execution_count": 9,
   "metadata": {},
   "outputs": [],
   "source": [
    "ensemble_size = 6400\n",
    "\n",
    "# generating initial ensemble :\n",
    "ensemble_state0_lr = x0 + make_samples(ensemble_size, domain.x[0], lh0)[:,np.newaxis,:] * sigma0\n",
    "ensemble_state0_hr = x0 + make_samples(ensemble_size, enkf_hr.x[0], lh0)[:,np.newaxis,:] * sigma0\n",
    "pkf_state0 =(np.array([x0,sigma0**2,lh0**2]) + np.zeros(Nx)[:,np.newaxis]).T"
   ]
  },
  {
   "cell_type": "markdown",
   "metadata": {},
   "source": [
    "#### Forecasting"
   ]
  },
  {
   "cell_type": "code",
   "execution_count": 10,
   "metadata": {},
   "outputs": [],
   "source": [
    "dt = domain.dx[0]/u_lr.max() #CFL condition\n",
    "enkf_lr.set_dt(dt)\n",
    "pkf.set_dt(dt)\n",
    "\n",
    "dt_hr = enkf_hr.dx[0]/u_hr.max()\n",
    "enkf_hr.set_dt(dt_hr)\n",
    "\n",
    "times = enkf_lr.window(3.0*Tadv, start=0)\n",
    "times_hr = list(enkf_hr.window(3.0*Tadv,start=0))\n",
    "times_hr.append(times[-1])\n",
    "times_hr = np.sort(times_hr)\n",
    "\n",
    "saved_times = list(times[::10]) + [times[-1]]"
   ]
  },
  {
   "cell_type": "code",
   "execution_count": 11,
   "metadata": {
    "scrolled": true
   },
   "outputs": [],
   "source": [
    "#low resolution ensemble forecast:\n",
    "traj_enkf_lr = enkf_lr.ensemble_forecast(times, ensemble_state0_lr, saved_times)\n",
    "diag_enkf_lr = enkf_lr.diagnosis(traj_enkf_lr, [Nx//2],['X'])"
   ]
  },
  {
   "cell_type": "code",
   "execution_count": null,
   "metadata": {
    "scrolled": true
   },
   "outputs": [],
   "source": [
    "#high resolution ensemble forecast:\n",
    "traj_enkf_hr = enkf_hr.ensemble_forecast(times_hr, ensemble_state0_hr, saved_times)\n",
    "diag_enkf_hr = enkf_hr.diagnosis(traj_enkf_hr, [(3*Nx)//2],['X'])"
   ]
  },
  {
   "cell_type": "code",
   "execution_count": null,
   "metadata": {},
   "outputs": [],
   "source": [
    "#pkf forecast:\n",
    "traj_pkf = pkf.forecast(times, pkf_state0, saved_times)\n",
    "rendered_traj_pkf = pkf.render_traj(traj_pkf, [Nx//2],['X'])"
   ]
  },
  {
   "cell_type": "markdown",
   "metadata": {},
   "source": [
    "## 2.3 Comparing results : <a class=\"anchor\" id=\"section2.3\"></a>"
   ]
  },
  {
   "cell_type": "code",
   "execution_count": null,
   "metadata": {},
   "outputs": [],
   "source": [
    "times = np.array(list(rendered_traj_pkf.keys()))\n",
    "stops = np.linspace(0,len(times)-1,6).astype(int)\n",
    "normalizations = [x0,sigma0,lh0]\n",
    "fig = univariate_plot(times[stops], domain.x[0], diag_enkf_lr, rendered_traj_pkf, normalizations,\n",
    "                      ensemble_size, fr'{ensemble_size}-Ensemble; $N_x=${Nx}',c='dodgerblue',ls='dashdot');\n",
    "fig.savefig(f'../figures/Nx{Nx}/advection_diagnosis_ensemble_vs_pkf_Nx{Nx}.png')"
   ]
  },
  {
   "cell_type": "code",
   "execution_count": null,
   "metadata": {},
   "outputs": [],
   "source": [
    "stops = np.linspace(0,len(saved_times)-1,6).astype(int)\n",
    "normalizations = [x0,sigma0,lh0]\n",
    "fig = univariate_plot_bis(\n",
    "                      np.array(saved_times)[stops],\n",
    "                      enkf_hr.x[0], pkf.x[0],\n",
    "                      diag_enkf_hr, rendered_traj_pkf,\n",
    "                      normalizations,ensemble_size)\n",
    "fig.savefig('../figures/advection_diagnosis_ensemble_highres_vs_pkf_lowres.png')"
   ]
  },
  {
   "cell_type": "markdown",
   "metadata": {},
   "source": [
    "# 3. Introducing the univariate covariance model : <a class=\"anchor\" id=\"section3\"></a>"
   ]
  },
  {
   "cell_type": "markdown",
   "metadata": {},
   "source": [
    "## 3.1 The PKF autocorrelation function model : <a class=\"anchor\" id=\"section3.1\"></a>"
   ]
  },
  {
   "cell_type": "markdown",
   "metadata": {},
   "source": [
    "For the univariate case, the model use to describe correlation functions results from the theorem 1 of Paciorek and Schervish (2004), which states that for any homogeneous correlation $\\rho^h(||\\mathbf{x}-\\mathbf{y}||)$ in $\\mathbb{R}^d$ of aspect-tensor $\\mathbf{I}_d$ and any differential field of symmetric definite positive tensor $\\mathbf{s}$, it is possible to form a heterogeneous correlation function $\\rho$ defined by :\n",
    "\\begin{equation}\n",
    "\\label{eq:paciorek}\n",
    "\\rho(\\mathbf{s})(\\mathbf{x},\\mathbf{y}) = \n",
    "\\frac{|\\mathbf{s_x}|^{1/4} |\\mathbf{s_y}|^{1/4} }\n",
    "{|\\frac{1}{2} (\\mathbf{s_x} + \\mathbf{s_y})|^{1/2}} \n",
    "\\rho^h \\left( \n",
    "||\\mathbf{x}-\\mathbf{y}||_{[\\frac{1}{2}(\\mathbf{s_x}+\\mathbf{s_y})]^{-1}}\n",
    "\\right)\n",
    "\\end{equation}\n",
    "\n",
    "for which the aspect tensor at $\\mathbf{x}$ is approximately $\\mathbf{s_x}$, and where $|\\cdot|$ stands for the matrix determinant. The homogeneous correlation function that we consider is gaussian, leading to the heterogeneous gaussian univariate covariance model :\n",
    "\n",
    "\\begin{equation}\n",
    "\\label{eq:heterogeneous_gaussian_cov_model}\n",
    "\\mathbf{P}^{\\texttt{he.gauss} }(V,\\mathbf{s})(\\mathbf{x},\\mathbf{y}) = \n",
    "\\sqrt{ V_{\\mathbf{x}} V_{\\mathbf{y}}}\n",
    "\\frac{|\\mathbf{s_x}|^{1/4} |\\mathbf{s_y}|^{1/4} }\n",
    "{|\\frac{1}{2} (\\mathbf{s_x} + \\mathbf{s_y})|^{1/2}} \n",
    "\\exp \\left( \n",
    "-\\frac{1}{2}||\\mathbf{x}-\\mathbf{y}||^2_{[\\frac{1}{2}(\\mathbf{s_x}+\\mathbf{s_y})]^{-1}}\n",
    "\\right)\n",
    "\\end{equation}\n"
   ]
  },
  {
   "cell_type": "code",
   "execution_count": null,
   "metadata": {},
   "outputs": [],
   "source": [
    "zoom_factor = 5\n",
    "zoom_lr = np.arange(Nx//2 - Nx//zoom_factor,Nx//2 + Nx//zoom_factor,1)\n",
    "zoom_hr = np.arange((3*Nx)//2 - (3*Nx)//zoom_factor,(3*Nx)//2 + (3*Nx)//zoom_factor,1)\n",
    "\n",
    "times_plot = np.round(np.linspace(0,3,6),2)\n",
    "fig, ax = plt.subplots(2,3,figsize=(16,9))\n",
    "fig.suptitle(r\"Auto-correlation functions at $x=0.5$\",fontsize=15)\n",
    "stops  = np.linspace(0,len(saved_times)-1,6).astype(int)\n",
    "\n",
    "xx_lr = np.linspace(-.5,.5,Nx); loc_lr = Nx//2\n",
    "xx_hr = np.linspace(-.5,.5,(3*Nx)); loc_hr = (3*Nx)//2\n",
    "\n",
    "panels_index = [f'({c}) ' for c in 'abcdef']\n",
    "for i, t in enumerate(np.array(saved_times)[stops]):\n",
    "    empirical_correlation_func_lr = diag_enkf_lr[t]['Correlation functions'][loc_lr]['X/X']\n",
    "    empirical_correlation_func_hr = diag_enkf_hr[t]['Correlation functions'][loc_hr]['X/X']\n",
    "    pkf_cor_func = rendered_traj_pkf[t]['Correlation functions'][loc_lr]['X/X']\n",
    "    \n",
    "    ax.flat[i].plot(xx_hr[zoom_hr],empirical_correlation_func_hr[zoom_hr],label=fr'Ensemble; $N_x=${(3*Nx)}',c='b',linestyle='--',zorder=3)\n",
    "    ax.flat[i].plot(xx_lr[zoom_lr],empirical_correlation_func_lr[zoom_lr],label=fr'Ensemble; $N_x=${Nx}',c='dodgerblue',linestyle='dashdot',zorder=3)\n",
    "    ax.flat[i].plot(xx_lr[zoom_lr],pkf_cor_func[zoom_lr],label=fr'PKF; $N_x=${Nx}',c='r',lw=1)\n",
    "    \n",
    "    ax.flat[i].grid(alpha=0.5);    ax.flat[i].axvline(0,linestyle='--',c='grey')\n",
    "    ax.flat[i].set_title(panels_index[i]+f\"$t$={times_plot[i]}\" +r\"$\\tau_{adv}$\",fontsize=17) ;ax.flat[i].set_ylim(-.1,1.1)\n",
    "    if i>2 : ax.flat[i].set_xlabel(r\"$\\delta x /D$\",fontsize=13)\n",
    "    if i == 0 or i==3 : ax.flat[i].set_ylabel(r'$\\rho(x_l,x_l + \\delta x)$',fontsize=13)\n",
    "    if i == 0 : ax.flat[i].legend();\n",
    "        \n",
    "fig.tight_layout();\n",
    "fig.savefig(f'../figures/advection_autocorrelation_functions_pkf_lowres_enkf_highres.png')"
   ]
  },
  {
   "cell_type": "markdown",
   "metadata": {},
   "source": [
    "This auto-correlation model seems to reproduce accuratly the true behaviour of the observed auto-correlation functions."
   ]
  }
 ],
 "metadata": {
  "kernelspec": {
   "display_name": "Python 3",
   "language": "python",
   "name": "python3"
  },
  "language_info": {
   "codemirror_mode": {
    "name": "ipython",
    "version": 3
   },
   "file_extension": ".py",
   "mimetype": "text/x-python",
   "name": "python",
   "nbconvert_exporter": "python",
   "pygments_lexer": "ipython3",
   "version": "3.8.10"
  }
 },
 "nbformat": 4,
 "nbformat_minor": 4
}
