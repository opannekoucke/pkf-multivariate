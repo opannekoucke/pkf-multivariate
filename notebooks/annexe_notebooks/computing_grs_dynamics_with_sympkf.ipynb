{
 "cells": [
  {
   "cell_type": "code",
   "execution_count": 43,
   "metadata": {},
   "outputs": [],
   "source": [
    "from sympy import Function, Derivative, Eq, symbols, sqrt\n",
    "from sympkf import SymbolicPKF, t, FDModelBuilder"
   ]
  },
  {
   "cell_type": "markdown",
   "metadata": {},
   "source": [
    "# Deriving the PKF dynamics for the GRS model with SymPKF"
   ]
  },
  {
   "cell_type": "code",
   "execution_count": 10,
   "metadata": {},
   "outputs": [],
   "source": [
    "x = symbols(\"x\")\n",
    "\n",
    "k2,k4,k5,k6,l  = symbols(\"k_2 k_4 k_5 k_6 l\")\n",
    "\n",
    "E_ROC = Function(\"E_{ROC}\")(x)\n",
    "E_NO = Function(\"E_{NO}\")(x)\n",
    "E_NO2 = Function(\"E_{NO2}\")(x)\n",
    "\n",
    "u = Function(\"u\")(x)  #wind\n",
    "k1 = Function(\"k_1\")(t)  #wind\n",
    "k3 = Function(\"k_3\")(t)  #wind\n",
    "\n",
    "E_ROC = Function(\"E_{ROC}\")(x) \n",
    "E_NO = Function(\"E_{NO}\")(x) \n",
    "E_NO2 = Function(\"E_{NO2}\")(x) \n",
    "\n",
    "\n",
    "#k1,k3 = symbols('k_1 k_3')\n",
    "ROC = Function(\"ROC\")(t,x)  \n",
    "RP = Function(\"RP\")(t,x)  \n",
    "NO = Function(\"NO\")(t,x)\n",
    "NO2 = Function(\"NO2\")(t,x)  \n",
    "O3 = Function(\"O3\")(t,x)  \n",
    "SNGN = Function(\"SNGN\")(t,x)  \n",
    "\n",
    "#QSSA :\n",
    "# RP = (k2*NO + 2*k6 *NO2)/(2*k5) * (sqrt(\n",
    "#  1+ 4*k1*k5*ROC /(k2*NO+2*k6*NO2)**2\n",
    "# )-1)\n",
    "\n",
    "\n",
    "dynamics = [\n",
    "    Eq(Derivative(ROC,t),-l*ROC + E_ROC -u*Derivative(ROC,x) -ROC*Derivative(u,x)) ,\n",
    "    Eq(Derivative(RP,t),-l*RP +k1*ROC - RP * (k2*NO + 2*k6*NO2+ k5*RP)-u*Derivative(RP,x) -RP*Derivative(u,x)),\n",
    "    Eq(Derivative(NO,t),-l*NO + E_NO + k3*NO2 - NO*(k2*RP+k4*O3) -u*Derivative(NO,x) -NO*Derivative(u,x)),\n",
    "    Eq(Derivative(NO2,t),-l*NO2+ E_NO2 + k4*NO*O3 + k2*NO*RP - NO2*(k3 +2*k6*RP)-u*Derivative(NO2,x) -NO2*Derivative(u,x)),\n",
    "    Eq(Derivative(O3,t),-l*O3+k3*NO2-k4*NO*O3-u*Derivative(O3,x) -O3*Derivative(u,x)),\n",
    "    Eq(Derivative(SNGN,t),-l*SNGN+2*k6*NO2*RP-u*Derivative(SNGN,x) -SNGN*Derivative(u,x))\n",
    "]"
   ]
  },
  {
   "cell_type": "markdown",
   "metadata": {},
   "source": [
    "## GRS dynamics"
   ]
  },
  {
   "cell_type": "code",
   "execution_count": 11,
   "metadata": {},
   "outputs": [
    {
     "data": {
      "text/latex": [
       "$\\displaystyle \\frac{\\partial}{\\partial t} \\operatorname{ROC}{\\left(t,x \\right)} = - l \\operatorname{ROC}{\\left(t,x \\right)} + \\operatorname{E_{ROC}}{\\left(x \\right)} - \\operatorname{ROC}{\\left(t,x \\right)} \\frac{d}{d x} u{\\left(x \\right)} - u{\\left(x \\right)} \\frac{\\partial}{\\partial x} \\operatorname{ROC}{\\left(t,x \\right)}$"
      ],
      "text/plain": [
       "Eq(Derivative(ROC(t, x), t), -l*ROC(t, x) + E_{ROC}(x) - ROC(t, x)*Derivative(u(x), x) - u(x)*Derivative(ROC(t, x), x))"
      ]
     },
     "metadata": {},
     "output_type": "display_data"
    },
    {
     "data": {
      "text/latex": [
       "$\\displaystyle \\frac{\\partial}{\\partial t} \\operatorname{RP}{\\left(t,x \\right)} = - l \\operatorname{RP}{\\left(t,x \\right)} - \\left(k_{2} \\operatorname{NO}{\\left(t,x \\right)} + k_{5} \\operatorname{RP}{\\left(t,x \\right)} + 2 k_{6} \\operatorname{NO_{2}}{\\left(t,x \\right)}\\right) \\operatorname{RP}{\\left(t,x \\right)} + \\operatorname{ROC}{\\left(t,x \\right)} \\operatorname{k_{1}}{\\left(t \\right)} - \\operatorname{RP}{\\left(t,x \\right)} \\frac{d}{d x} u{\\left(x \\right)} - u{\\left(x \\right)} \\frac{\\partial}{\\partial x} \\operatorname{RP}{\\left(t,x \\right)}$"
      ],
      "text/plain": [
       "Eq(Derivative(RP(t, x), t), -l*RP(t, x) - (k_2*NO(t, x) + k_5*RP(t, x) + 2*k_6*NO2(t, x))*RP(t, x) + ROC(t, x)*k_1(t) - RP(t, x)*Derivative(u(x), x) - u(x)*Derivative(RP(t, x), x))"
      ]
     },
     "metadata": {},
     "output_type": "display_data"
    },
    {
     "data": {
      "text/latex": [
       "$\\displaystyle \\frac{\\partial}{\\partial t} \\operatorname{NO}{\\left(t,x \\right)} = - l \\operatorname{NO}{\\left(t,x \\right)} - \\left(k_{2} \\operatorname{RP}{\\left(t,x \\right)} + k_{4} \\operatorname{O_{3}}{\\left(t,x \\right)}\\right) \\operatorname{NO}{\\left(t,x \\right)} + \\operatorname{E_{NO}}{\\left(x \\right)} - \\operatorname{NO}{\\left(t,x \\right)} \\frac{d}{d x} u{\\left(x \\right)} + \\operatorname{NO_{2}}{\\left(t,x \\right)} \\operatorname{k_{3}}{\\left(t \\right)} - u{\\left(x \\right)} \\frac{\\partial}{\\partial x} \\operatorname{NO}{\\left(t,x \\right)}$"
      ],
      "text/plain": [
       "Eq(Derivative(NO(t, x), t), -l*NO(t, x) - (k_2*RP(t, x) + k_4*O3(t, x))*NO(t, x) + E_{NO}(x) - NO(t, x)*Derivative(u(x), x) + NO2(t, x)*k_3(t) - u(x)*Derivative(NO(t, x), x))"
      ]
     },
     "metadata": {},
     "output_type": "display_data"
    },
    {
     "data": {
      "text/latex": [
       "$\\displaystyle \\frac{\\partial}{\\partial t} \\operatorname{NO_{2}}{\\left(t,x \\right)} = k_{2} \\operatorname{NO}{\\left(t,x \\right)} \\operatorname{RP}{\\left(t,x \\right)} + k_{4} \\operatorname{NO}{\\left(t,x \\right)} \\operatorname{O_{3}}{\\left(t,x \\right)} - l \\operatorname{NO_{2}}{\\left(t,x \\right)} - \\left(2 k_{6} \\operatorname{RP}{\\left(t,x \\right)} + \\operatorname{k_{3}}{\\left(t \\right)}\\right) \\operatorname{NO_{2}}{\\left(t,x \\right)} + \\operatorname{E_{NO2}}{\\left(x \\right)} - \\operatorname{NO_{2}}{\\left(t,x \\right)} \\frac{d}{d x} u{\\left(x \\right)} - u{\\left(x \\right)} \\frac{\\partial}{\\partial x} \\operatorname{NO_{2}}{\\left(t,x \\right)}$"
      ],
      "text/plain": [
       "Eq(Derivative(NO2(t, x), t), k_2*NO(t, x)*RP(t, x) + k_4*NO(t, x)*O3(t, x) - l*NO2(t, x) - (2*k_6*RP(t, x) + k_3(t))*NO2(t, x) + E_{NO2}(x) - NO2(t, x)*Derivative(u(x), x) - u(x)*Derivative(NO2(t, x), x))"
      ]
     },
     "metadata": {},
     "output_type": "display_data"
    },
    {
     "data": {
      "text/latex": [
       "$\\displaystyle \\frac{\\partial}{\\partial t} \\operatorname{O_{3}}{\\left(t,x \\right)} = - k_{4} \\operatorname{NO}{\\left(t,x \\right)} \\operatorname{O_{3}}{\\left(t,x \\right)} - l \\operatorname{O_{3}}{\\left(t,x \\right)} + \\operatorname{NO_{2}}{\\left(t,x \\right)} \\operatorname{k_{3}}{\\left(t \\right)} - \\operatorname{O_{3}}{\\left(t,x \\right)} \\frac{d}{d x} u{\\left(x \\right)} - u{\\left(x \\right)} \\frac{\\partial}{\\partial x} \\operatorname{O_{3}}{\\left(t,x \\right)}$"
      ],
      "text/plain": [
       "Eq(Derivative(O3(t, x), t), -k_4*NO(t, x)*O3(t, x) - l*O3(t, x) + NO2(t, x)*k_3(t) - O3(t, x)*Derivative(u(x), x) - u(x)*Derivative(O3(t, x), x))"
      ]
     },
     "metadata": {},
     "output_type": "display_data"
    },
    {
     "data": {
      "text/latex": [
       "$\\displaystyle \\frac{\\partial}{\\partial t} \\operatorname{SNGN}{\\left(t,x \\right)} = 2 k_{6} \\operatorname{NO_{2}}{\\left(t,x \\right)} \\operatorname{RP}{\\left(t,x \\right)} - l \\operatorname{SNGN}{\\left(t,x \\right)} - \\operatorname{SNGN}{\\left(t,x \\right)} \\frac{d}{d x} u{\\left(x \\right)} - u{\\left(x \\right)} \\frac{\\partial}{\\partial x} \\operatorname{SNGN}{\\left(t,x \\right)}$"
      ],
      "text/plain": [
       "Eq(Derivative(SNGN(t, x), t), 2*k_6*NO2(t, x)*RP(t, x) - l*SNGN(t, x) - SNGN(t, x)*Derivative(u(x), x) - u(x)*Derivative(SNGN(t, x), x))"
      ]
     },
     "metadata": {},
     "output_type": "display_data"
    }
   ],
   "source": [
    "for eq in dynamics : display(eq)"
   ]
  },
  {
   "cell_type": "markdown",
   "metadata": {},
   "source": [
    "## PKF for GRS "
   ]
  },
  {
   "cell_type": "code",
   "execution_count": 12,
   "metadata": {},
   "outputs": [
    {
     "data": {
      "text/latex": [
       "$\\displaystyle \\frac{\\partial}{\\partial t} \\operatorname{ROC}{\\left(t,x \\right)} = - l \\operatorname{ROC}{\\left(t,x \\right)} + \\operatorname{E_{ROC}}{\\left(x \\right)} - \\operatorname{ROC}{\\left(t,x \\right)} \\frac{d}{d x} u{\\left(x \\right)} - u{\\left(x \\right)} \\frac{\\partial}{\\partial x} \\operatorname{ROC}{\\left(t,x \\right)}$"
      ],
      "text/plain": [
       "Eq(Derivative(ROC(t, x), t), -l*ROC(t, x) + E_{ROC}(x) - ROC(t, x)*Derivative(u(x), x) - u(x)*Derivative(ROC(t, x), x))"
      ]
     },
     "metadata": {},
     "output_type": "display_data"
    },
    {
     "data": {
      "text/latex": [
       "$\\displaystyle \\frac{\\partial}{\\partial t} \\operatorname{RP}{\\left(t,x \\right)} = - k_{2} \\operatorname{NO}{\\left(t,x \\right)} \\operatorname{RP}{\\left(t,x \\right)} - k_{2} \\operatorname{V_{RPNO}}{\\left(t,x \\right)} - k_{5} \\operatorname{RP}^{2}{\\left(t,x \\right)} - k_{5} \\operatorname{{V_{RP}}}{\\left(t,x \\right)} - 2 k_{6} \\operatorname{NO_{2}}{\\left(t,x \\right)} \\operatorname{RP}{\\left(t,x \\right)} - 2 k_{6} \\operatorname{V_{RPNO2}}{\\left(t,x \\right)} - l \\operatorname{RP}{\\left(t,x \\right)} + \\operatorname{ROC}{\\left(t,x \\right)} \\operatorname{k_{1}}{\\left(t \\right)} - \\operatorname{RP}{\\left(t,x \\right)} \\frac{d}{d x} u{\\left(x \\right)} - u{\\left(x \\right)} \\frac{\\partial}{\\partial x} \\operatorname{RP}{\\left(t,x \\right)}$"
      ],
      "text/plain": [
       "Eq(Derivative(RP(t, x), t), -k_2*NO(t, x)*RP(t, x) - k_2*V_RPNO(t, x) - k_5*RP(t, x)**2 - k_5*{V_{RP}}(t, x) - 2*k_6*NO2(t, x)*RP(t, x) - 2*k_6*V_RPNO2(t, x) - l*RP(t, x) + ROC(t, x)*k_1(t) - RP(t, x)*Derivative(u(x), x) - u(x)*Derivative(RP(t, x), x))"
      ]
     },
     "metadata": {},
     "output_type": "display_data"
    },
    {
     "data": {
      "text/latex": [
       "$\\displaystyle \\frac{\\partial}{\\partial t} \\operatorname{NO}{\\left(t,x \\right)} = - k_{2} \\operatorname{NO}{\\left(t,x \\right)} \\operatorname{RP}{\\left(t,x \\right)} - k_{2} \\operatorname{V_{RPNO}}{\\left(t,x \\right)} - k_{4} \\operatorname{NO}{\\left(t,x \\right)} \\operatorname{O_{3}}{\\left(t,x \\right)} - k_{4} \\operatorname{V_{NOO3}}{\\left(t,x \\right)} - l \\operatorname{NO}{\\left(t,x \\right)} + \\operatorname{E_{NO}}{\\left(x \\right)} - \\operatorname{NO}{\\left(t,x \\right)} \\frac{d}{d x} u{\\left(x \\right)} + \\operatorname{NO_{2}}{\\left(t,x \\right)} \\operatorname{k_{3}}{\\left(t \\right)} - u{\\left(x \\right)} \\frac{\\partial}{\\partial x} \\operatorname{NO}{\\left(t,x \\right)}$"
      ],
      "text/plain": [
       "Eq(Derivative(NO(t, x), t), -k_2*NO(t, x)*RP(t, x) - k_2*V_RPNO(t, x) - k_4*NO(t, x)*O3(t, x) - k_4*V_NOO3(t, x) - l*NO(t, x) + E_{NO}(x) - NO(t, x)*Derivative(u(x), x) + NO2(t, x)*k_3(t) - u(x)*Derivative(NO(t, x), x))"
      ]
     },
     "metadata": {},
     "output_type": "display_data"
    },
    {
     "data": {
      "text/latex": [
       "$\\displaystyle \\frac{\\partial}{\\partial t} \\operatorname{NO_{2}}{\\left(t,x \\right)} = k_{2} \\operatorname{NO}{\\left(t,x \\right)} \\operatorname{RP}{\\left(t,x \\right)} + k_{2} \\operatorname{V_{RPNO}}{\\left(t,x \\right)} + k_{4} \\operatorname{NO}{\\left(t,x \\right)} \\operatorname{O_{3}}{\\left(t,x \\right)} + k_{4} \\operatorname{V_{NOO3}}{\\left(t,x \\right)} - 2 k_{6} \\operatorname{NO_{2}}{\\left(t,x \\right)} \\operatorname{RP}{\\left(t,x \\right)} - 2 k_{6} \\operatorname{V_{RPNO2}}{\\left(t,x \\right)} - l \\operatorname{NO_{2}}{\\left(t,x \\right)} + \\operatorname{E_{NO2}}{\\left(x \\right)} - \\operatorname{NO_{2}}{\\left(t,x \\right)} \\operatorname{k_{3}}{\\left(t \\right)} - \\operatorname{NO_{2}}{\\left(t,x \\right)} \\frac{d}{d x} u{\\left(x \\right)} - u{\\left(x \\right)} \\frac{\\partial}{\\partial x} \\operatorname{NO_{2}}{\\left(t,x \\right)}$"
      ],
      "text/plain": [
       "Eq(Derivative(NO2(t, x), t), k_2*NO(t, x)*RP(t, x) + k_2*V_RPNO(t, x) + k_4*NO(t, x)*O3(t, x) + k_4*V_NOO3(t, x) - 2*k_6*NO2(t, x)*RP(t, x) - 2*k_6*V_RPNO2(t, x) - l*NO2(t, x) + E_{NO2}(x) - NO2(t, x)*k_3(t) - NO2(t, x)*Derivative(u(x), x) - u(x)*Derivative(NO2(t, x), x))"
      ]
     },
     "metadata": {},
     "output_type": "display_data"
    },
    {
     "data": {
      "text/latex": [
       "$\\displaystyle \\frac{\\partial}{\\partial t} \\operatorname{O_{3}}{\\left(t,x \\right)} = - k_{4} \\operatorname{NO}{\\left(t,x \\right)} \\operatorname{O_{3}}{\\left(t,x \\right)} - k_{4} \\operatorname{V_{NOO3}}{\\left(t,x \\right)} - l \\operatorname{O_{3}}{\\left(t,x \\right)} + \\operatorname{NO_{2}}{\\left(t,x \\right)} \\operatorname{k_{3}}{\\left(t \\right)} - \\operatorname{O_{3}}{\\left(t,x \\right)} \\frac{d}{d x} u{\\left(x \\right)} - u{\\left(x \\right)} \\frac{\\partial}{\\partial x} \\operatorname{O_{3}}{\\left(t,x \\right)}$"
      ],
      "text/plain": [
       "Eq(Derivative(O3(t, x), t), -k_4*NO(t, x)*O3(t, x) - k_4*V_NOO3(t, x) - l*O3(t, x) + NO2(t, x)*k_3(t) - O3(t, x)*Derivative(u(x), x) - u(x)*Derivative(O3(t, x), x))"
      ]
     },
     "metadata": {},
     "output_type": "display_data"
    },
    {
     "data": {
      "text/latex": [
       "$\\displaystyle \\frac{\\partial}{\\partial t} \\operatorname{SNGN}{\\left(t,x \\right)} = 2 k_{6} \\operatorname{NO_{2}}{\\left(t,x \\right)} \\operatorname{RP}{\\left(t,x \\right)} + 2 k_{6} \\operatorname{V_{RPNO2}}{\\left(t,x \\right)} - l \\operatorname{SNGN}{\\left(t,x \\right)} - \\operatorname{SNGN}{\\left(t,x \\right)} \\frac{d}{d x} u{\\left(x \\right)} - u{\\left(x \\right)} \\frac{\\partial}{\\partial x} \\operatorname{SNGN}{\\left(t,x \\right)}$"
      ],
      "text/plain": [
       "Eq(Derivative(SNGN(t, x), t), 2*k_6*NO2(t, x)*RP(t, x) + 2*k_6*V_RPNO2(t, x) - l*SNGN(t, x) - SNGN(t, x)*Derivative(u(x), x) - u(x)*Derivative(SNGN(t, x), x))"
      ]
     },
     "metadata": {},
     "output_type": "display_data"
    },
    {
     "data": {
      "text/latex": [
       "$\\displaystyle \\frac{\\partial}{\\partial t} \\operatorname{{V_{ROC}}}{\\left(t,x \\right)} = - 2 l \\operatorname{{V_{ROC}}}{\\left(t,x \\right)} - u{\\left(x \\right)} \\frac{\\partial}{\\partial x} \\operatorname{{V_{ROC}}}{\\left(t,x \\right)} - 2 \\operatorname{{V_{ROC}}}{\\left(t,x \\right)} \\frac{d}{d x} u{\\left(x \\right)}$"
      ],
      "text/plain": [
       "Eq(Derivative({V_{ROC}}(t, x), t), -2*l*{V_{ROC}}(t, x) - u(x)*Derivative({V_{ROC}}(t, x), x) - 2*{V_{ROC}}(t, x)*Derivative(u(x), x))"
      ]
     },
     "metadata": {},
     "output_type": "display_data"
    },
    {
     "data": {
      "text/latex": [
       "$\\displaystyle \\frac{\\partial}{\\partial t} \\operatorname{{V_{RP}}}{\\left(t,x \\right)} = - 2 k_{2} \\operatorname{NO}{\\left(t,x \\right)} \\operatorname{{V_{RP}}}{\\left(t,x \\right)} - 2 k_{2} \\operatorname{RP}{\\left(t,x \\right)} \\operatorname{V_{RPNO}}{\\left(t,x \\right)} - 4 k_{5} \\operatorname{RP}{\\left(t,x \\right)} \\operatorname{{V_{RP}}}{\\left(t,x \\right)} - 4 k_{6} \\operatorname{NO_{2}}{\\left(t,x \\right)} \\operatorname{{V_{RP}}}{\\left(t,x \\right)} - 4 k_{6} \\operatorname{RP}{\\left(t,x \\right)} \\operatorname{V_{RPNO2}}{\\left(t,x \\right)} - 2 l \\operatorname{{V_{RP}}}{\\left(t,x \\right)} + 2 \\operatorname{V_{ROCRP}}{\\left(t,x \\right)} \\operatorname{k_{1}}{\\left(t \\right)} - u{\\left(x \\right)} \\frac{\\partial}{\\partial x} \\operatorname{{V_{RP}}}{\\left(t,x \\right)} - 2 \\operatorname{{V_{RP}}}{\\left(t,x \\right)} \\frac{d}{d x} u{\\left(x \\right)}$"
      ],
      "text/plain": [
       "Eq(Derivative({V_{RP}}(t, x), t), -2*k_2*NO(t, x)*{V_{RP}}(t, x) - 2*k_2*RP(t, x)*V_RPNO(t, x) - 4*k_5*RP(t, x)*{V_{RP}}(t, x) - 4*k_6*NO2(t, x)*{V_{RP}}(t, x) - 4*k_6*RP(t, x)*V_RPNO2(t, x) - 2*l*{V_{RP}}(t, x) + 2*V_ROCRP(t, x)*k_1(t) - u(x)*Derivative({V_{RP}}(t, x), x) - 2*{V_{RP}}(t, x)*Derivative(u(x), x))"
      ]
     },
     "metadata": {},
     "output_type": "display_data"
    },
    {
     "data": {
      "text/latex": [
       "$\\displaystyle \\frac{\\partial}{\\partial t} \\operatorname{{V_{NO}}}{\\left(t,x \\right)} = - 2 k_{2} \\operatorname{NO}{\\left(t,x \\right)} \\operatorname{V_{RPNO}}{\\left(t,x \\right)} - 2 k_{2} \\operatorname{RP}{\\left(t,x \\right)} \\operatorname{{V_{NO}}}{\\left(t,x \\right)} - 2 k_{4} \\operatorname{NO}{\\left(t,x \\right)} \\operatorname{V_{NOO3}}{\\left(t,x \\right)} - 2 k_{4} \\operatorname{O_{3}}{\\left(t,x \\right)} \\operatorname{{V_{NO}}}{\\left(t,x \\right)} - 2 l \\operatorname{{V_{NO}}}{\\left(t,x \\right)} + 2 \\operatorname{V_{NONO2}}{\\left(t,x \\right)} \\operatorname{k_{3}}{\\left(t \\right)} - u{\\left(x \\right)} \\frac{\\partial}{\\partial x} \\operatorname{{V_{NO}}}{\\left(t,x \\right)} - 2 \\operatorname{{V_{NO}}}{\\left(t,x \\right)} \\frac{d}{d x} u{\\left(x \\right)}$"
      ],
      "text/plain": [
       "Eq(Derivative({V_{NO}}(t, x), t), -2*k_2*NO(t, x)*V_RPNO(t, x) - 2*k_2*RP(t, x)*{V_{NO}}(t, x) - 2*k_4*NO(t, x)*V_NOO3(t, x) - 2*k_4*O3(t, x)*{V_{NO}}(t, x) - 2*l*{V_{NO}}(t, x) + 2*V_NONO2(t, x)*k_3(t) - u(x)*Derivative({V_{NO}}(t, x), x) - 2*{V_{NO}}(t, x)*Derivative(u(x), x))"
      ]
     },
     "metadata": {},
     "output_type": "display_data"
    },
    {
     "data": {
      "text/latex": [
       "$\\displaystyle \\frac{\\partial}{\\partial t} \\operatorname{{V_{NO2}}}{\\left(t,x \\right)} = 2 k_{2} \\operatorname{NO}{\\left(t,x \\right)} \\operatorname{V_{RPNO2}}{\\left(t,x \\right)} + 2 k_{2} \\operatorname{RP}{\\left(t,x \\right)} \\operatorname{V_{NONO2}}{\\left(t,x \\right)} + 2 k_{4} \\operatorname{NO}{\\left(t,x \\right)} \\operatorname{V_{NO2O3}}{\\left(t,x \\right)} + 2 k_{4} \\operatorname{O_{3}}{\\left(t,x \\right)} \\operatorname{V_{NONO2}}{\\left(t,x \\right)} - 4 k_{6} \\operatorname{NO_{2}}{\\left(t,x \\right)} \\operatorname{V_{RPNO2}}{\\left(t,x \\right)} - 4 k_{6} \\operatorname{RP}{\\left(t,x \\right)} \\operatorname{{V_{NO2}}}{\\left(t,x \\right)} - 2 l \\operatorname{{V_{NO2}}}{\\left(t,x \\right)} - 2 \\operatorname{k_{3}}{\\left(t \\right)} \\operatorname{{V_{NO2}}}{\\left(t,x \\right)} - u{\\left(x \\right)} \\frac{\\partial}{\\partial x} \\operatorname{{V_{NO2}}}{\\left(t,x \\right)} - 2 \\operatorname{{V_{NO2}}}{\\left(t,x \\right)} \\frac{d}{d x} u{\\left(x \\right)}$"
      ],
      "text/plain": [
       "Eq(Derivative({V_{NO2}}(t, x), t), 2*k_2*NO(t, x)*V_RPNO2(t, x) + 2*k_2*RP(t, x)*V_NONO2(t, x) + 2*k_4*NO(t, x)*V_NO2O3(t, x) + 2*k_4*O3(t, x)*V_NONO2(t, x) - 4*k_6*NO2(t, x)*V_RPNO2(t, x) - 4*k_6*RP(t, x)*{V_{NO2}}(t, x) - 2*l*{V_{NO2}}(t, x) - 2*k_3(t)*{V_{NO2}}(t, x) - u(x)*Derivative({V_{NO2}}(t, x), x) - 2*{V_{NO2}}(t, x)*Derivative(u(x), x))"
      ]
     },
     "metadata": {},
     "output_type": "display_data"
    },
    {
     "data": {
      "text/latex": [
       "$\\displaystyle \\frac{\\partial}{\\partial t} \\operatorname{{V_{O3}}}{\\left(t,x \\right)} = - 2 k_{4} \\operatorname{NO}{\\left(t,x \\right)} \\operatorname{{V_{O3}}}{\\left(t,x \\right)} - 2 k_{4} \\operatorname{O_{3}}{\\left(t,x \\right)} \\operatorname{V_{NOO3}}{\\left(t,x \\right)} - 2 l \\operatorname{{V_{O3}}}{\\left(t,x \\right)} + 2 \\operatorname{V_{NO2O3}}{\\left(t,x \\right)} \\operatorname{k_{3}}{\\left(t \\right)} - u{\\left(x \\right)} \\frac{\\partial}{\\partial x} \\operatorname{{V_{O3}}}{\\left(t,x \\right)} - 2 \\operatorname{{V_{O3}}}{\\left(t,x \\right)} \\frac{d}{d x} u{\\left(x \\right)}$"
      ],
      "text/plain": [
       "Eq(Derivative({V_{O3}}(t, x), t), -2*k_4*NO(t, x)*{V_{O3}}(t, x) - 2*k_4*O3(t, x)*V_NOO3(t, x) - 2*l*{V_{O3}}(t, x) + 2*V_NO2O3(t, x)*k_3(t) - u(x)*Derivative({V_{O3}}(t, x), x) - 2*{V_{O3}}(t, x)*Derivative(u(x), x))"
      ]
     },
     "metadata": {},
     "output_type": "display_data"
    },
    {
     "data": {
      "text/latex": [
       "$\\displaystyle \\frac{\\partial}{\\partial t} \\operatorname{{V_{SNGN}}}{\\left(t,x \\right)} = 4 k_{6} \\operatorname{NO_{2}}{\\left(t,x \\right)} \\operatorname{V_{RPSNGN}}{\\left(t,x \\right)} + 4 k_{6} \\operatorname{RP}{\\left(t,x \\right)} \\operatorname{V_{NO2SNGN}}{\\left(t,x \\right)} - 2 l \\operatorname{{V_{SNGN}}}{\\left(t,x \\right)} - u{\\left(x \\right)} \\frac{\\partial}{\\partial x} \\operatorname{{V_{SNGN}}}{\\left(t,x \\right)} - 2 \\operatorname{{V_{SNGN}}}{\\left(t,x \\right)} \\frac{d}{d x} u{\\left(x \\right)}$"
      ],
      "text/plain": [
       "Eq(Derivative({V_{SNGN}}(t, x), t), 4*k_6*NO2(t, x)*V_RPSNGN(t, x) + 4*k_6*RP(t, x)*V_NO2SNGN(t, x) - 2*l*{V_{SNGN}}(t, x) - u(x)*Derivative({V_{SNGN}}(t, x), x) - 2*{V_{SNGN}}(t, x)*Derivative(u(x), x))"
      ]
     },
     "metadata": {},
     "output_type": "display_data"
    },
    {
     "data": {
      "text/latex": [
       "$\\displaystyle \\frac{\\partial}{\\partial t} \\operatorname{V_{ROCRP}}{\\left(t,x \\right)} = - k_{2} \\operatorname{NO}{\\left(t,x \\right)} \\operatorname{V_{ROCRP}}{\\left(t,x \\right)} - k_{2} \\operatorname{RP}{\\left(t,x \\right)} \\operatorname{V_{ROCNO}}{\\left(t,x \\right)} - 2 k_{5} \\operatorname{RP}{\\left(t,x \\right)} \\operatorname{V_{ROCRP}}{\\left(t,x \\right)} - 2 k_{6} \\operatorname{NO_{2}}{\\left(t,x \\right)} \\operatorname{V_{ROCRP}}{\\left(t,x \\right)} - 2 k_{6} \\operatorname{RP}{\\left(t,x \\right)} \\operatorname{V_{ROCNO2}}{\\left(t,x \\right)} - 2 l \\operatorname{V_{ROCRP}}{\\left(t,x \\right)} - \\frac{\\operatorname{V_{ROCRP}}{\\left(t,x \\right)} u{\\left(x \\right)} \\frac{\\partial}{\\partial x} \\operatorname{{V_{RP}}}{\\left(t,x \\right)}}{2 \\operatorname{{V_{RP}}}{\\left(t,x \\right)}} - \\frac{\\operatorname{V_{ROCRP}}{\\left(t,x \\right)} u{\\left(x \\right)} \\frac{\\partial}{\\partial x} \\operatorname{{V_{ROC}}}{\\left(t,x \\right)}}{2 \\operatorname{{V_{ROC}}}{\\left(t,x \\right)}} - 2 \\operatorname{V_{ROCRP}}{\\left(t,x \\right)} \\frac{d}{d x} u{\\left(x \\right)} + \\operatorname{k_{1}}{\\left(t \\right)} \\operatorname{{V_{ROC}}}{\\left(t,x \\right)} - u{\\left(x \\right)} \\sqrt{\\operatorname{{V_{ROC}}}{\\left(t,x \\right)}} \\sqrt{\\operatorname{{V_{RP}}}{\\left(t,x \\right)}} {\\mathbb E}\\left(\\operatorname{{\\varepsilon_{ROC}}}{\\left(t,x,\\omega \\right)} \\frac{\\partial}{\\partial x} \\operatorname{{\\varepsilon_{RP}}}{\\left(t,x,\\omega \\right)}\\right) - u{\\left(x \\right)} \\sqrt{\\operatorname{{V_{ROC}}}{\\left(t,x \\right)}} \\sqrt{\\operatorname{{V_{RP}}}{\\left(t,x \\right)}} {\\mathbb E}\\left(\\operatorname{{\\varepsilon_{RP}}}{\\left(t,x,\\omega \\right)} \\frac{\\partial}{\\partial x} \\operatorname{{\\varepsilon_{ROC}}}{\\left(t,x,\\omega \\right)}\\right)$"
      ],
      "text/plain": [
       "Eq(Derivative(V_ROCRP(t, x), t), -k_2*NO(t, x)*V_ROCRP(t, x) - k_2*RP(t, x)*V_ROCNO(t, x) - 2*k_5*RP(t, x)*V_ROCRP(t, x) - 2*k_6*NO2(t, x)*V_ROCRP(t, x) - 2*k_6*RP(t, x)*V_ROCNO2(t, x) - 2*l*V_ROCRP(t, x) - V_ROCRP(t, x)*u(x)*Derivative({V_{RP}}(t, x), x)/(2*{V_{RP}}(t, x)) - V_ROCRP(t, x)*u(x)*Derivative({V_{ROC}}(t, x), x)/(2*{V_{ROC}}(t, x)) - 2*V_ROCRP(t, x)*Derivative(u(x), x) + k_1(t)*{V_{ROC}}(t, x) - u(x)*sqrt({V_{ROC}}(t, x))*sqrt({V_{RP}}(t, x))*Expectation({\\varepsilon_{ROC}}(t, x, omega)*Derivative({\\varepsilon_{RP}}(t, x, omega), x)) - u(x)*sqrt({V_{ROC}}(t, x))*sqrt({V_{RP}}(t, x))*Expectation({\\varepsilon_{RP}}(t, x, omega)*Derivative({\\varepsilon_{ROC}}(t, x, omega), x)))"
      ]
     },
     "metadata": {},
     "output_type": "display_data"
    },
    {
     "data": {
      "text/latex": [
       "$\\displaystyle \\frac{\\partial}{\\partial t} \\operatorname{V_{ROCNO}}{\\left(t,x \\right)} = - k_{2} \\operatorname{NO}{\\left(t,x \\right)} \\operatorname{V_{ROCRP}}{\\left(t,x \\right)} - k_{2} \\operatorname{RP}{\\left(t,x \\right)} \\operatorname{V_{ROCNO}}{\\left(t,x \\right)} - k_{4} \\operatorname{NO}{\\left(t,x \\right)} \\operatorname{V_{ROCO3}}{\\left(t,x \\right)} - k_{4} \\operatorname{O_{3}}{\\left(t,x \\right)} \\operatorname{V_{ROCNO}}{\\left(t,x \\right)} - 2 l \\operatorname{V_{ROCNO}}{\\left(t,x \\right)} - \\frac{\\operatorname{V_{ROCNO}}{\\left(t,x \\right)} u{\\left(x \\right)} \\frac{\\partial}{\\partial x} \\operatorname{{V_{ROC}}}{\\left(t,x \\right)}}{2 \\operatorname{{V_{ROC}}}{\\left(t,x \\right)}} - \\frac{\\operatorname{V_{ROCNO}}{\\left(t,x \\right)} u{\\left(x \\right)} \\frac{\\partial}{\\partial x} \\operatorname{{V_{NO}}}{\\left(t,x \\right)}}{2 \\operatorname{{V_{NO}}}{\\left(t,x \\right)}} - 2 \\operatorname{V_{ROCNO}}{\\left(t,x \\right)} \\frac{d}{d x} u{\\left(x \\right)} + \\operatorname{V_{ROCNO2}}{\\left(t,x \\right)} \\operatorname{k_{3}}{\\left(t \\right)} - u{\\left(x \\right)} \\sqrt{\\operatorname{{V_{NO}}}{\\left(t,x \\right)}} \\sqrt{\\operatorname{{V_{ROC}}}{\\left(t,x \\right)}} {\\mathbb E}\\left(\\operatorname{{\\varepsilon_{NO}}}{\\left(t,x,\\omega \\right)} \\frac{\\partial}{\\partial x} \\operatorname{{\\varepsilon_{ROC}}}{\\left(t,x,\\omega \\right)}\\right) - u{\\left(x \\right)} \\sqrt{\\operatorname{{V_{NO}}}{\\left(t,x \\right)}} \\sqrt{\\operatorname{{V_{ROC}}}{\\left(t,x \\right)}} {\\mathbb E}\\left(\\operatorname{{\\varepsilon_{ROC}}}{\\left(t,x,\\omega \\right)} \\frac{\\partial}{\\partial x} \\operatorname{{\\varepsilon_{NO}}}{\\left(t,x,\\omega \\right)}\\right)$"
      ],
      "text/plain": [
       "Eq(Derivative(V_ROCNO(t, x), t), -k_2*NO(t, x)*V_ROCRP(t, x) - k_2*RP(t, x)*V_ROCNO(t, x) - k_4*NO(t, x)*V_ROCO3(t, x) - k_4*O3(t, x)*V_ROCNO(t, x) - 2*l*V_ROCNO(t, x) - V_ROCNO(t, x)*u(x)*Derivative({V_{ROC}}(t, x), x)/(2*{V_{ROC}}(t, x)) - V_ROCNO(t, x)*u(x)*Derivative({V_{NO}}(t, x), x)/(2*{V_{NO}}(t, x)) - 2*V_ROCNO(t, x)*Derivative(u(x), x) + V_ROCNO2(t, x)*k_3(t) - u(x)*sqrt({V_{NO}}(t, x))*sqrt({V_{ROC}}(t, x))*Expectation({\\varepsilon_{NO}}(t, x, omega)*Derivative({\\varepsilon_{ROC}}(t, x, omega), x)) - u(x)*sqrt({V_{NO}}(t, x))*sqrt({V_{ROC}}(t, x))*Expectation({\\varepsilon_{ROC}}(t, x, omega)*Derivative({\\varepsilon_{NO}}(t, x, omega), x)))"
      ]
     },
     "metadata": {},
     "output_type": "display_data"
    },
    {
     "data": {
      "text/latex": [
       "$\\displaystyle \\frac{\\partial}{\\partial t} \\operatorname{V_{ROCNO2}}{\\left(t,x \\right)} = k_{2} \\operatorname{NO}{\\left(t,x \\right)} \\operatorname{V_{ROCRP}}{\\left(t,x \\right)} + k_{2} \\operatorname{RP}{\\left(t,x \\right)} \\operatorname{V_{ROCNO}}{\\left(t,x \\right)} + k_{4} \\operatorname{NO}{\\left(t,x \\right)} \\operatorname{V_{ROCO3}}{\\left(t,x \\right)} + k_{4} \\operatorname{O_{3}}{\\left(t,x \\right)} \\operatorname{V_{ROCNO}}{\\left(t,x \\right)} - 2 k_{6} \\operatorname{NO_{2}}{\\left(t,x \\right)} \\operatorname{V_{ROCRP}}{\\left(t,x \\right)} - 2 k_{6} \\operatorname{RP}{\\left(t,x \\right)} \\operatorname{V_{ROCNO2}}{\\left(t,x \\right)} - 2 l \\operatorname{V_{ROCNO2}}{\\left(t,x \\right)} - \\operatorname{V_{ROCNO2}}{\\left(t,x \\right)} \\operatorname{k_{3}}{\\left(t \\right)} - \\frac{\\operatorname{V_{ROCNO2}}{\\left(t,x \\right)} u{\\left(x \\right)} \\frac{\\partial}{\\partial x} \\operatorname{{V_{ROC}}}{\\left(t,x \\right)}}{2 \\operatorname{{V_{ROC}}}{\\left(t,x \\right)}} - \\frac{\\operatorname{V_{ROCNO2}}{\\left(t,x \\right)} u{\\left(x \\right)} \\frac{\\partial}{\\partial x} \\operatorname{{V_{NO2}}}{\\left(t,x \\right)}}{2 \\operatorname{{V_{NO2}}}{\\left(t,x \\right)}} - 2 \\operatorname{V_{ROCNO2}}{\\left(t,x \\right)} \\frac{d}{d x} u{\\left(x \\right)} - u{\\left(x \\right)} \\sqrt{\\operatorname{{V_{NO2}}}{\\left(t,x \\right)}} \\sqrt{\\operatorname{{V_{ROC}}}{\\left(t,x \\right)}} {\\mathbb E}\\left(\\operatorname{{\\varepsilon_{NO2}}}{\\left(t,x,\\omega \\right)} \\frac{\\partial}{\\partial x} \\operatorname{{\\varepsilon_{ROC}}}{\\left(t,x,\\omega \\right)}\\right) - u{\\left(x \\right)} \\sqrt{\\operatorname{{V_{NO2}}}{\\left(t,x \\right)}} \\sqrt{\\operatorname{{V_{ROC}}}{\\left(t,x \\right)}} {\\mathbb E}\\left(\\operatorname{{\\varepsilon_{ROC}}}{\\left(t,x,\\omega \\right)} \\frac{\\partial}{\\partial x} \\operatorname{{\\varepsilon_{NO2}}}{\\left(t,x,\\omega \\right)}\\right)$"
      ],
      "text/plain": [
       "Eq(Derivative(V_ROCNO2(t, x), t), k_2*NO(t, x)*V_ROCRP(t, x) + k_2*RP(t, x)*V_ROCNO(t, x) + k_4*NO(t, x)*V_ROCO3(t, x) + k_4*O3(t, x)*V_ROCNO(t, x) - 2*k_6*NO2(t, x)*V_ROCRP(t, x) - 2*k_6*RP(t, x)*V_ROCNO2(t, x) - 2*l*V_ROCNO2(t, x) - V_ROCNO2(t, x)*k_3(t) - V_ROCNO2(t, x)*u(x)*Derivative({V_{ROC}}(t, x), x)/(2*{V_{ROC}}(t, x)) - V_ROCNO2(t, x)*u(x)*Derivative({V_{NO2}}(t, x), x)/(2*{V_{NO2}}(t, x)) - 2*V_ROCNO2(t, x)*Derivative(u(x), x) - u(x)*sqrt({V_{NO2}}(t, x))*sqrt({V_{ROC}}(t, x))*Expectation({\\varepsilon_{NO2}}(t, x, omega)*Derivative({\\varepsilon_{ROC}}(t, x, omega), x)) - u(x)*sqrt({V_{NO2}}(t, x))*sqrt({V_{ROC}}(t, x))*Expectation({\\varepsilon_{ROC}}(t, x, omega)*Derivative({\\varepsilon_{NO2}}(t, x, omega), x)))"
      ]
     },
     "metadata": {},
     "output_type": "display_data"
    },
    {
     "data": {
      "text/latex": [
       "$\\displaystyle \\frac{\\partial}{\\partial t} \\operatorname{V_{ROCO3}}{\\left(t,x \\right)} = - k_{4} \\operatorname{NO}{\\left(t,x \\right)} \\operatorname{V_{ROCO3}}{\\left(t,x \\right)} - k_{4} \\operatorname{O_{3}}{\\left(t,x \\right)} \\operatorname{V_{ROCNO}}{\\left(t,x \\right)} - 2 l \\operatorname{V_{ROCO3}}{\\left(t,x \\right)} + \\operatorname{V_{ROCNO2}}{\\left(t,x \\right)} \\operatorname{k_{3}}{\\left(t \\right)} - \\frac{\\operatorname{V_{ROCO3}}{\\left(t,x \\right)} u{\\left(x \\right)} \\frac{\\partial}{\\partial x} \\operatorname{{V_{ROC}}}{\\left(t,x \\right)}}{2 \\operatorname{{V_{ROC}}}{\\left(t,x \\right)}} - \\frac{\\operatorname{V_{ROCO3}}{\\left(t,x \\right)} u{\\left(x \\right)} \\frac{\\partial}{\\partial x} \\operatorname{{V_{O3}}}{\\left(t,x \\right)}}{2 \\operatorname{{V_{O3}}}{\\left(t,x \\right)}} - 2 \\operatorname{V_{ROCO3}}{\\left(t,x \\right)} \\frac{d}{d x} u{\\left(x \\right)} - u{\\left(x \\right)} \\sqrt{\\operatorname{{V_{O3}}}{\\left(t,x \\right)}} \\sqrt{\\operatorname{{V_{ROC}}}{\\left(t,x \\right)}} {\\mathbb E}\\left(\\operatorname{{\\varepsilon_{O3}}}{\\left(t,x,\\omega \\right)} \\frac{\\partial}{\\partial x} \\operatorname{{\\varepsilon_{ROC}}}{\\left(t,x,\\omega \\right)}\\right) - u{\\left(x \\right)} \\sqrt{\\operatorname{{V_{O3}}}{\\left(t,x \\right)}} \\sqrt{\\operatorname{{V_{ROC}}}{\\left(t,x \\right)}} {\\mathbb E}\\left(\\operatorname{{\\varepsilon_{ROC}}}{\\left(t,x,\\omega \\right)} \\frac{\\partial}{\\partial x} \\operatorname{{\\varepsilon_{O3}}}{\\left(t,x,\\omega \\right)}\\right)$"
      ],
      "text/plain": [
       "Eq(Derivative(V_ROCO3(t, x), t), -k_4*NO(t, x)*V_ROCO3(t, x) - k_4*O3(t, x)*V_ROCNO(t, x) - 2*l*V_ROCO3(t, x) + V_ROCNO2(t, x)*k_3(t) - V_ROCO3(t, x)*u(x)*Derivative({V_{ROC}}(t, x), x)/(2*{V_{ROC}}(t, x)) - V_ROCO3(t, x)*u(x)*Derivative({V_{O3}}(t, x), x)/(2*{V_{O3}}(t, x)) - 2*V_ROCO3(t, x)*Derivative(u(x), x) - u(x)*sqrt({V_{O3}}(t, x))*sqrt({V_{ROC}}(t, x))*Expectation({\\varepsilon_{O3}}(t, x, omega)*Derivative({\\varepsilon_{ROC}}(t, x, omega), x)) - u(x)*sqrt({V_{O3}}(t, x))*sqrt({V_{ROC}}(t, x))*Expectation({\\varepsilon_{ROC}}(t, x, omega)*Derivative({\\varepsilon_{O3}}(t, x, omega), x)))"
      ]
     },
     "metadata": {},
     "output_type": "display_data"
    },
    {
     "data": {
      "text/latex": [
       "$\\displaystyle \\frac{\\partial}{\\partial t} \\operatorname{V_{ROCSNGN}}{\\left(t,x \\right)} = 2 k_{6} \\operatorname{NO_{2}}{\\left(t,x \\right)} \\operatorname{V_{ROCRP}}{\\left(t,x \\right)} + 2 k_{6} \\operatorname{RP}{\\left(t,x \\right)} \\operatorname{V_{ROCNO2}}{\\left(t,x \\right)} - 2 l \\operatorname{V_{ROCSNGN}}{\\left(t,x \\right)} - \\frac{\\operatorname{V_{ROCSNGN}}{\\left(t,x \\right)} u{\\left(x \\right)} \\frac{\\partial}{\\partial x} \\operatorname{{V_{SNGN}}}{\\left(t,x \\right)}}{2 \\operatorname{{V_{SNGN}}}{\\left(t,x \\right)}} - \\frac{\\operatorname{V_{ROCSNGN}}{\\left(t,x \\right)} u{\\left(x \\right)} \\frac{\\partial}{\\partial x} \\operatorname{{V_{ROC}}}{\\left(t,x \\right)}}{2 \\operatorname{{V_{ROC}}}{\\left(t,x \\right)}} - 2 \\operatorname{V_{ROCSNGN}}{\\left(t,x \\right)} \\frac{d}{d x} u{\\left(x \\right)} - u{\\left(x \\right)} \\sqrt{\\operatorname{{V_{ROC}}}{\\left(t,x \\right)}} \\sqrt{\\operatorname{{V_{SNGN}}}{\\left(t,x \\right)}} {\\mathbb E}\\left(\\operatorname{{\\varepsilon_{ROC}}}{\\left(t,x,\\omega \\right)} \\frac{\\partial}{\\partial x} \\operatorname{{\\varepsilon_{SNGN}}}{\\left(t,x,\\omega \\right)}\\right) - u{\\left(x \\right)} \\sqrt{\\operatorname{{V_{ROC}}}{\\left(t,x \\right)}} \\sqrt{\\operatorname{{V_{SNGN}}}{\\left(t,x \\right)}} {\\mathbb E}\\left(\\operatorname{{\\varepsilon_{SNGN}}}{\\left(t,x,\\omega \\right)} \\frac{\\partial}{\\partial x} \\operatorname{{\\varepsilon_{ROC}}}{\\left(t,x,\\omega \\right)}\\right)$"
      ],
      "text/plain": [
       "Eq(Derivative(V_ROCSNGN(t, x), t), 2*k_6*NO2(t, x)*V_ROCRP(t, x) + 2*k_6*RP(t, x)*V_ROCNO2(t, x) - 2*l*V_ROCSNGN(t, x) - V_ROCSNGN(t, x)*u(x)*Derivative({V_{SNGN}}(t, x), x)/(2*{V_{SNGN}}(t, x)) - V_ROCSNGN(t, x)*u(x)*Derivative({V_{ROC}}(t, x), x)/(2*{V_{ROC}}(t, x)) - 2*V_ROCSNGN(t, x)*Derivative(u(x), x) - u(x)*sqrt({V_{ROC}}(t, x))*sqrt({V_{SNGN}}(t, x))*Expectation({\\varepsilon_{ROC}}(t, x, omega)*Derivative({\\varepsilon_{SNGN}}(t, x, omega), x)) - u(x)*sqrt({V_{ROC}}(t, x))*sqrt({V_{SNGN}}(t, x))*Expectation({\\varepsilon_{SNGN}}(t, x, omega)*Derivative({\\varepsilon_{ROC}}(t, x, omega), x)))"
      ]
     },
     "metadata": {},
     "output_type": "display_data"
    },
    {
     "data": {
      "text/latex": [
       "$\\displaystyle \\frac{\\partial}{\\partial t} \\operatorname{V_{RPNO}}{\\left(t,x \\right)} = - k_{2} \\operatorname{NO}{\\left(t,x \\right)} \\operatorname{V_{RPNO}}{\\left(t,x \\right)} - k_{2} \\operatorname{NO}{\\left(t,x \\right)} \\operatorname{{V_{RP}}}{\\left(t,x \\right)} - k_{2} \\operatorname{RP}{\\left(t,x \\right)} \\operatorname{V_{RPNO}}{\\left(t,x \\right)} - k_{2} \\operatorname{RP}{\\left(t,x \\right)} \\operatorname{{V_{NO}}}{\\left(t,x \\right)} - k_{4} \\operatorname{NO}{\\left(t,x \\right)} \\operatorname{V_{RPO3}}{\\left(t,x \\right)} - k_{4} \\operatorname{O_{3}}{\\left(t,x \\right)} \\operatorname{V_{RPNO}}{\\left(t,x \\right)} - 2 k_{5} \\operatorname{RP}{\\left(t,x \\right)} \\operatorname{V_{RPNO}}{\\left(t,x \\right)} - 2 k_{6} \\operatorname{NO_{2}}{\\left(t,x \\right)} \\operatorname{V_{RPNO}}{\\left(t,x \\right)} - 2 k_{6} \\operatorname{RP}{\\left(t,x \\right)} \\operatorname{V_{NONO2}}{\\left(t,x \\right)} - 2 l \\operatorname{V_{RPNO}}{\\left(t,x \\right)} + \\operatorname{V_{ROCNO}}{\\left(t,x \\right)} \\operatorname{k_{1}}{\\left(t \\right)} - \\frac{\\operatorname{V_{RPNO}}{\\left(t,x \\right)} u{\\left(x \\right)} \\frac{\\partial}{\\partial x} \\operatorname{{V_{RP}}}{\\left(t,x \\right)}}{2 \\operatorname{{V_{RP}}}{\\left(t,x \\right)}} - \\frac{\\operatorname{V_{RPNO}}{\\left(t,x \\right)} u{\\left(x \\right)} \\frac{\\partial}{\\partial x} \\operatorname{{V_{NO}}}{\\left(t,x \\right)}}{2 \\operatorname{{V_{NO}}}{\\left(t,x \\right)}} - 2 \\operatorname{V_{RPNO}}{\\left(t,x \\right)} \\frac{d}{d x} u{\\left(x \\right)} + \\operatorname{V_{RPNO2}}{\\left(t,x \\right)} \\operatorname{k_{3}}{\\left(t \\right)} - u{\\left(x \\right)} \\sqrt{\\operatorname{{V_{NO}}}{\\left(t,x \\right)}} \\sqrt{\\operatorname{{V_{RP}}}{\\left(t,x \\right)}} {\\mathbb E}\\left(\\operatorname{{\\varepsilon_{NO}}}{\\left(t,x,\\omega \\right)} \\frac{\\partial}{\\partial x} \\operatorname{{\\varepsilon_{RP}}}{\\left(t,x,\\omega \\right)}\\right) - u{\\left(x \\right)} \\sqrt{\\operatorname{{V_{NO}}}{\\left(t,x \\right)}} \\sqrt{\\operatorname{{V_{RP}}}{\\left(t,x \\right)}} {\\mathbb E}\\left(\\operatorname{{\\varepsilon_{RP}}}{\\left(t,x,\\omega \\right)} \\frac{\\partial}{\\partial x} \\operatorname{{\\varepsilon_{NO}}}{\\left(t,x,\\omega \\right)}\\right)$"
      ],
      "text/plain": [
       "Eq(Derivative(V_RPNO(t, x), t), -k_2*NO(t, x)*V_RPNO(t, x) - k_2*NO(t, x)*{V_{RP}}(t, x) - k_2*RP(t, x)*V_RPNO(t, x) - k_2*RP(t, x)*{V_{NO}}(t, x) - k_4*NO(t, x)*V_RPO3(t, x) - k_4*O3(t, x)*V_RPNO(t, x) - 2*k_5*RP(t, x)*V_RPNO(t, x) - 2*k_6*NO2(t, x)*V_RPNO(t, x) - 2*k_6*RP(t, x)*V_NONO2(t, x) - 2*l*V_RPNO(t, x) + V_ROCNO(t, x)*k_1(t) - V_RPNO(t, x)*u(x)*Derivative({V_{RP}}(t, x), x)/(2*{V_{RP}}(t, x)) - V_RPNO(t, x)*u(x)*Derivative({V_{NO}}(t, x), x)/(2*{V_{NO}}(t, x)) - 2*V_RPNO(t, x)*Derivative(u(x), x) + V_RPNO2(t, x)*k_3(t) - u(x)*sqrt({V_{NO}}(t, x))*sqrt({V_{RP}}(t, x))*Expectation({\\varepsilon_{NO}}(t, x, omega)*Derivative({\\varepsilon_{RP}}(t, x, omega), x)) - u(x)*sqrt({V_{NO}}(t, x))*sqrt({V_{RP}}(t, x))*Expectation({\\varepsilon_{RP}}(t, x, omega)*Derivative({\\varepsilon_{NO}}(t, x, omega), x)))"
      ]
     },
     "metadata": {},
     "output_type": "display_data"
    },
    {
     "data": {
      "text/latex": [
       "$\\displaystyle \\frac{\\partial}{\\partial t} \\operatorname{V_{RPNO2}}{\\left(t,x \\right)} = - k_{2} \\operatorname{NO}{\\left(t,x \\right)} \\operatorname{V_{RPNO2}}{\\left(t,x \\right)} + k_{2} \\operatorname{NO}{\\left(t,x \\right)} \\operatorname{{V_{RP}}}{\\left(t,x \\right)} - k_{2} \\operatorname{RP}{\\left(t,x \\right)} \\operatorname{V_{NONO2}}{\\left(t,x \\right)} + k_{2} \\operatorname{RP}{\\left(t,x \\right)} \\operatorname{V_{RPNO}}{\\left(t,x \\right)} + k_{4} \\operatorname{NO}{\\left(t,x \\right)} \\operatorname{V_{RPO3}}{\\left(t,x \\right)} + k_{4} \\operatorname{O_{3}}{\\left(t,x \\right)} \\operatorname{V_{RPNO}}{\\left(t,x \\right)} - 2 k_{5} \\operatorname{RP}{\\left(t,x \\right)} \\operatorname{V_{RPNO2}}{\\left(t,x \\right)} - 2 k_{6} \\operatorname{NO_{2}}{\\left(t,x \\right)} \\operatorname{V_{RPNO2}}{\\left(t,x \\right)} - 2 k_{6} \\operatorname{NO_{2}}{\\left(t,x \\right)} \\operatorname{{V_{RP}}}{\\left(t,x \\right)} - 2 k_{6} \\operatorname{RP}{\\left(t,x \\right)} \\operatorname{V_{RPNO2}}{\\left(t,x \\right)} - 2 k_{6} \\operatorname{RP}{\\left(t,x \\right)} \\operatorname{{V_{NO2}}}{\\left(t,x \\right)} - 2 l \\operatorname{V_{RPNO2}}{\\left(t,x \\right)} + \\operatorname{V_{ROCNO2}}{\\left(t,x \\right)} \\operatorname{k_{1}}{\\left(t \\right)} - \\operatorname{V_{RPNO2}}{\\left(t,x \\right)} \\operatorname{k_{3}}{\\left(t \\right)} - \\frac{\\operatorname{V_{RPNO2}}{\\left(t,x \\right)} u{\\left(x \\right)} \\frac{\\partial}{\\partial x} \\operatorname{{V_{RP}}}{\\left(t,x \\right)}}{2 \\operatorname{{V_{RP}}}{\\left(t,x \\right)}} - \\frac{\\operatorname{V_{RPNO2}}{\\left(t,x \\right)} u{\\left(x \\right)} \\frac{\\partial}{\\partial x} \\operatorname{{V_{NO2}}}{\\left(t,x \\right)}}{2 \\operatorname{{V_{NO2}}}{\\left(t,x \\right)}} - 2 \\operatorname{V_{RPNO2}}{\\left(t,x \\right)} \\frac{d}{d x} u{\\left(x \\right)} - u{\\left(x \\right)} \\sqrt{\\operatorname{{V_{NO2}}}{\\left(t,x \\right)}} \\sqrt{\\operatorname{{V_{RP}}}{\\left(t,x \\right)}} {\\mathbb E}\\left(\\operatorname{{\\varepsilon_{NO2}}}{\\left(t,x,\\omega \\right)} \\frac{\\partial}{\\partial x} \\operatorname{{\\varepsilon_{RP}}}{\\left(t,x,\\omega \\right)}\\right) - u{\\left(x \\right)} \\sqrt{\\operatorname{{V_{NO2}}}{\\left(t,x \\right)}} \\sqrt{\\operatorname{{V_{RP}}}{\\left(t,x \\right)}} {\\mathbb E}\\left(\\operatorname{{\\varepsilon_{RP}}}{\\left(t,x,\\omega \\right)} \\frac{\\partial}{\\partial x} \\operatorname{{\\varepsilon_{NO2}}}{\\left(t,x,\\omega \\right)}\\right)$"
      ],
      "text/plain": [
       "Eq(Derivative(V_RPNO2(t, x), t), -k_2*NO(t, x)*V_RPNO2(t, x) + k_2*NO(t, x)*{V_{RP}}(t, x) - k_2*RP(t, x)*V_NONO2(t, x) + k_2*RP(t, x)*V_RPNO(t, x) + k_4*NO(t, x)*V_RPO3(t, x) + k_4*O3(t, x)*V_RPNO(t, x) - 2*k_5*RP(t, x)*V_RPNO2(t, x) - 2*k_6*NO2(t, x)*V_RPNO2(t, x) - 2*k_6*NO2(t, x)*{V_{RP}}(t, x) - 2*k_6*RP(t, x)*V_RPNO2(t, x) - 2*k_6*RP(t, x)*{V_{NO2}}(t, x) - 2*l*V_RPNO2(t, x) + V_ROCNO2(t, x)*k_1(t) - V_RPNO2(t, x)*k_3(t) - V_RPNO2(t, x)*u(x)*Derivative({V_{RP}}(t, x), x)/(2*{V_{RP}}(t, x)) - V_RPNO2(t, x)*u(x)*Derivative({V_{NO2}}(t, x), x)/(2*{V_{NO2}}(t, x)) - 2*V_RPNO2(t, x)*Derivative(u(x), x) - u(x)*sqrt({V_{NO2}}(t, x))*sqrt({V_{RP}}(t, x))*Expectation({\\varepsilon_{NO2}}(t, x, omega)*Derivative({\\varepsilon_{RP}}(t, x, omega), x)) - u(x)*sqrt({V_{NO2}}(t, x))*sqrt({V_{RP}}(t, x))*Expectation({\\varepsilon_{RP}}(t, x, omega)*Derivative({\\varepsilon_{NO2}}(t, x, omega), x)))"
      ]
     },
     "metadata": {},
     "output_type": "display_data"
    },
    {
     "data": {
      "text/latex": [
       "$\\displaystyle \\frac{\\partial}{\\partial t} \\operatorname{V_{RPO3}}{\\left(t,x \\right)} = - k_{2} \\operatorname{NO}{\\left(t,x \\right)} \\operatorname{V_{RPO3}}{\\left(t,x \\right)} - k_{2} \\operatorname{RP}{\\left(t,x \\right)} \\operatorname{V_{NOO3}}{\\left(t,x \\right)} - k_{4} \\operatorname{NO}{\\left(t,x \\right)} \\operatorname{V_{RPO3}}{\\left(t,x \\right)} - k_{4} \\operatorname{O_{3}}{\\left(t,x \\right)} \\operatorname{V_{RPNO}}{\\left(t,x \\right)} - 2 k_{5} \\operatorname{RP}{\\left(t,x \\right)} \\operatorname{V_{RPO3}}{\\left(t,x \\right)} - 2 k_{6} \\operatorname{NO_{2}}{\\left(t,x \\right)} \\operatorname{V_{RPO3}}{\\left(t,x \\right)} - 2 k_{6} \\operatorname{RP}{\\left(t,x \\right)} \\operatorname{V_{NO2O3}}{\\left(t,x \\right)} - 2 l \\operatorname{V_{RPO3}}{\\left(t,x \\right)} + \\operatorname{V_{ROCO3}}{\\left(t,x \\right)} \\operatorname{k_{1}}{\\left(t \\right)} + \\operatorname{V_{RPNO2}}{\\left(t,x \\right)} \\operatorname{k_{3}}{\\left(t \\right)} - \\frac{\\operatorname{V_{RPO3}}{\\left(t,x \\right)} u{\\left(x \\right)} \\frac{\\partial}{\\partial x} \\operatorname{{V_{RP}}}{\\left(t,x \\right)}}{2 \\operatorname{{V_{RP}}}{\\left(t,x \\right)}} - \\frac{\\operatorname{V_{RPO3}}{\\left(t,x \\right)} u{\\left(x \\right)} \\frac{\\partial}{\\partial x} \\operatorname{{V_{O3}}}{\\left(t,x \\right)}}{2 \\operatorname{{V_{O3}}}{\\left(t,x \\right)}} - 2 \\operatorname{V_{RPO3}}{\\left(t,x \\right)} \\frac{d}{d x} u{\\left(x \\right)} - u{\\left(x \\right)} \\sqrt{\\operatorname{{V_{O3}}}{\\left(t,x \\right)}} \\sqrt{\\operatorname{{V_{RP}}}{\\left(t,x \\right)}} {\\mathbb E}\\left(\\operatorname{{\\varepsilon_{O3}}}{\\left(t,x,\\omega \\right)} \\frac{\\partial}{\\partial x} \\operatorname{{\\varepsilon_{RP}}}{\\left(t,x,\\omega \\right)}\\right) - u{\\left(x \\right)} \\sqrt{\\operatorname{{V_{O3}}}{\\left(t,x \\right)}} \\sqrt{\\operatorname{{V_{RP}}}{\\left(t,x \\right)}} {\\mathbb E}\\left(\\operatorname{{\\varepsilon_{RP}}}{\\left(t,x,\\omega \\right)} \\frac{\\partial}{\\partial x} \\operatorname{{\\varepsilon_{O3}}}{\\left(t,x,\\omega \\right)}\\right)$"
      ],
      "text/plain": [
       "Eq(Derivative(V_RPO3(t, x), t), -k_2*NO(t, x)*V_RPO3(t, x) - k_2*RP(t, x)*V_NOO3(t, x) - k_4*NO(t, x)*V_RPO3(t, x) - k_4*O3(t, x)*V_RPNO(t, x) - 2*k_5*RP(t, x)*V_RPO3(t, x) - 2*k_6*NO2(t, x)*V_RPO3(t, x) - 2*k_6*RP(t, x)*V_NO2O3(t, x) - 2*l*V_RPO3(t, x) + V_ROCO3(t, x)*k_1(t) + V_RPNO2(t, x)*k_3(t) - V_RPO3(t, x)*u(x)*Derivative({V_{RP}}(t, x), x)/(2*{V_{RP}}(t, x)) - V_RPO3(t, x)*u(x)*Derivative({V_{O3}}(t, x), x)/(2*{V_{O3}}(t, x)) - 2*V_RPO3(t, x)*Derivative(u(x), x) - u(x)*sqrt({V_{O3}}(t, x))*sqrt({V_{RP}}(t, x))*Expectation({\\varepsilon_{O3}}(t, x, omega)*Derivative({\\varepsilon_{RP}}(t, x, omega), x)) - u(x)*sqrt({V_{O3}}(t, x))*sqrt({V_{RP}}(t, x))*Expectation({\\varepsilon_{RP}}(t, x, omega)*Derivative({\\varepsilon_{O3}}(t, x, omega), x)))"
      ]
     },
     "metadata": {},
     "output_type": "display_data"
    },
    {
     "data": {
      "text/latex": [
       "$\\displaystyle \\frac{\\partial}{\\partial t} \\operatorname{V_{RPSNGN}}{\\left(t,x \\right)} = - k_{2} \\operatorname{NO}{\\left(t,x \\right)} \\operatorname{V_{RPSNGN}}{\\left(t,x \\right)} - k_{2} \\operatorname{RP}{\\left(t,x \\right)} \\operatorname{V_{NOSNGN}}{\\left(t,x \\right)} - 2 k_{5} \\operatorname{RP}{\\left(t,x \\right)} \\operatorname{V_{RPSNGN}}{\\left(t,x \\right)} - 2 k_{6} \\operatorname{NO_{2}}{\\left(t,x \\right)} \\operatorname{V_{RPSNGN}}{\\left(t,x \\right)} + 2 k_{6} \\operatorname{NO_{2}}{\\left(t,x \\right)} \\operatorname{{V_{RP}}}{\\left(t,x \\right)} - 2 k_{6} \\operatorname{RP}{\\left(t,x \\right)} \\operatorname{V_{NO2SNGN}}{\\left(t,x \\right)} + 2 k_{6} \\operatorname{RP}{\\left(t,x \\right)} \\operatorname{V_{RPNO2}}{\\left(t,x \\right)} - 2 l \\operatorname{V_{RPSNGN}}{\\left(t,x \\right)} + \\operatorname{V_{ROCSNGN}}{\\left(t,x \\right)} \\operatorname{k_{1}}{\\left(t \\right)} - \\frac{\\operatorname{V_{RPSNGN}}{\\left(t,x \\right)} u{\\left(x \\right)} \\frac{\\partial}{\\partial x} \\operatorname{{V_{SNGN}}}{\\left(t,x \\right)}}{2 \\operatorname{{V_{SNGN}}}{\\left(t,x \\right)}} - \\frac{\\operatorname{V_{RPSNGN}}{\\left(t,x \\right)} u{\\left(x \\right)} \\frac{\\partial}{\\partial x} \\operatorname{{V_{RP}}}{\\left(t,x \\right)}}{2 \\operatorname{{V_{RP}}}{\\left(t,x \\right)}} - 2 \\operatorname{V_{RPSNGN}}{\\left(t,x \\right)} \\frac{d}{d x} u{\\left(x \\right)} - u{\\left(x \\right)} \\sqrt{\\operatorname{{V_{RP}}}{\\left(t,x \\right)}} \\sqrt{\\operatorname{{V_{SNGN}}}{\\left(t,x \\right)}} {\\mathbb E}\\left(\\operatorname{{\\varepsilon_{RP}}}{\\left(t,x,\\omega \\right)} \\frac{\\partial}{\\partial x} \\operatorname{{\\varepsilon_{SNGN}}}{\\left(t,x,\\omega \\right)}\\right) - u{\\left(x \\right)} \\sqrt{\\operatorname{{V_{RP}}}{\\left(t,x \\right)}} \\sqrt{\\operatorname{{V_{SNGN}}}{\\left(t,x \\right)}} {\\mathbb E}\\left(\\operatorname{{\\varepsilon_{SNGN}}}{\\left(t,x,\\omega \\right)} \\frac{\\partial}{\\partial x} \\operatorname{{\\varepsilon_{RP}}}{\\left(t,x,\\omega \\right)}\\right)$"
      ],
      "text/plain": [
       "Eq(Derivative(V_RPSNGN(t, x), t), -k_2*NO(t, x)*V_RPSNGN(t, x) - k_2*RP(t, x)*V_NOSNGN(t, x) - 2*k_5*RP(t, x)*V_RPSNGN(t, x) - 2*k_6*NO2(t, x)*V_RPSNGN(t, x) + 2*k_6*NO2(t, x)*{V_{RP}}(t, x) - 2*k_6*RP(t, x)*V_NO2SNGN(t, x) + 2*k_6*RP(t, x)*V_RPNO2(t, x) - 2*l*V_RPSNGN(t, x) + V_ROCSNGN(t, x)*k_1(t) - V_RPSNGN(t, x)*u(x)*Derivative({V_{SNGN}}(t, x), x)/(2*{V_{SNGN}}(t, x)) - V_RPSNGN(t, x)*u(x)*Derivative({V_{RP}}(t, x), x)/(2*{V_{RP}}(t, x)) - 2*V_RPSNGN(t, x)*Derivative(u(x), x) - u(x)*sqrt({V_{RP}}(t, x))*sqrt({V_{SNGN}}(t, x))*Expectation({\\varepsilon_{RP}}(t, x, omega)*Derivative({\\varepsilon_{SNGN}}(t, x, omega), x)) - u(x)*sqrt({V_{RP}}(t, x))*sqrt({V_{SNGN}}(t, x))*Expectation({\\varepsilon_{SNGN}}(t, x, omega)*Derivative({\\varepsilon_{RP}}(t, x, omega), x)))"
      ]
     },
     "metadata": {},
     "output_type": "display_data"
    },
    {
     "data": {
      "text/latex": [
       "$\\displaystyle \\frac{\\partial}{\\partial t} \\operatorname{V_{NONO2}}{\\left(t,x \\right)} = k_{2} \\operatorname{NO}{\\left(t,x \\right)} \\operatorname{V_{RPNO}}{\\left(t,x \\right)} - k_{2} \\operatorname{NO}{\\left(t,x \\right)} \\operatorname{V_{RPNO2}}{\\left(t,x \\right)} - k_{2} \\operatorname{RP}{\\left(t,x \\right)} \\operatorname{V_{NONO2}}{\\left(t,x \\right)} + k_{2} \\operatorname{RP}{\\left(t,x \\right)} \\operatorname{{V_{NO}}}{\\left(t,x \\right)} - k_{4} \\operatorname{NO}{\\left(t,x \\right)} \\operatorname{V_{NO2O3}}{\\left(t,x \\right)} + k_{4} \\operatorname{NO}{\\left(t,x \\right)} \\operatorname{V_{NOO3}}{\\left(t,x \\right)} - k_{4} \\operatorname{O_{3}}{\\left(t,x \\right)} \\operatorname{V_{NONO2}}{\\left(t,x \\right)} + k_{4} \\operatorname{O_{3}}{\\left(t,x \\right)} \\operatorname{{V_{NO}}}{\\left(t,x \\right)} - 2 k_{6} \\operatorname{NO_{2}}{\\left(t,x \\right)} \\operatorname{V_{RPNO}}{\\left(t,x \\right)} - 2 k_{6} \\operatorname{RP}{\\left(t,x \\right)} \\operatorname{V_{NONO2}}{\\left(t,x \\right)} - 2 l \\operatorname{V_{NONO2}}{\\left(t,x \\right)} - \\operatorname{V_{NONO2}}{\\left(t,x \\right)} \\operatorname{k_{3}}{\\left(t \\right)} - \\frac{\\operatorname{V_{NONO2}}{\\left(t,x \\right)} u{\\left(x \\right)} \\frac{\\partial}{\\partial x} \\operatorname{{V_{NO}}}{\\left(t,x \\right)}}{2 \\operatorname{{V_{NO}}}{\\left(t,x \\right)}} - \\frac{\\operatorname{V_{NONO2}}{\\left(t,x \\right)} u{\\left(x \\right)} \\frac{\\partial}{\\partial x} \\operatorname{{V_{NO2}}}{\\left(t,x \\right)}}{2 \\operatorname{{V_{NO2}}}{\\left(t,x \\right)}} - 2 \\operatorname{V_{NONO2}}{\\left(t,x \\right)} \\frac{d}{d x} u{\\left(x \\right)} + \\operatorname{k_{3}}{\\left(t \\right)} \\operatorname{{V_{NO2}}}{\\left(t,x \\right)} - u{\\left(x \\right)} \\sqrt{\\operatorname{{V_{NO2}}}{\\left(t,x \\right)}} \\sqrt{\\operatorname{{V_{NO}}}{\\left(t,x \\right)}} {\\mathbb E}\\left(\\operatorname{{\\varepsilon_{NO2}}}{\\left(t,x,\\omega \\right)} \\frac{\\partial}{\\partial x} \\operatorname{{\\varepsilon_{NO}}}{\\left(t,x,\\omega \\right)}\\right) - u{\\left(x \\right)} \\sqrt{\\operatorname{{V_{NO2}}}{\\left(t,x \\right)}} \\sqrt{\\operatorname{{V_{NO}}}{\\left(t,x \\right)}} {\\mathbb E}\\left(\\operatorname{{\\varepsilon_{NO}}}{\\left(t,x,\\omega \\right)} \\frac{\\partial}{\\partial x} \\operatorname{{\\varepsilon_{NO2}}}{\\left(t,x,\\omega \\right)}\\right)$"
      ],
      "text/plain": [
       "Eq(Derivative(V_NONO2(t, x), t), k_2*NO(t, x)*V_RPNO(t, x) - k_2*NO(t, x)*V_RPNO2(t, x) - k_2*RP(t, x)*V_NONO2(t, x) + k_2*RP(t, x)*{V_{NO}}(t, x) - k_4*NO(t, x)*V_NO2O3(t, x) + k_4*NO(t, x)*V_NOO3(t, x) - k_4*O3(t, x)*V_NONO2(t, x) + k_4*O3(t, x)*{V_{NO}}(t, x) - 2*k_6*NO2(t, x)*V_RPNO(t, x) - 2*k_6*RP(t, x)*V_NONO2(t, x) - 2*l*V_NONO2(t, x) - V_NONO2(t, x)*k_3(t) - V_NONO2(t, x)*u(x)*Derivative({V_{NO}}(t, x), x)/(2*{V_{NO}}(t, x)) - V_NONO2(t, x)*u(x)*Derivative({V_{NO2}}(t, x), x)/(2*{V_{NO2}}(t, x)) - 2*V_NONO2(t, x)*Derivative(u(x), x) + k_3(t)*{V_{NO2}}(t, x) - u(x)*sqrt({V_{NO2}}(t, x))*sqrt({V_{NO}}(t, x))*Expectation({\\varepsilon_{NO2}}(t, x, omega)*Derivative({\\varepsilon_{NO}}(t, x, omega), x)) - u(x)*sqrt({V_{NO2}}(t, x))*sqrt({V_{NO}}(t, x))*Expectation({\\varepsilon_{NO}}(t, x, omega)*Derivative({\\varepsilon_{NO2}}(t, x, omega), x)))"
      ]
     },
     "metadata": {},
     "output_type": "display_data"
    },
    {
     "data": {
      "text/latex": [
       "$\\displaystyle \\frac{\\partial}{\\partial t} \\operatorname{V_{NOO3}}{\\left(t,x \\right)} = - k_{2} \\operatorname{NO}{\\left(t,x \\right)} \\operatorname{V_{RPO3}}{\\left(t,x \\right)} - k_{2} \\operatorname{RP}{\\left(t,x \\right)} \\operatorname{V_{NOO3}}{\\left(t,x \\right)} - k_{4} \\operatorname{NO}{\\left(t,x \\right)} \\operatorname{V_{NOO3}}{\\left(t,x \\right)} - k_{4} \\operatorname{NO}{\\left(t,x \\right)} \\operatorname{{V_{O3}}}{\\left(t,x \\right)} - k_{4} \\operatorname{O_{3}}{\\left(t,x \\right)} \\operatorname{V_{NOO3}}{\\left(t,x \\right)} - k_{4} \\operatorname{O_{3}}{\\left(t,x \\right)} \\operatorname{{V_{NO}}}{\\left(t,x \\right)} - 2 l \\operatorname{V_{NOO3}}{\\left(t,x \\right)} + \\operatorname{V_{NO2O3}}{\\left(t,x \\right)} \\operatorname{k_{3}}{\\left(t \\right)} + \\operatorname{V_{NONO2}}{\\left(t,x \\right)} \\operatorname{k_{3}}{\\left(t \\right)} - \\frac{\\operatorname{V_{NOO3}}{\\left(t,x \\right)} u{\\left(x \\right)} \\frac{\\partial}{\\partial x} \\operatorname{{V_{O3}}}{\\left(t,x \\right)}}{2 \\operatorname{{V_{O3}}}{\\left(t,x \\right)}} - \\frac{\\operatorname{V_{NOO3}}{\\left(t,x \\right)} u{\\left(x \\right)} \\frac{\\partial}{\\partial x} \\operatorname{{V_{NO}}}{\\left(t,x \\right)}}{2 \\operatorname{{V_{NO}}}{\\left(t,x \\right)}} - 2 \\operatorname{V_{NOO3}}{\\left(t,x \\right)} \\frac{d}{d x} u{\\left(x \\right)} - u{\\left(x \\right)} \\sqrt{\\operatorname{{V_{NO}}}{\\left(t,x \\right)}} \\sqrt{\\operatorname{{V_{O3}}}{\\left(t,x \\right)}} {\\mathbb E}\\left(\\operatorname{{\\varepsilon_{NO}}}{\\left(t,x,\\omega \\right)} \\frac{\\partial}{\\partial x} \\operatorname{{\\varepsilon_{O3}}}{\\left(t,x,\\omega \\right)}\\right) - u{\\left(x \\right)} \\sqrt{\\operatorname{{V_{NO}}}{\\left(t,x \\right)}} \\sqrt{\\operatorname{{V_{O3}}}{\\left(t,x \\right)}} {\\mathbb E}\\left(\\operatorname{{\\varepsilon_{O3}}}{\\left(t,x,\\omega \\right)} \\frac{\\partial}{\\partial x} \\operatorname{{\\varepsilon_{NO}}}{\\left(t,x,\\omega \\right)}\\right)$"
      ],
      "text/plain": [
       "Eq(Derivative(V_NOO3(t, x), t), -k_2*NO(t, x)*V_RPO3(t, x) - k_2*RP(t, x)*V_NOO3(t, x) - k_4*NO(t, x)*V_NOO3(t, x) - k_4*NO(t, x)*{V_{O3}}(t, x) - k_4*O3(t, x)*V_NOO3(t, x) - k_4*O3(t, x)*{V_{NO}}(t, x) - 2*l*V_NOO3(t, x) + V_NO2O3(t, x)*k_3(t) + V_NONO2(t, x)*k_3(t) - V_NOO3(t, x)*u(x)*Derivative({V_{O3}}(t, x), x)/(2*{V_{O3}}(t, x)) - V_NOO3(t, x)*u(x)*Derivative({V_{NO}}(t, x), x)/(2*{V_{NO}}(t, x)) - 2*V_NOO3(t, x)*Derivative(u(x), x) - u(x)*sqrt({V_{NO}}(t, x))*sqrt({V_{O3}}(t, x))*Expectation({\\varepsilon_{NO}}(t, x, omega)*Derivative({\\varepsilon_{O3}}(t, x, omega), x)) - u(x)*sqrt({V_{NO}}(t, x))*sqrt({V_{O3}}(t, x))*Expectation({\\varepsilon_{O3}}(t, x, omega)*Derivative({\\varepsilon_{NO}}(t, x, omega), x)))"
      ]
     },
     "metadata": {},
     "output_type": "display_data"
    },
    {
     "data": {
      "text/latex": [
       "$\\displaystyle \\frac{\\partial}{\\partial t} \\operatorname{V_{NOSNGN}}{\\left(t,x \\right)} = - k_{2} \\operatorname{NO}{\\left(t,x \\right)} \\operatorname{V_{RPSNGN}}{\\left(t,x \\right)} - k_{2} \\operatorname{RP}{\\left(t,x \\right)} \\operatorname{V_{NOSNGN}}{\\left(t,x \\right)} - k_{4} \\operatorname{NO}{\\left(t,x \\right)} \\operatorname{V_{O3SNGN}}{\\left(t,x \\right)} - k_{4} \\operatorname{O_{3}}{\\left(t,x \\right)} \\operatorname{V_{NOSNGN}}{\\left(t,x \\right)} + 2 k_{6} \\operatorname{NO_{2}}{\\left(t,x \\right)} \\operatorname{V_{RPNO}}{\\left(t,x \\right)} + 2 k_{6} \\operatorname{RP}{\\left(t,x \\right)} \\operatorname{V_{NONO2}}{\\left(t,x \\right)} - 2 l \\operatorname{V_{NOSNGN}}{\\left(t,x \\right)} + \\operatorname{V_{NO2SNGN}}{\\left(t,x \\right)} \\operatorname{k_{3}}{\\left(t \\right)} - \\frac{\\operatorname{V_{NOSNGN}}{\\left(t,x \\right)} u{\\left(x \\right)} \\frac{\\partial}{\\partial x} \\operatorname{{V_{SNGN}}}{\\left(t,x \\right)}}{2 \\operatorname{{V_{SNGN}}}{\\left(t,x \\right)}} - \\frac{\\operatorname{V_{NOSNGN}}{\\left(t,x \\right)} u{\\left(x \\right)} \\frac{\\partial}{\\partial x} \\operatorname{{V_{NO}}}{\\left(t,x \\right)}}{2 \\operatorname{{V_{NO}}}{\\left(t,x \\right)}} - 2 \\operatorname{V_{NOSNGN}}{\\left(t,x \\right)} \\frac{d}{d x} u{\\left(x \\right)} - u{\\left(x \\right)} \\sqrt{\\operatorname{{V_{NO}}}{\\left(t,x \\right)}} \\sqrt{\\operatorname{{V_{SNGN}}}{\\left(t,x \\right)}} {\\mathbb E}\\left(\\operatorname{{\\varepsilon_{NO}}}{\\left(t,x,\\omega \\right)} \\frac{\\partial}{\\partial x} \\operatorname{{\\varepsilon_{SNGN}}}{\\left(t,x,\\omega \\right)}\\right) - u{\\left(x \\right)} \\sqrt{\\operatorname{{V_{NO}}}{\\left(t,x \\right)}} \\sqrt{\\operatorname{{V_{SNGN}}}{\\left(t,x \\right)}} {\\mathbb E}\\left(\\operatorname{{\\varepsilon_{SNGN}}}{\\left(t,x,\\omega \\right)} \\frac{\\partial}{\\partial x} \\operatorname{{\\varepsilon_{NO}}}{\\left(t,x,\\omega \\right)}\\right)$"
      ],
      "text/plain": [
       "Eq(Derivative(V_NOSNGN(t, x), t), -k_2*NO(t, x)*V_RPSNGN(t, x) - k_2*RP(t, x)*V_NOSNGN(t, x) - k_4*NO(t, x)*V_O3SNGN(t, x) - k_4*O3(t, x)*V_NOSNGN(t, x) + 2*k_6*NO2(t, x)*V_RPNO(t, x) + 2*k_6*RP(t, x)*V_NONO2(t, x) - 2*l*V_NOSNGN(t, x) + V_NO2SNGN(t, x)*k_3(t) - V_NOSNGN(t, x)*u(x)*Derivative({V_{SNGN}}(t, x), x)/(2*{V_{SNGN}}(t, x)) - V_NOSNGN(t, x)*u(x)*Derivative({V_{NO}}(t, x), x)/(2*{V_{NO}}(t, x)) - 2*V_NOSNGN(t, x)*Derivative(u(x), x) - u(x)*sqrt({V_{NO}}(t, x))*sqrt({V_{SNGN}}(t, x))*Expectation({\\varepsilon_{NO}}(t, x, omega)*Derivative({\\varepsilon_{SNGN}}(t, x, omega), x)) - u(x)*sqrt({V_{NO}}(t, x))*sqrt({V_{SNGN}}(t, x))*Expectation({\\varepsilon_{SNGN}}(t, x, omega)*Derivative({\\varepsilon_{NO}}(t, x, omega), x)))"
      ]
     },
     "metadata": {},
     "output_type": "display_data"
    },
    {
     "data": {
      "text/latex": [
       "$\\displaystyle \\frac{\\partial}{\\partial t} \\operatorname{V_{NO2O3}}{\\left(t,x \\right)} = k_{2} \\operatorname{NO}{\\left(t,x \\right)} \\operatorname{V_{RPO3}}{\\left(t,x \\right)} + k_{2} \\operatorname{RP}{\\left(t,x \\right)} \\operatorname{V_{NOO3}}{\\left(t,x \\right)} - k_{4} \\operatorname{NO}{\\left(t,x \\right)} \\operatorname{V_{NO2O3}}{\\left(t,x \\right)} + k_{4} \\operatorname{NO}{\\left(t,x \\right)} \\operatorname{{V_{O3}}}{\\left(t,x \\right)} - k_{4} \\operatorname{O_{3}}{\\left(t,x \\right)} \\operatorname{V_{NONO2}}{\\left(t,x \\right)} + k_{4} \\operatorname{O_{3}}{\\left(t,x \\right)} \\operatorname{V_{NOO3}}{\\left(t,x \\right)} - 2 k_{6} \\operatorname{NO_{2}}{\\left(t,x \\right)} \\operatorname{V_{RPO3}}{\\left(t,x \\right)} - 2 k_{6} \\operatorname{RP}{\\left(t,x \\right)} \\operatorname{V_{NO2O3}}{\\left(t,x \\right)} - 2 l \\operatorname{V_{NO2O3}}{\\left(t,x \\right)} - \\operatorname{V_{NO2O3}}{\\left(t,x \\right)} \\operatorname{k_{3}}{\\left(t \\right)} - \\frac{\\operatorname{V_{NO2O3}}{\\left(t,x \\right)} u{\\left(x \\right)} \\frac{\\partial}{\\partial x} \\operatorname{{V_{O3}}}{\\left(t,x \\right)}}{2 \\operatorname{{V_{O3}}}{\\left(t,x \\right)}} - \\frac{\\operatorname{V_{NO2O3}}{\\left(t,x \\right)} u{\\left(x \\right)} \\frac{\\partial}{\\partial x} \\operatorname{{V_{NO2}}}{\\left(t,x \\right)}}{2 \\operatorname{{V_{NO2}}}{\\left(t,x \\right)}} - 2 \\operatorname{V_{NO2O3}}{\\left(t,x \\right)} \\frac{d}{d x} u{\\left(x \\right)} + \\operatorname{k_{3}}{\\left(t \\right)} \\operatorname{{V_{NO2}}}{\\left(t,x \\right)} - u{\\left(x \\right)} \\sqrt{\\operatorname{{V_{NO2}}}{\\left(t,x \\right)}} \\sqrt{\\operatorname{{V_{O3}}}{\\left(t,x \\right)}} {\\mathbb E}\\left(\\operatorname{{\\varepsilon_{NO2}}}{\\left(t,x,\\omega \\right)} \\frac{\\partial}{\\partial x} \\operatorname{{\\varepsilon_{O3}}}{\\left(t,x,\\omega \\right)}\\right) - u{\\left(x \\right)} \\sqrt{\\operatorname{{V_{NO2}}}{\\left(t,x \\right)}} \\sqrt{\\operatorname{{V_{O3}}}{\\left(t,x \\right)}} {\\mathbb E}\\left(\\operatorname{{\\varepsilon_{O3}}}{\\left(t,x,\\omega \\right)} \\frac{\\partial}{\\partial x} \\operatorname{{\\varepsilon_{NO2}}}{\\left(t,x,\\omega \\right)}\\right)$"
      ],
      "text/plain": [
       "Eq(Derivative(V_NO2O3(t, x), t), k_2*NO(t, x)*V_RPO3(t, x) + k_2*RP(t, x)*V_NOO3(t, x) - k_4*NO(t, x)*V_NO2O3(t, x) + k_4*NO(t, x)*{V_{O3}}(t, x) - k_4*O3(t, x)*V_NONO2(t, x) + k_4*O3(t, x)*V_NOO3(t, x) - 2*k_6*NO2(t, x)*V_RPO3(t, x) - 2*k_6*RP(t, x)*V_NO2O3(t, x) - 2*l*V_NO2O3(t, x) - V_NO2O3(t, x)*k_3(t) - V_NO2O3(t, x)*u(x)*Derivative({V_{O3}}(t, x), x)/(2*{V_{O3}}(t, x)) - V_NO2O3(t, x)*u(x)*Derivative({V_{NO2}}(t, x), x)/(2*{V_{NO2}}(t, x)) - 2*V_NO2O3(t, x)*Derivative(u(x), x) + k_3(t)*{V_{NO2}}(t, x) - u(x)*sqrt({V_{NO2}}(t, x))*sqrt({V_{O3}}(t, x))*Expectation({\\varepsilon_{NO2}}(t, x, omega)*Derivative({\\varepsilon_{O3}}(t, x, omega), x)) - u(x)*sqrt({V_{NO2}}(t, x))*sqrt({V_{O3}}(t, x))*Expectation({\\varepsilon_{O3}}(t, x, omega)*Derivative({\\varepsilon_{NO2}}(t, x, omega), x)))"
      ]
     },
     "metadata": {},
     "output_type": "display_data"
    },
    {
     "data": {
      "text/latex": [
       "$\\displaystyle \\frac{\\partial}{\\partial t} \\operatorname{V_{NO2SNGN}}{\\left(t,x \\right)} = k_{2} \\operatorname{NO}{\\left(t,x \\right)} \\operatorname{V_{RPSNGN}}{\\left(t,x \\right)} + k_{2} \\operatorname{RP}{\\left(t,x \\right)} \\operatorname{V_{NOSNGN}}{\\left(t,x \\right)} + k_{4} \\operatorname{NO}{\\left(t,x \\right)} \\operatorname{V_{O3SNGN}}{\\left(t,x \\right)} + k_{4} \\operatorname{O_{3}}{\\left(t,x \\right)} \\operatorname{V_{NOSNGN}}{\\left(t,x \\right)} + 2 k_{6} \\operatorname{NO_{2}}{\\left(t,x \\right)} \\operatorname{V_{RPNO2}}{\\left(t,x \\right)} - 2 k_{6} \\operatorname{NO_{2}}{\\left(t,x \\right)} \\operatorname{V_{RPSNGN}}{\\left(t,x \\right)} - 2 k_{6} \\operatorname{RP}{\\left(t,x \\right)} \\operatorname{V_{NO2SNGN}}{\\left(t,x \\right)} + 2 k_{6} \\operatorname{RP}{\\left(t,x \\right)} \\operatorname{{V_{NO2}}}{\\left(t,x \\right)} - 2 l \\operatorname{V_{NO2SNGN}}{\\left(t,x \\right)} - \\operatorname{V_{NO2SNGN}}{\\left(t,x \\right)} \\operatorname{k_{3}}{\\left(t \\right)} - \\frac{\\operatorname{V_{NO2SNGN}}{\\left(t,x \\right)} u{\\left(x \\right)} \\frac{\\partial}{\\partial x} \\operatorname{{V_{SNGN}}}{\\left(t,x \\right)}}{2 \\operatorname{{V_{SNGN}}}{\\left(t,x \\right)}} - \\frac{\\operatorname{V_{NO2SNGN}}{\\left(t,x \\right)} u{\\left(x \\right)} \\frac{\\partial}{\\partial x} \\operatorname{{V_{NO2}}}{\\left(t,x \\right)}}{2 \\operatorname{{V_{NO2}}}{\\left(t,x \\right)}} - 2 \\operatorname{V_{NO2SNGN}}{\\left(t,x \\right)} \\frac{d}{d x} u{\\left(x \\right)} - u{\\left(x \\right)} \\sqrt{\\operatorname{{V_{NO2}}}{\\left(t,x \\right)}} \\sqrt{\\operatorname{{V_{SNGN}}}{\\left(t,x \\right)}} {\\mathbb E}\\left(\\operatorname{{\\varepsilon_{NO2}}}{\\left(t,x,\\omega \\right)} \\frac{\\partial}{\\partial x} \\operatorname{{\\varepsilon_{SNGN}}}{\\left(t,x,\\omega \\right)}\\right) - u{\\left(x \\right)} \\sqrt{\\operatorname{{V_{NO2}}}{\\left(t,x \\right)}} \\sqrt{\\operatorname{{V_{SNGN}}}{\\left(t,x \\right)}} {\\mathbb E}\\left(\\operatorname{{\\varepsilon_{SNGN}}}{\\left(t,x,\\omega \\right)} \\frac{\\partial}{\\partial x} \\operatorname{{\\varepsilon_{NO2}}}{\\left(t,x,\\omega \\right)}\\right)$"
      ],
      "text/plain": [
       "Eq(Derivative(V_NO2SNGN(t, x), t), k_2*NO(t, x)*V_RPSNGN(t, x) + k_2*RP(t, x)*V_NOSNGN(t, x) + k_4*NO(t, x)*V_O3SNGN(t, x) + k_4*O3(t, x)*V_NOSNGN(t, x) + 2*k_6*NO2(t, x)*V_RPNO2(t, x) - 2*k_6*NO2(t, x)*V_RPSNGN(t, x) - 2*k_6*RP(t, x)*V_NO2SNGN(t, x) + 2*k_6*RP(t, x)*{V_{NO2}}(t, x) - 2*l*V_NO2SNGN(t, x) - V_NO2SNGN(t, x)*k_3(t) - V_NO2SNGN(t, x)*u(x)*Derivative({V_{SNGN}}(t, x), x)/(2*{V_{SNGN}}(t, x)) - V_NO2SNGN(t, x)*u(x)*Derivative({V_{NO2}}(t, x), x)/(2*{V_{NO2}}(t, x)) - 2*V_NO2SNGN(t, x)*Derivative(u(x), x) - u(x)*sqrt({V_{NO2}}(t, x))*sqrt({V_{SNGN}}(t, x))*Expectation({\\varepsilon_{NO2}}(t, x, omega)*Derivative({\\varepsilon_{SNGN}}(t, x, omega), x)) - u(x)*sqrt({V_{NO2}}(t, x))*sqrt({V_{SNGN}}(t, x))*Expectation({\\varepsilon_{SNGN}}(t, x, omega)*Derivative({\\varepsilon_{NO2}}(t, x, omega), x)))"
      ]
     },
     "metadata": {},
     "output_type": "display_data"
    },
    {
     "data": {
      "text/latex": [
       "$\\displaystyle \\frac{\\partial}{\\partial t} \\operatorname{V_{O3SNGN}}{\\left(t,x \\right)} = - k_{4} \\operatorname{NO}{\\left(t,x \\right)} \\operatorname{V_{O3SNGN}}{\\left(t,x \\right)} - k_{4} \\operatorname{O_{3}}{\\left(t,x \\right)} \\operatorname{V_{NOSNGN}}{\\left(t,x \\right)} + 2 k_{6} \\operatorname{NO_{2}}{\\left(t,x \\right)} \\operatorname{V_{RPO3}}{\\left(t,x \\right)} + 2 k_{6} \\operatorname{RP}{\\left(t,x \\right)} \\operatorname{V_{NO2O3}}{\\left(t,x \\right)} - 2 l \\operatorname{V_{O3SNGN}}{\\left(t,x \\right)} + \\operatorname{V_{NO2SNGN}}{\\left(t,x \\right)} \\operatorname{k_{3}}{\\left(t \\right)} - \\frac{\\operatorname{V_{O3SNGN}}{\\left(t,x \\right)} u{\\left(x \\right)} \\frac{\\partial}{\\partial x} \\operatorname{{V_{SNGN}}}{\\left(t,x \\right)}}{2 \\operatorname{{V_{SNGN}}}{\\left(t,x \\right)}} - \\frac{\\operatorname{V_{O3SNGN}}{\\left(t,x \\right)} u{\\left(x \\right)} \\frac{\\partial}{\\partial x} \\operatorname{{V_{O3}}}{\\left(t,x \\right)}}{2 \\operatorname{{V_{O3}}}{\\left(t,x \\right)}} - 2 \\operatorname{V_{O3SNGN}}{\\left(t,x \\right)} \\frac{d}{d x} u{\\left(x \\right)} - u{\\left(x \\right)} \\sqrt{\\operatorname{{V_{O3}}}{\\left(t,x \\right)}} \\sqrt{\\operatorname{{V_{SNGN}}}{\\left(t,x \\right)}} {\\mathbb E}\\left(\\operatorname{{\\varepsilon_{O3}}}{\\left(t,x,\\omega \\right)} \\frac{\\partial}{\\partial x} \\operatorname{{\\varepsilon_{SNGN}}}{\\left(t,x,\\omega \\right)}\\right) - u{\\left(x \\right)} \\sqrt{\\operatorname{{V_{O3}}}{\\left(t,x \\right)}} \\sqrt{\\operatorname{{V_{SNGN}}}{\\left(t,x \\right)}} {\\mathbb E}\\left(\\operatorname{{\\varepsilon_{SNGN}}}{\\left(t,x,\\omega \\right)} \\frac{\\partial}{\\partial x} \\operatorname{{\\varepsilon_{O3}}}{\\left(t,x,\\omega \\right)}\\right)$"
      ],
      "text/plain": [
       "Eq(Derivative(V_O3SNGN(t, x), t), -k_4*NO(t, x)*V_O3SNGN(t, x) - k_4*O3(t, x)*V_NOSNGN(t, x) + 2*k_6*NO2(t, x)*V_RPO3(t, x) + 2*k_6*RP(t, x)*V_NO2O3(t, x) - 2*l*V_O3SNGN(t, x) + V_NO2SNGN(t, x)*k_3(t) - V_O3SNGN(t, x)*u(x)*Derivative({V_{SNGN}}(t, x), x)/(2*{V_{SNGN}}(t, x)) - V_O3SNGN(t, x)*u(x)*Derivative({V_{O3}}(t, x), x)/(2*{V_{O3}}(t, x)) - 2*V_O3SNGN(t, x)*Derivative(u(x), x) - u(x)*sqrt({V_{O3}}(t, x))*sqrt({V_{SNGN}}(t, x))*Expectation({\\varepsilon_{O3}}(t, x, omega)*Derivative({\\varepsilon_{SNGN}}(t, x, omega), x)) - u(x)*sqrt({V_{O3}}(t, x))*sqrt({V_{SNGN}}(t, x))*Expectation({\\varepsilon_{SNGN}}(t, x, omega)*Derivative({\\varepsilon_{O3}}(t, x, omega), x)))"
      ]
     },
     "metadata": {},
     "output_type": "display_data"
    },
    {
     "data": {
      "text/latex": [
       "$\\displaystyle \\frac{\\partial}{\\partial t} \\operatorname{{s_{ROC,xx}}}{\\left(t,x \\right)} = - u{\\left(x \\right)} \\frac{\\partial}{\\partial x} \\operatorname{{s_{ROC,xx}}}{\\left(t,x \\right)} + 2 \\operatorname{{s_{ROC,xx}}}{\\left(t,x \\right)} \\frac{d}{d x} u{\\left(x \\right)}$"
      ],
      "text/plain": [
       "Eq(Derivative({s_{ROC,xx}}(t, x), t), -u(x)*Derivative({s_{ROC,xx}}(t, x), x) + 2*{s_{ROC,xx}}(t, x)*Derivative(u(x), x))"
      ]
     },
     "metadata": {},
     "output_type": "display_data"
    },
    {
     "data": {
      "text/latex": [
       "$\\displaystyle \\frac{\\partial}{\\partial t} \\operatorname{{s_{RP,xx}}}{\\left(t,x \\right)} = - \\frac{2 k_{2} \\operatorname{RP}{\\left(t,x \\right)} \\operatorname{V_{RPNO}}{\\left(t,x \\right)} \\operatorname{{s_{RP,xx}}}{\\left(t,x \\right)}}{\\operatorname{{V_{RP}}}{\\left(t,x \\right)}} + \\frac{2 k_{2} \\operatorname{RP}{\\left(t,x \\right)} \\sqrt{\\operatorname{{V_{NO}}}{\\left(t,x \\right)}} \\operatorname{{s_{RP,xx}}}^{2}{\\left(t,x \\right)} {\\mathbb E}\\left(\\frac{\\partial}{\\partial x} \\operatorname{{\\varepsilon_{NO}}}{\\left(t,x,\\omega \\right)} \\frac{\\partial}{\\partial x} \\operatorname{{\\varepsilon_{RP}}}{\\left(t,x,\\omega \\right)}\\right)}{\\sqrt{\\operatorname{{V_{RP}}}{\\left(t,x \\right)}}} - \\frac{k_{2} \\operatorname{RP}{\\left(t,x \\right)} \\sqrt{\\operatorname{{V_{NO}}}{\\left(t,x \\right)}} \\operatorname{{s_{RP,xx}}}^{2}{\\left(t,x \\right)} {\\mathbb E}\\left(\\operatorname{{\\varepsilon_{NO}}}{\\left(t,x,\\omega \\right)} \\frac{\\partial}{\\partial x} \\operatorname{{\\varepsilon_{RP}}}{\\left(t,x,\\omega \\right)}\\right) \\frac{\\partial}{\\partial x} \\operatorname{{V_{RP}}}{\\left(t,x \\right)}}{\\operatorname{{V_{RP}}}^{\\frac{3}{2}}{\\left(t,x \\right)}} + \\frac{k_{2} \\operatorname{RP}{\\left(t,x \\right)} \\operatorname{{s_{RP,xx}}}^{2}{\\left(t,x \\right)} {\\mathbb E}\\left(\\operatorname{{\\varepsilon_{NO}}}{\\left(t,x,\\omega \\right)} \\frac{\\partial}{\\partial x} \\operatorname{{\\varepsilon_{RP}}}{\\left(t,x,\\omega \\right)}\\right) \\frac{\\partial}{\\partial x} \\operatorname{{V_{NO}}}{\\left(t,x \\right)}}{\\sqrt{\\operatorname{{V_{NO}}}{\\left(t,x \\right)}} \\sqrt{\\operatorname{{V_{RP}}}{\\left(t,x \\right)}}} + \\frac{2 k_{2} \\sqrt{\\operatorname{{V_{NO}}}{\\left(t,x \\right)}} \\operatorname{{s_{RP,xx}}}^{2}{\\left(t,x \\right)} {\\mathbb E}\\left(\\operatorname{{\\varepsilon_{NO}}}{\\left(t,x,\\omega \\right)} \\frac{\\partial}{\\partial x} \\operatorname{{\\varepsilon_{RP}}}{\\left(t,x,\\omega \\right)}\\right) \\frac{\\partial}{\\partial x} \\operatorname{RP}{\\left(t,x \\right)}}{\\sqrt{\\operatorname{{V_{RP}}}{\\left(t,x \\right)}}} - \\frac{4 k_{6} \\operatorname{RP}{\\left(t,x \\right)} \\operatorname{V_{RPNO2}}{\\left(t,x \\right)} \\operatorname{{s_{RP,xx}}}{\\left(t,x \\right)}}{\\operatorname{{V_{RP}}}{\\left(t,x \\right)}} + \\frac{4 k_{6} \\operatorname{RP}{\\left(t,x \\right)} \\sqrt{\\operatorname{{V_{NO2}}}{\\left(t,x \\right)}} \\operatorname{{s_{RP,xx}}}^{2}{\\left(t,x \\right)} {\\mathbb E}\\left(\\frac{\\partial}{\\partial x} \\operatorname{{\\varepsilon_{NO2}}}{\\left(t,x,\\omega \\right)} \\frac{\\partial}{\\partial x} \\operatorname{{\\varepsilon_{RP}}}{\\left(t,x,\\omega \\right)}\\right)}{\\sqrt{\\operatorname{{V_{RP}}}{\\left(t,x \\right)}}} - \\frac{2 k_{6} \\operatorname{RP}{\\left(t,x \\right)} \\sqrt{\\operatorname{{V_{NO2}}}{\\left(t,x \\right)}} \\operatorname{{s_{RP,xx}}}^{2}{\\left(t,x \\right)} {\\mathbb E}\\left(\\operatorname{{\\varepsilon_{NO2}}}{\\left(t,x,\\omega \\right)} \\frac{\\partial}{\\partial x} \\operatorname{{\\varepsilon_{RP}}}{\\left(t,x,\\omega \\right)}\\right) \\frac{\\partial}{\\partial x} \\operatorname{{V_{RP}}}{\\left(t,x \\right)}}{\\operatorname{{V_{RP}}}^{\\frac{3}{2}}{\\left(t,x \\right)}} + \\frac{2 k_{6} \\operatorname{RP}{\\left(t,x \\right)} \\operatorname{{s_{RP,xx}}}^{2}{\\left(t,x \\right)} {\\mathbb E}\\left(\\operatorname{{\\varepsilon_{NO2}}}{\\left(t,x,\\omega \\right)} \\frac{\\partial}{\\partial x} \\operatorname{{\\varepsilon_{RP}}}{\\left(t,x,\\omega \\right)}\\right) \\frac{\\partial}{\\partial x} \\operatorname{{V_{NO2}}}{\\left(t,x \\right)}}{\\sqrt{\\operatorname{{V_{NO2}}}{\\left(t,x \\right)}} \\sqrt{\\operatorname{{V_{RP}}}{\\left(t,x \\right)}}} + \\frac{4 k_{6} \\sqrt{\\operatorname{{V_{NO2}}}{\\left(t,x \\right)}} \\operatorname{{s_{RP,xx}}}^{2}{\\left(t,x \\right)} {\\mathbb E}\\left(\\operatorname{{\\varepsilon_{NO2}}}{\\left(t,x,\\omega \\right)} \\frac{\\partial}{\\partial x} \\operatorname{{\\varepsilon_{RP}}}{\\left(t,x,\\omega \\right)}\\right) \\frac{\\partial}{\\partial x} \\operatorname{RP}{\\left(t,x \\right)}}{\\sqrt{\\operatorname{{V_{RP}}}{\\left(t,x \\right)}}} + \\frac{2 \\operatorname{V_{ROCRP}}{\\left(t,x \\right)} \\operatorname{k_{1}}{\\left(t \\right)} \\operatorname{{s_{RP,xx}}}{\\left(t,x \\right)}}{\\operatorname{{V_{RP}}}{\\left(t,x \\right)}} - \\frac{2 \\operatorname{k_{1}}{\\left(t \\right)} \\sqrt{\\operatorname{{V_{ROC}}}{\\left(t,x \\right)}} \\operatorname{{s_{RP,xx}}}^{2}{\\left(t,x \\right)} {\\mathbb E}\\left(\\frac{\\partial}{\\partial x} \\operatorname{{\\varepsilon_{ROC}}}{\\left(t,x,\\omega \\right)} \\frac{\\partial}{\\partial x} \\operatorname{{\\varepsilon_{RP}}}{\\left(t,x,\\omega \\right)}\\right)}{\\sqrt{\\operatorname{{V_{RP}}}{\\left(t,x \\right)}}} + \\frac{\\operatorname{k_{1}}{\\left(t \\right)} \\sqrt{\\operatorname{{V_{ROC}}}{\\left(t,x \\right)}} \\operatorname{{s_{RP,xx}}}^{2}{\\left(t,x \\right)} {\\mathbb E}\\left(\\operatorname{{\\varepsilon_{ROC}}}{\\left(t,x,\\omega \\right)} \\frac{\\partial}{\\partial x} \\operatorname{{\\varepsilon_{RP}}}{\\left(t,x,\\omega \\right)}\\right) \\frac{\\partial}{\\partial x} \\operatorname{{V_{RP}}}{\\left(t,x \\right)}}{\\operatorname{{V_{RP}}}^{\\frac{3}{2}}{\\left(t,x \\right)}} - \\frac{\\operatorname{k_{1}}{\\left(t \\right)} \\operatorname{{s_{RP,xx}}}^{2}{\\left(t,x \\right)} {\\mathbb E}\\left(\\operatorname{{\\varepsilon_{ROC}}}{\\left(t,x,\\omega \\right)} \\frac{\\partial}{\\partial x} \\operatorname{{\\varepsilon_{RP}}}{\\left(t,x,\\omega \\right)}\\right) \\frac{\\partial}{\\partial x} \\operatorname{{V_{ROC}}}{\\left(t,x \\right)}}{\\sqrt{\\operatorname{{V_{ROC}}}{\\left(t,x \\right)}} \\sqrt{\\operatorname{{V_{RP}}}{\\left(t,x \\right)}}} - u{\\left(x \\right)} \\frac{\\partial}{\\partial x} \\operatorname{{s_{RP,xx}}}{\\left(t,x \\right)} + 2 \\operatorname{{s_{RP,xx}}}{\\left(t,x \\right)} \\frac{d}{d x} u{\\left(x \\right)}$"
      ],
      "text/plain": [
       "Eq(Derivative({s_{RP,xx}}(t, x), t), -2*k_2*RP(t, x)*V_RPNO(t, x)*{s_{RP,xx}}(t, x)/{V_{RP}}(t, x) + 2*k_2*RP(t, x)*sqrt({V_{NO}}(t, x))*{s_{RP,xx}}(t, x)**2*Expectation(Derivative({\\varepsilon_{NO}}(t, x, omega), x)*Derivative({\\varepsilon_{RP}}(t, x, omega), x))/sqrt({V_{RP}}(t, x)) - k_2*RP(t, x)*sqrt({V_{NO}}(t, x))*{s_{RP,xx}}(t, x)**2*Expectation({\\varepsilon_{NO}}(t, x, omega)*Derivative({\\varepsilon_{RP}}(t, x, omega), x))*Derivative({V_{RP}}(t, x), x)/{V_{RP}}(t, x)**(3/2) + k_2*RP(t, x)*{s_{RP,xx}}(t, x)**2*Expectation({\\varepsilon_{NO}}(t, x, omega)*Derivative({\\varepsilon_{RP}}(t, x, omega), x))*Derivative({V_{NO}}(t, x), x)/(sqrt({V_{NO}}(t, x))*sqrt({V_{RP}}(t, x))) + 2*k_2*sqrt({V_{NO}}(t, x))*{s_{RP,xx}}(t, x)**2*Expectation({\\varepsilon_{NO}}(t, x, omega)*Derivative({\\varepsilon_{RP}}(t, x, omega), x))*Derivative(RP(t, x), x)/sqrt({V_{RP}}(t, x)) - 4*k_6*RP(t, x)*V_RPNO2(t, x)*{s_{RP,xx}}(t, x)/{V_{RP}}(t, x) + 4*k_6*RP(t, x)*sqrt({V_{NO2}}(t, x))*{s_{RP,xx}}(t, x)**2*Expectation(Derivative({\\varepsilon_{NO2}}(t, x, omega), x)*Derivative({\\varepsilon_{RP}}(t, x, omega), x))/sqrt({V_{RP}}(t, x)) - 2*k_6*RP(t, x)*sqrt({V_{NO2}}(t, x))*{s_{RP,xx}}(t, x)**2*Expectation({\\varepsilon_{NO2}}(t, x, omega)*Derivative({\\varepsilon_{RP}}(t, x, omega), x))*Derivative({V_{RP}}(t, x), x)/{V_{RP}}(t, x)**(3/2) + 2*k_6*RP(t, x)*{s_{RP,xx}}(t, x)**2*Expectation({\\varepsilon_{NO2}}(t, x, omega)*Derivative({\\varepsilon_{RP}}(t, x, omega), x))*Derivative({V_{NO2}}(t, x), x)/(sqrt({V_{NO2}}(t, x))*sqrt({V_{RP}}(t, x))) + 4*k_6*sqrt({V_{NO2}}(t, x))*{s_{RP,xx}}(t, x)**2*Expectation({\\varepsilon_{NO2}}(t, x, omega)*Derivative({\\varepsilon_{RP}}(t, x, omega), x))*Derivative(RP(t, x), x)/sqrt({V_{RP}}(t, x)) + 2*V_ROCRP(t, x)*k_1(t)*{s_{RP,xx}}(t, x)/{V_{RP}}(t, x) - 2*k_1(t)*sqrt({V_{ROC}}(t, x))*{s_{RP,xx}}(t, x)**2*Expectation(Derivative({\\varepsilon_{ROC}}(t, x, omega), x)*Derivative({\\varepsilon_{RP}}(t, x, omega), x))/sqrt({V_{RP}}(t, x)) + k_1(t)*sqrt({V_{ROC}}(t, x))*{s_{RP,xx}}(t, x)**2*Expectation({\\varepsilon_{ROC}}(t, x, omega)*Derivative({\\varepsilon_{RP}}(t, x, omega), x))*Derivative({V_{RP}}(t, x), x)/{V_{RP}}(t, x)**(3/2) - k_1(t)*{s_{RP,xx}}(t, x)**2*Expectation({\\varepsilon_{ROC}}(t, x, omega)*Derivative({\\varepsilon_{RP}}(t, x, omega), x))*Derivative({V_{ROC}}(t, x), x)/(sqrt({V_{ROC}}(t, x))*sqrt({V_{RP}}(t, x))) - u(x)*Derivative({s_{RP,xx}}(t, x), x) + 2*{s_{RP,xx}}(t, x)*Derivative(u(x), x))"
      ]
     },
     "metadata": {},
     "output_type": "display_data"
    },
    {
     "data": {
      "text/latex": [
       "$\\displaystyle \\frac{\\partial}{\\partial t} \\operatorname{{s_{NO,xx}}}{\\left(t,x \\right)} = - \\frac{2 k_{2} \\operatorname{NO}{\\left(t,x \\right)} \\operatorname{V_{RPNO}}{\\left(t,x \\right)} \\operatorname{{s_{NO,xx}}}{\\left(t,x \\right)}}{\\operatorname{{V_{NO}}}{\\left(t,x \\right)}} + \\frac{2 k_{2} \\operatorname{NO}{\\left(t,x \\right)} \\sqrt{\\operatorname{{V_{RP}}}{\\left(t,x \\right)}} \\operatorname{{s_{NO,xx}}}^{2}{\\left(t,x \\right)} {\\mathbb E}\\left(\\frac{\\partial}{\\partial x} \\operatorname{{\\varepsilon_{NO}}}{\\left(t,x,\\omega \\right)} \\frac{\\partial}{\\partial x} \\operatorname{{\\varepsilon_{RP}}}{\\left(t,x,\\omega \\right)}\\right)}{\\sqrt{\\operatorname{{V_{NO}}}{\\left(t,x \\right)}}} + \\frac{k_{2} \\operatorname{NO}{\\left(t,x \\right)} \\operatorname{{s_{NO,xx}}}^{2}{\\left(t,x \\right)} {\\mathbb E}\\left(\\operatorname{{\\varepsilon_{RP}}}{\\left(t,x,\\omega \\right)} \\frac{\\partial}{\\partial x} \\operatorname{{\\varepsilon_{NO}}}{\\left(t,x,\\omega \\right)}\\right) \\frac{\\partial}{\\partial x} \\operatorname{{V_{RP}}}{\\left(t,x \\right)}}{\\sqrt{\\operatorname{{V_{NO}}}{\\left(t,x \\right)}} \\sqrt{\\operatorname{{V_{RP}}}{\\left(t,x \\right)}}} - \\frac{k_{2} \\operatorname{NO}{\\left(t,x \\right)} \\sqrt{\\operatorname{{V_{RP}}}{\\left(t,x \\right)}} \\operatorname{{s_{NO,xx}}}^{2}{\\left(t,x \\right)} {\\mathbb E}\\left(\\operatorname{{\\varepsilon_{RP}}}{\\left(t,x,\\omega \\right)} \\frac{\\partial}{\\partial x} \\operatorname{{\\varepsilon_{NO}}}{\\left(t,x,\\omega \\right)}\\right) \\frac{\\partial}{\\partial x} \\operatorname{{V_{NO}}}{\\left(t,x \\right)}}{\\operatorname{{V_{NO}}}^{\\frac{3}{2}}{\\left(t,x \\right)}} + \\frac{2 k_{2} \\sqrt{\\operatorname{{V_{RP}}}{\\left(t,x \\right)}} \\operatorname{{s_{NO,xx}}}^{2}{\\left(t,x \\right)} {\\mathbb E}\\left(\\operatorname{{\\varepsilon_{RP}}}{\\left(t,x,\\omega \\right)} \\frac{\\partial}{\\partial x} \\operatorname{{\\varepsilon_{NO}}}{\\left(t,x,\\omega \\right)}\\right) \\frac{\\partial}{\\partial x} \\operatorname{NO}{\\left(t,x \\right)}}{\\sqrt{\\operatorname{{V_{NO}}}{\\left(t,x \\right)}}} - \\frac{2 k_{4} \\operatorname{NO}{\\left(t,x \\right)} \\operatorname{V_{NOO3}}{\\left(t,x \\right)} \\operatorname{{s_{NO,xx}}}{\\left(t,x \\right)}}{\\operatorname{{V_{NO}}}{\\left(t,x \\right)}} + \\frac{2 k_{4} \\operatorname{NO}{\\left(t,x \\right)} \\sqrt{\\operatorname{{V_{O3}}}{\\left(t,x \\right)}} \\operatorname{{s_{NO,xx}}}^{2}{\\left(t,x \\right)} {\\mathbb E}\\left(\\frac{\\partial}{\\partial x} \\operatorname{{\\varepsilon_{NO}}}{\\left(t,x,\\omega \\right)} \\frac{\\partial}{\\partial x} \\operatorname{{\\varepsilon_{O3}}}{\\left(t,x,\\omega \\right)}\\right)}{\\sqrt{\\operatorname{{V_{NO}}}{\\left(t,x \\right)}}} + \\frac{k_{4} \\operatorname{NO}{\\left(t,x \\right)} \\operatorname{{s_{NO,xx}}}^{2}{\\left(t,x \\right)} {\\mathbb E}\\left(\\operatorname{{\\varepsilon_{O3}}}{\\left(t,x,\\omega \\right)} \\frac{\\partial}{\\partial x} \\operatorname{{\\varepsilon_{NO}}}{\\left(t,x,\\omega \\right)}\\right) \\frac{\\partial}{\\partial x} \\operatorname{{V_{O3}}}{\\left(t,x \\right)}}{\\sqrt{\\operatorname{{V_{NO}}}{\\left(t,x \\right)}} \\sqrt{\\operatorname{{V_{O3}}}{\\left(t,x \\right)}}} - \\frac{k_{4} \\operatorname{NO}{\\left(t,x \\right)} \\sqrt{\\operatorname{{V_{O3}}}{\\left(t,x \\right)}} \\operatorname{{s_{NO,xx}}}^{2}{\\left(t,x \\right)} {\\mathbb E}\\left(\\operatorname{{\\varepsilon_{O3}}}{\\left(t,x,\\omega \\right)} \\frac{\\partial}{\\partial x} \\operatorname{{\\varepsilon_{NO}}}{\\left(t,x,\\omega \\right)}\\right) \\frac{\\partial}{\\partial x} \\operatorname{{V_{NO}}}{\\left(t,x \\right)}}{\\operatorname{{V_{NO}}}^{\\frac{3}{2}}{\\left(t,x \\right)}} + \\frac{2 k_{4} \\sqrt{\\operatorname{{V_{O3}}}{\\left(t,x \\right)}} \\operatorname{{s_{NO,xx}}}^{2}{\\left(t,x \\right)} {\\mathbb E}\\left(\\operatorname{{\\varepsilon_{O3}}}{\\left(t,x,\\omega \\right)} \\frac{\\partial}{\\partial x} \\operatorname{{\\varepsilon_{NO}}}{\\left(t,x,\\omega \\right)}\\right) \\frac{\\partial}{\\partial x} \\operatorname{NO}{\\left(t,x \\right)}}{\\sqrt{\\operatorname{{V_{NO}}}{\\left(t,x \\right)}}} + \\frac{2 \\operatorname{V_{NONO2}}{\\left(t,x \\right)} \\operatorname{k_{3}}{\\left(t \\right)} \\operatorname{{s_{NO,xx}}}{\\left(t,x \\right)}}{\\operatorname{{V_{NO}}}{\\left(t,x \\right)}} - \\frac{2 \\operatorname{k_{3}}{\\left(t \\right)} \\sqrt{\\operatorname{{V_{NO2}}}{\\left(t,x \\right)}} \\operatorname{{s_{NO,xx}}}^{2}{\\left(t,x \\right)} {\\mathbb E}\\left(\\frac{\\partial}{\\partial x} \\operatorname{{\\varepsilon_{NO2}}}{\\left(t,x,\\omega \\right)} \\frac{\\partial}{\\partial x} \\operatorname{{\\varepsilon_{NO}}}{\\left(t,x,\\omega \\right)}\\right)}{\\sqrt{\\operatorname{{V_{NO}}}{\\left(t,x \\right)}}} + \\frac{\\operatorname{k_{3}}{\\left(t \\right)} \\sqrt{\\operatorname{{V_{NO2}}}{\\left(t,x \\right)}} \\operatorname{{s_{NO,xx}}}^{2}{\\left(t,x \\right)} {\\mathbb E}\\left(\\operatorname{{\\varepsilon_{NO2}}}{\\left(t,x,\\omega \\right)} \\frac{\\partial}{\\partial x} \\operatorname{{\\varepsilon_{NO}}}{\\left(t,x,\\omega \\right)}\\right) \\frac{\\partial}{\\partial x} \\operatorname{{V_{NO}}}{\\left(t,x \\right)}}{\\operatorname{{V_{NO}}}^{\\frac{3}{2}}{\\left(t,x \\right)}} - \\frac{\\operatorname{k_{3}}{\\left(t \\right)} \\operatorname{{s_{NO,xx}}}^{2}{\\left(t,x \\right)} {\\mathbb E}\\left(\\operatorname{{\\varepsilon_{NO2}}}{\\left(t,x,\\omega \\right)} \\frac{\\partial}{\\partial x} \\operatorname{{\\varepsilon_{NO}}}{\\left(t,x,\\omega \\right)}\\right) \\frac{\\partial}{\\partial x} \\operatorname{{V_{NO2}}}{\\left(t,x \\right)}}{\\sqrt{\\operatorname{{V_{NO2}}}{\\left(t,x \\right)}} \\sqrt{\\operatorname{{V_{NO}}}{\\left(t,x \\right)}}} - u{\\left(x \\right)} \\frac{\\partial}{\\partial x} \\operatorname{{s_{NO,xx}}}{\\left(t,x \\right)} + 2 \\operatorname{{s_{NO,xx}}}{\\left(t,x \\right)} \\frac{d}{d x} u{\\left(x \\right)}$"
      ],
      "text/plain": [
       "Eq(Derivative({s_{NO,xx}}(t, x), t), -2*k_2*NO(t, x)*V_RPNO(t, x)*{s_{NO,xx}}(t, x)/{V_{NO}}(t, x) + 2*k_2*NO(t, x)*sqrt({V_{RP}}(t, x))*{s_{NO,xx}}(t, x)**2*Expectation(Derivative({\\varepsilon_{NO}}(t, x, omega), x)*Derivative({\\varepsilon_{RP}}(t, x, omega), x))/sqrt({V_{NO}}(t, x)) + k_2*NO(t, x)*{s_{NO,xx}}(t, x)**2*Expectation({\\varepsilon_{RP}}(t, x, omega)*Derivative({\\varepsilon_{NO}}(t, x, omega), x))*Derivative({V_{RP}}(t, x), x)/(sqrt({V_{NO}}(t, x))*sqrt({V_{RP}}(t, x))) - k_2*NO(t, x)*sqrt({V_{RP}}(t, x))*{s_{NO,xx}}(t, x)**2*Expectation({\\varepsilon_{RP}}(t, x, omega)*Derivative({\\varepsilon_{NO}}(t, x, omega), x))*Derivative({V_{NO}}(t, x), x)/{V_{NO}}(t, x)**(3/2) + 2*k_2*sqrt({V_{RP}}(t, x))*{s_{NO,xx}}(t, x)**2*Expectation({\\varepsilon_{RP}}(t, x, omega)*Derivative({\\varepsilon_{NO}}(t, x, omega), x))*Derivative(NO(t, x), x)/sqrt({V_{NO}}(t, x)) - 2*k_4*NO(t, x)*V_NOO3(t, x)*{s_{NO,xx}}(t, x)/{V_{NO}}(t, x) + 2*k_4*NO(t, x)*sqrt({V_{O3}}(t, x))*{s_{NO,xx}}(t, x)**2*Expectation(Derivative({\\varepsilon_{NO}}(t, x, omega), x)*Derivative({\\varepsilon_{O3}}(t, x, omega), x))/sqrt({V_{NO}}(t, x)) + k_4*NO(t, x)*{s_{NO,xx}}(t, x)**2*Expectation({\\varepsilon_{O3}}(t, x, omega)*Derivative({\\varepsilon_{NO}}(t, x, omega), x))*Derivative({V_{O3}}(t, x), x)/(sqrt({V_{NO}}(t, x))*sqrt({V_{O3}}(t, x))) - k_4*NO(t, x)*sqrt({V_{O3}}(t, x))*{s_{NO,xx}}(t, x)**2*Expectation({\\varepsilon_{O3}}(t, x, omega)*Derivative({\\varepsilon_{NO}}(t, x, omega), x))*Derivative({V_{NO}}(t, x), x)/{V_{NO}}(t, x)**(3/2) + 2*k_4*sqrt({V_{O3}}(t, x))*{s_{NO,xx}}(t, x)**2*Expectation({\\varepsilon_{O3}}(t, x, omega)*Derivative({\\varepsilon_{NO}}(t, x, omega), x))*Derivative(NO(t, x), x)/sqrt({V_{NO}}(t, x)) + 2*V_NONO2(t, x)*k_3(t)*{s_{NO,xx}}(t, x)/{V_{NO}}(t, x) - 2*k_3(t)*sqrt({V_{NO2}}(t, x))*{s_{NO,xx}}(t, x)**2*Expectation(Derivative({\\varepsilon_{NO2}}(t, x, omega), x)*Derivative({\\varepsilon_{NO}}(t, x, omega), x))/sqrt({V_{NO}}(t, x)) + k_3(t)*sqrt({V_{NO2}}(t, x))*{s_{NO,xx}}(t, x)**2*Expectation({\\varepsilon_{NO2}}(t, x, omega)*Derivative({\\varepsilon_{NO}}(t, x, omega), x))*Derivative({V_{NO}}(t, x), x)/{V_{NO}}(t, x)**(3/2) - k_3(t)*{s_{NO,xx}}(t, x)**2*Expectation({\\varepsilon_{NO2}}(t, x, omega)*Derivative({\\varepsilon_{NO}}(t, x, omega), x))*Derivative({V_{NO2}}(t, x), x)/(sqrt({V_{NO2}}(t, x))*sqrt({V_{NO}}(t, x))) - u(x)*Derivative({s_{NO,xx}}(t, x), x) + 2*{s_{NO,xx}}(t, x)*Derivative(u(x), x))"
      ]
     },
     "metadata": {},
     "output_type": "display_data"
    },
    {
     "data": {
      "text/latex": [
       "$\\displaystyle \\frac{\\partial}{\\partial t} \\operatorname{{s_{NO2,xx}}}{\\left(t,x \\right)} = \\frac{2 k_{2} \\operatorname{NO}{\\left(t,x \\right)} \\operatorname{V_{RPNO2}}{\\left(t,x \\right)} \\operatorname{{s_{NO2,xx}}}{\\left(t,x \\right)}}{\\operatorname{{V_{NO2}}}{\\left(t,x \\right)}} - \\frac{2 k_{2} \\operatorname{NO}{\\left(t,x \\right)} \\sqrt{\\operatorname{{V_{RP}}}{\\left(t,x \\right)}} \\operatorname{{s_{NO2,xx}}}^{2}{\\left(t,x \\right)} {\\mathbb E}\\left(\\frac{\\partial}{\\partial x} \\operatorname{{\\varepsilon_{NO2}}}{\\left(t,x,\\omega \\right)} \\frac{\\partial}{\\partial x} \\operatorname{{\\varepsilon_{RP}}}{\\left(t,x,\\omega \\right)}\\right)}{\\sqrt{\\operatorname{{V_{NO2}}}{\\left(t,x \\right)}}} - \\frac{k_{2} \\operatorname{NO}{\\left(t,x \\right)} \\operatorname{{s_{NO2,xx}}}^{2}{\\left(t,x \\right)} {\\mathbb E}\\left(\\operatorname{{\\varepsilon_{RP}}}{\\left(t,x,\\omega \\right)} \\frac{\\partial}{\\partial x} \\operatorname{{\\varepsilon_{NO2}}}{\\left(t,x,\\omega \\right)}\\right) \\frac{\\partial}{\\partial x} \\operatorname{{V_{RP}}}{\\left(t,x \\right)}}{\\sqrt{\\operatorname{{V_{NO2}}}{\\left(t,x \\right)}} \\sqrt{\\operatorname{{V_{RP}}}{\\left(t,x \\right)}}} + \\frac{k_{2} \\operatorname{NO}{\\left(t,x \\right)} \\sqrt{\\operatorname{{V_{RP}}}{\\left(t,x \\right)}} \\operatorname{{s_{NO2,xx}}}^{2}{\\left(t,x \\right)} {\\mathbb E}\\left(\\operatorname{{\\varepsilon_{RP}}}{\\left(t,x,\\omega \\right)} \\frac{\\partial}{\\partial x} \\operatorname{{\\varepsilon_{NO2}}}{\\left(t,x,\\omega \\right)}\\right) \\frac{\\partial}{\\partial x} \\operatorname{{V_{NO2}}}{\\left(t,x \\right)}}{\\operatorname{{V_{NO2}}}^{\\frac{3}{2}}{\\left(t,x \\right)}} + \\frac{2 k_{2} \\operatorname{RP}{\\left(t,x \\right)} \\operatorname{V_{NONO2}}{\\left(t,x \\right)} \\operatorname{{s_{NO2,xx}}}{\\left(t,x \\right)}}{\\operatorname{{V_{NO2}}}{\\left(t,x \\right)}} - \\frac{2 k_{2} \\operatorname{RP}{\\left(t,x \\right)} \\sqrt{\\operatorname{{V_{NO}}}{\\left(t,x \\right)}} \\operatorname{{s_{NO2,xx}}}^{2}{\\left(t,x \\right)} {\\mathbb E}\\left(\\frac{\\partial}{\\partial x} \\operatorname{{\\varepsilon_{NO2}}}{\\left(t,x,\\omega \\right)} \\frac{\\partial}{\\partial x} \\operatorname{{\\varepsilon_{NO}}}{\\left(t,x,\\omega \\right)}\\right)}{\\sqrt{\\operatorname{{V_{NO2}}}{\\left(t,x \\right)}}} - \\frac{k_{2} \\operatorname{RP}{\\left(t,x \\right)} \\operatorname{{s_{NO2,xx}}}^{2}{\\left(t,x \\right)} {\\mathbb E}\\left(\\operatorname{{\\varepsilon_{NO}}}{\\left(t,x,\\omega \\right)} \\frac{\\partial}{\\partial x} \\operatorname{{\\varepsilon_{NO2}}}{\\left(t,x,\\omega \\right)}\\right) \\frac{\\partial}{\\partial x} \\operatorname{{V_{NO}}}{\\left(t,x \\right)}}{\\sqrt{\\operatorname{{V_{NO2}}}{\\left(t,x \\right)}} \\sqrt{\\operatorname{{V_{NO}}}{\\left(t,x \\right)}}} + \\frac{k_{2} \\operatorname{RP}{\\left(t,x \\right)} \\sqrt{\\operatorname{{V_{NO}}}{\\left(t,x \\right)}} \\operatorname{{s_{NO2,xx}}}^{2}{\\left(t,x \\right)} {\\mathbb E}\\left(\\operatorname{{\\varepsilon_{NO}}}{\\left(t,x,\\omega \\right)} \\frac{\\partial}{\\partial x} \\operatorname{{\\varepsilon_{NO2}}}{\\left(t,x,\\omega \\right)}\\right) \\frac{\\partial}{\\partial x} \\operatorname{{V_{NO2}}}{\\left(t,x \\right)}}{\\operatorname{{V_{NO2}}}^{\\frac{3}{2}}{\\left(t,x \\right)}} - \\frac{2 k_{2} \\sqrt{\\operatorname{{V_{NO}}}{\\left(t,x \\right)}} \\operatorname{{s_{NO2,xx}}}^{2}{\\left(t,x \\right)} {\\mathbb E}\\left(\\operatorname{{\\varepsilon_{NO}}}{\\left(t,x,\\omega \\right)} \\frac{\\partial}{\\partial x} \\operatorname{{\\varepsilon_{NO2}}}{\\left(t,x,\\omega \\right)}\\right) \\frac{\\partial}{\\partial x} \\operatorname{RP}{\\left(t,x \\right)}}{\\sqrt{\\operatorname{{V_{NO2}}}{\\left(t,x \\right)}}} - \\frac{2 k_{2} \\sqrt{\\operatorname{{V_{RP}}}{\\left(t,x \\right)}} \\operatorname{{s_{NO2,xx}}}^{2}{\\left(t,x \\right)} {\\mathbb E}\\left(\\operatorname{{\\varepsilon_{RP}}}{\\left(t,x,\\omega \\right)} \\frac{\\partial}{\\partial x} \\operatorname{{\\varepsilon_{NO2}}}{\\left(t,x,\\omega \\right)}\\right) \\frac{\\partial}{\\partial x} \\operatorname{NO}{\\left(t,x \\right)}}{\\sqrt{\\operatorname{{V_{NO2}}}{\\left(t,x \\right)}}} + \\frac{2 k_{4} \\operatorname{NO}{\\left(t,x \\right)} \\operatorname{V_{NO2O3}}{\\left(t,x \\right)} \\operatorname{{s_{NO2,xx}}}{\\left(t,x \\right)}}{\\operatorname{{V_{NO2}}}{\\left(t,x \\right)}} - \\frac{2 k_{4} \\operatorname{NO}{\\left(t,x \\right)} \\sqrt{\\operatorname{{V_{O3}}}{\\left(t,x \\right)}} \\operatorname{{s_{NO2,xx}}}^{2}{\\left(t,x \\right)} {\\mathbb E}\\left(\\frac{\\partial}{\\partial x} \\operatorname{{\\varepsilon_{NO2}}}{\\left(t,x,\\omega \\right)} \\frac{\\partial}{\\partial x} \\operatorname{{\\varepsilon_{O3}}}{\\left(t,x,\\omega \\right)}\\right)}{\\sqrt{\\operatorname{{V_{NO2}}}{\\left(t,x \\right)}}} - \\frac{k_{4} \\operatorname{NO}{\\left(t,x \\right)} \\operatorname{{s_{NO2,xx}}}^{2}{\\left(t,x \\right)} {\\mathbb E}\\left(\\operatorname{{\\varepsilon_{O3}}}{\\left(t,x,\\omega \\right)} \\frac{\\partial}{\\partial x} \\operatorname{{\\varepsilon_{NO2}}}{\\left(t,x,\\omega \\right)}\\right) \\frac{\\partial}{\\partial x} \\operatorname{{V_{O3}}}{\\left(t,x \\right)}}{\\sqrt{\\operatorname{{V_{NO2}}}{\\left(t,x \\right)}} \\sqrt{\\operatorname{{V_{O3}}}{\\left(t,x \\right)}}} + \\frac{k_{4} \\operatorname{NO}{\\left(t,x \\right)} \\sqrt{\\operatorname{{V_{O3}}}{\\left(t,x \\right)}} \\operatorname{{s_{NO2,xx}}}^{2}{\\left(t,x \\right)} {\\mathbb E}\\left(\\operatorname{{\\varepsilon_{O3}}}{\\left(t,x,\\omega \\right)} \\frac{\\partial}{\\partial x} \\operatorname{{\\varepsilon_{NO2}}}{\\left(t,x,\\omega \\right)}\\right) \\frac{\\partial}{\\partial x} \\operatorname{{V_{NO2}}}{\\left(t,x \\right)}}{\\operatorname{{V_{NO2}}}^{\\frac{3}{2}}{\\left(t,x \\right)}} + \\frac{2 k_{4} \\operatorname{O_{3}}{\\left(t,x \\right)} \\operatorname{V_{NONO2}}{\\left(t,x \\right)} \\operatorname{{s_{NO2,xx}}}{\\left(t,x \\right)}}{\\operatorname{{V_{NO2}}}{\\left(t,x \\right)}} - \\frac{2 k_{4} \\operatorname{O_{3}}{\\left(t,x \\right)} \\sqrt{\\operatorname{{V_{NO}}}{\\left(t,x \\right)}} \\operatorname{{s_{NO2,xx}}}^{2}{\\left(t,x \\right)} {\\mathbb E}\\left(\\frac{\\partial}{\\partial x} \\operatorname{{\\varepsilon_{NO2}}}{\\left(t,x,\\omega \\right)} \\frac{\\partial}{\\partial x} \\operatorname{{\\varepsilon_{NO}}}{\\left(t,x,\\omega \\right)}\\right)}{\\sqrt{\\operatorname{{V_{NO2}}}{\\left(t,x \\right)}}} - \\frac{k_{4} \\operatorname{O_{3}}{\\left(t,x \\right)} \\operatorname{{s_{NO2,xx}}}^{2}{\\left(t,x \\right)} {\\mathbb E}\\left(\\operatorname{{\\varepsilon_{NO}}}{\\left(t,x,\\omega \\right)} \\frac{\\partial}{\\partial x} \\operatorname{{\\varepsilon_{NO2}}}{\\left(t,x,\\omega \\right)}\\right) \\frac{\\partial}{\\partial x} \\operatorname{{V_{NO}}}{\\left(t,x \\right)}}{\\sqrt{\\operatorname{{V_{NO2}}}{\\left(t,x \\right)}} \\sqrt{\\operatorname{{V_{NO}}}{\\left(t,x \\right)}}} + \\frac{k_{4} \\operatorname{O_{3}}{\\left(t,x \\right)} \\sqrt{\\operatorname{{V_{NO}}}{\\left(t,x \\right)}} \\operatorname{{s_{NO2,xx}}}^{2}{\\left(t,x \\right)} {\\mathbb E}\\left(\\operatorname{{\\varepsilon_{NO}}}{\\left(t,x,\\omega \\right)} \\frac{\\partial}{\\partial x} \\operatorname{{\\varepsilon_{NO2}}}{\\left(t,x,\\omega \\right)}\\right) \\frac{\\partial}{\\partial x} \\operatorname{{V_{NO2}}}{\\left(t,x \\right)}}{\\operatorname{{V_{NO2}}}^{\\frac{3}{2}}{\\left(t,x \\right)}} - \\frac{2 k_{4} \\sqrt{\\operatorname{{V_{NO}}}{\\left(t,x \\right)}} \\operatorname{{s_{NO2,xx}}}^{2}{\\left(t,x \\right)} {\\mathbb E}\\left(\\operatorname{{\\varepsilon_{NO}}}{\\left(t,x,\\omega \\right)} \\frac{\\partial}{\\partial x} \\operatorname{{\\varepsilon_{NO2}}}{\\left(t,x,\\omega \\right)}\\right) \\frac{\\partial}{\\partial x} \\operatorname{O_{3}}{\\left(t,x \\right)}}{\\sqrt{\\operatorname{{V_{NO2}}}{\\left(t,x \\right)}}} - \\frac{2 k_{4} \\sqrt{\\operatorname{{V_{O3}}}{\\left(t,x \\right)}} \\operatorname{{s_{NO2,xx}}}^{2}{\\left(t,x \\right)} {\\mathbb E}\\left(\\operatorname{{\\varepsilon_{O3}}}{\\left(t,x,\\omega \\right)} \\frac{\\partial}{\\partial x} \\operatorname{{\\varepsilon_{NO2}}}{\\left(t,x,\\omega \\right)}\\right) \\frac{\\partial}{\\partial x} \\operatorname{NO}{\\left(t,x \\right)}}{\\sqrt{\\operatorname{{V_{NO2}}}{\\left(t,x \\right)}}} - \\frac{4 k_{6} \\operatorname{NO_{2}}{\\left(t,x \\right)} \\operatorname{V_{RPNO2}}{\\left(t,x \\right)} \\operatorname{{s_{NO2,xx}}}{\\left(t,x \\right)}}{\\operatorname{{V_{NO2}}}{\\left(t,x \\right)}} + \\frac{4 k_{6} \\operatorname{NO_{2}}{\\left(t,x \\right)} \\sqrt{\\operatorname{{V_{RP}}}{\\left(t,x \\right)}} \\operatorname{{s_{NO2,xx}}}^{2}{\\left(t,x \\right)} {\\mathbb E}\\left(\\frac{\\partial}{\\partial x} \\operatorname{{\\varepsilon_{NO2}}}{\\left(t,x,\\omega \\right)} \\frac{\\partial}{\\partial x} \\operatorname{{\\varepsilon_{RP}}}{\\left(t,x,\\omega \\right)}\\right)}{\\sqrt{\\operatorname{{V_{NO2}}}{\\left(t,x \\right)}}} + \\frac{2 k_{6} \\operatorname{NO_{2}}{\\left(t,x \\right)} \\operatorname{{s_{NO2,xx}}}^{2}{\\left(t,x \\right)} {\\mathbb E}\\left(\\operatorname{{\\varepsilon_{RP}}}{\\left(t,x,\\omega \\right)} \\frac{\\partial}{\\partial x} \\operatorname{{\\varepsilon_{NO2}}}{\\left(t,x,\\omega \\right)}\\right) \\frac{\\partial}{\\partial x} \\operatorname{{V_{RP}}}{\\left(t,x \\right)}}{\\sqrt{\\operatorname{{V_{NO2}}}{\\left(t,x \\right)}} \\sqrt{\\operatorname{{V_{RP}}}{\\left(t,x \\right)}}} - \\frac{2 k_{6} \\operatorname{NO_{2}}{\\left(t,x \\right)} \\sqrt{\\operatorname{{V_{RP}}}{\\left(t,x \\right)}} \\operatorname{{s_{NO2,xx}}}^{2}{\\left(t,x \\right)} {\\mathbb E}\\left(\\operatorname{{\\varepsilon_{RP}}}{\\left(t,x,\\omega \\right)} \\frac{\\partial}{\\partial x} \\operatorname{{\\varepsilon_{NO2}}}{\\left(t,x,\\omega \\right)}\\right) \\frac{\\partial}{\\partial x} \\operatorname{{V_{NO2}}}{\\left(t,x \\right)}}{\\operatorname{{V_{NO2}}}^{\\frac{3}{2}}{\\left(t,x \\right)}} + \\frac{4 k_{6} \\sqrt{\\operatorname{{V_{RP}}}{\\left(t,x \\right)}} \\operatorname{{s_{NO2,xx}}}^{2}{\\left(t,x \\right)} {\\mathbb E}\\left(\\operatorname{{\\varepsilon_{RP}}}{\\left(t,x,\\omega \\right)} \\frac{\\partial}{\\partial x} \\operatorname{{\\varepsilon_{NO2}}}{\\left(t,x,\\omega \\right)}\\right) \\frac{\\partial}{\\partial x} \\operatorname{NO_{2}}{\\left(t,x \\right)}}{\\sqrt{\\operatorname{{V_{NO2}}}{\\left(t,x \\right)}}} - u{\\left(x \\right)} \\frac{\\partial}{\\partial x} \\operatorname{{s_{NO2,xx}}}{\\left(t,x \\right)} + 2 \\operatorname{{s_{NO2,xx}}}{\\left(t,x \\right)} \\frac{d}{d x} u{\\left(x \\right)}$"
      ],
      "text/plain": [
       "Eq(Derivative({s_{NO2,xx}}(t, x), t), 2*k_2*NO(t, x)*V_RPNO2(t, x)*{s_{NO2,xx}}(t, x)/{V_{NO2}}(t, x) - 2*k_2*NO(t, x)*sqrt({V_{RP}}(t, x))*{s_{NO2,xx}}(t, x)**2*Expectation(Derivative({\\varepsilon_{NO2}}(t, x, omega), x)*Derivative({\\varepsilon_{RP}}(t, x, omega), x))/sqrt({V_{NO2}}(t, x)) - k_2*NO(t, x)*{s_{NO2,xx}}(t, x)**2*Expectation({\\varepsilon_{RP}}(t, x, omega)*Derivative({\\varepsilon_{NO2}}(t, x, omega), x))*Derivative({V_{RP}}(t, x), x)/(sqrt({V_{NO2}}(t, x))*sqrt({V_{RP}}(t, x))) + k_2*NO(t, x)*sqrt({V_{RP}}(t, x))*{s_{NO2,xx}}(t, x)**2*Expectation({\\varepsilon_{RP}}(t, x, omega)*Derivative({\\varepsilon_{NO2}}(t, x, omega), x))*Derivative({V_{NO2}}(t, x), x)/{V_{NO2}}(t, x)**(3/2) + 2*k_2*RP(t, x)*V_NONO2(t, x)*{s_{NO2,xx}}(t, x)/{V_{NO2}}(t, x) - 2*k_2*RP(t, x)*sqrt({V_{NO}}(t, x))*{s_{NO2,xx}}(t, x)**2*Expectation(Derivative({\\varepsilon_{NO2}}(t, x, omega), x)*Derivative({\\varepsilon_{NO}}(t, x, omega), x))/sqrt({V_{NO2}}(t, x)) - k_2*RP(t, x)*{s_{NO2,xx}}(t, x)**2*Expectation({\\varepsilon_{NO}}(t, x, omega)*Derivative({\\varepsilon_{NO2}}(t, x, omega), x))*Derivative({V_{NO}}(t, x), x)/(sqrt({V_{NO2}}(t, x))*sqrt({V_{NO}}(t, x))) + k_2*RP(t, x)*sqrt({V_{NO}}(t, x))*{s_{NO2,xx}}(t, x)**2*Expectation({\\varepsilon_{NO}}(t, x, omega)*Derivative({\\varepsilon_{NO2}}(t, x, omega), x))*Derivative({V_{NO2}}(t, x), x)/{V_{NO2}}(t, x)**(3/2) - 2*k_2*sqrt({V_{NO}}(t, x))*{s_{NO2,xx}}(t, x)**2*Expectation({\\varepsilon_{NO}}(t, x, omega)*Derivative({\\varepsilon_{NO2}}(t, x, omega), x))*Derivative(RP(t, x), x)/sqrt({V_{NO2}}(t, x)) - 2*k_2*sqrt({V_{RP}}(t, x))*{s_{NO2,xx}}(t, x)**2*Expectation({\\varepsilon_{RP}}(t, x, omega)*Derivative({\\varepsilon_{NO2}}(t, x, omega), x))*Derivative(NO(t, x), x)/sqrt({V_{NO2}}(t, x)) + 2*k_4*NO(t, x)*V_NO2O3(t, x)*{s_{NO2,xx}}(t, x)/{V_{NO2}}(t, x) - 2*k_4*NO(t, x)*sqrt({V_{O3}}(t, x))*{s_{NO2,xx}}(t, x)**2*Expectation(Derivative({\\varepsilon_{NO2}}(t, x, omega), x)*Derivative({\\varepsilon_{O3}}(t, x, omega), x))/sqrt({V_{NO2}}(t, x)) - k_4*NO(t, x)*{s_{NO2,xx}}(t, x)**2*Expectation({\\varepsilon_{O3}}(t, x, omega)*Derivative({\\varepsilon_{NO2}}(t, x, omega), x))*Derivative({V_{O3}}(t, x), x)/(sqrt({V_{NO2}}(t, x))*sqrt({V_{O3}}(t, x))) + k_4*NO(t, x)*sqrt({V_{O3}}(t, x))*{s_{NO2,xx}}(t, x)**2*Expectation({\\varepsilon_{O3}}(t, x, omega)*Derivative({\\varepsilon_{NO2}}(t, x, omega), x))*Derivative({V_{NO2}}(t, x), x)/{V_{NO2}}(t, x)**(3/2) + 2*k_4*O3(t, x)*V_NONO2(t, x)*{s_{NO2,xx}}(t, x)/{V_{NO2}}(t, x) - 2*k_4*O3(t, x)*sqrt({V_{NO}}(t, x))*{s_{NO2,xx}}(t, x)**2*Expectation(Derivative({\\varepsilon_{NO2}}(t, x, omega), x)*Derivative({\\varepsilon_{NO}}(t, x, omega), x))/sqrt({V_{NO2}}(t, x)) - k_4*O3(t, x)*{s_{NO2,xx}}(t, x)**2*Expectation({\\varepsilon_{NO}}(t, x, omega)*Derivative({\\varepsilon_{NO2}}(t, x, omega), x))*Derivative({V_{NO}}(t, x), x)/(sqrt({V_{NO2}}(t, x))*sqrt({V_{NO}}(t, x))) + k_4*O3(t, x)*sqrt({V_{NO}}(t, x))*{s_{NO2,xx}}(t, x)**2*Expectation({\\varepsilon_{NO}}(t, x, omega)*Derivative({\\varepsilon_{NO2}}(t, x, omega), x))*Derivative({V_{NO2}}(t, x), x)/{V_{NO2}}(t, x)**(3/2) - 2*k_4*sqrt({V_{NO}}(t, x))*{s_{NO2,xx}}(t, x)**2*Expectation({\\varepsilon_{NO}}(t, x, omega)*Derivative({\\varepsilon_{NO2}}(t, x, omega), x))*Derivative(O3(t, x), x)/sqrt({V_{NO2}}(t, x)) - 2*k_4*sqrt({V_{O3}}(t, x))*{s_{NO2,xx}}(t, x)**2*Expectation({\\varepsilon_{O3}}(t, x, omega)*Derivative({\\varepsilon_{NO2}}(t, x, omega), x))*Derivative(NO(t, x), x)/sqrt({V_{NO2}}(t, x)) - 4*k_6*NO2(t, x)*V_RPNO2(t, x)*{s_{NO2,xx}}(t, x)/{V_{NO2}}(t, x) + 4*k_6*NO2(t, x)*sqrt({V_{RP}}(t, x))*{s_{NO2,xx}}(t, x)**2*Expectation(Derivative({\\varepsilon_{NO2}}(t, x, omega), x)*Derivative({\\varepsilon_{RP}}(t, x, omega), x))/sqrt({V_{NO2}}(t, x)) + 2*k_6*NO2(t, x)*{s_{NO2,xx}}(t, x)**2*Expectation({\\varepsilon_{RP}}(t, x, omega)*Derivative({\\varepsilon_{NO2}}(t, x, omega), x))*Derivative({V_{RP}}(t, x), x)/(sqrt({V_{NO2}}(t, x))*sqrt({V_{RP}}(t, x))) - 2*k_6*NO2(t, x)*sqrt({V_{RP}}(t, x))*{s_{NO2,xx}}(t, x)**2*Expectation({\\varepsilon_{RP}}(t, x, omega)*Derivative({\\varepsilon_{NO2}}(t, x, omega), x))*Derivative({V_{NO2}}(t, x), x)/{V_{NO2}}(t, x)**(3/2) + 4*k_6*sqrt({V_{RP}}(t, x))*{s_{NO2,xx}}(t, x)**2*Expectation({\\varepsilon_{RP}}(t, x, omega)*Derivative({\\varepsilon_{NO2}}(t, x, omega), x))*Derivative(NO2(t, x), x)/sqrt({V_{NO2}}(t, x)) - u(x)*Derivative({s_{NO2,xx}}(t, x), x) + 2*{s_{NO2,xx}}(t, x)*Derivative(u(x), x))"
      ]
     },
     "metadata": {},
     "output_type": "display_data"
    },
    {
     "data": {
      "text/latex": [
       "$\\displaystyle \\frac{\\partial}{\\partial t} \\operatorname{{s_{O3,xx}}}{\\left(t,x \\right)} = - \\frac{2 k_{4} \\operatorname{O_{3}}{\\left(t,x \\right)} \\operatorname{V_{NOO3}}{\\left(t,x \\right)} \\operatorname{{s_{O3,xx}}}{\\left(t,x \\right)}}{\\operatorname{{V_{O3}}}{\\left(t,x \\right)}} + \\frac{2 k_{4} \\operatorname{O_{3}}{\\left(t,x \\right)} \\sqrt{\\operatorname{{V_{NO}}}{\\left(t,x \\right)}} \\operatorname{{s_{O3,xx}}}^{2}{\\left(t,x \\right)} {\\mathbb E}\\left(\\frac{\\partial}{\\partial x} \\operatorname{{\\varepsilon_{NO}}}{\\left(t,x,\\omega \\right)} \\frac{\\partial}{\\partial x} \\operatorname{{\\varepsilon_{O3}}}{\\left(t,x,\\omega \\right)}\\right)}{\\sqrt{\\operatorname{{V_{O3}}}{\\left(t,x \\right)}}} - \\frac{k_{4} \\operatorname{O_{3}}{\\left(t,x \\right)} \\sqrt{\\operatorname{{V_{NO}}}{\\left(t,x \\right)}} \\operatorname{{s_{O3,xx}}}^{2}{\\left(t,x \\right)} {\\mathbb E}\\left(\\operatorname{{\\varepsilon_{NO}}}{\\left(t,x,\\omega \\right)} \\frac{\\partial}{\\partial x} \\operatorname{{\\varepsilon_{O3}}}{\\left(t,x,\\omega \\right)}\\right) \\frac{\\partial}{\\partial x} \\operatorname{{V_{O3}}}{\\left(t,x \\right)}}{\\operatorname{{V_{O3}}}^{\\frac{3}{2}}{\\left(t,x \\right)}} + \\frac{k_{4} \\operatorname{O_{3}}{\\left(t,x \\right)} \\operatorname{{s_{O3,xx}}}^{2}{\\left(t,x \\right)} {\\mathbb E}\\left(\\operatorname{{\\varepsilon_{NO}}}{\\left(t,x,\\omega \\right)} \\frac{\\partial}{\\partial x} \\operatorname{{\\varepsilon_{O3}}}{\\left(t,x,\\omega \\right)}\\right) \\frac{\\partial}{\\partial x} \\operatorname{{V_{NO}}}{\\left(t,x \\right)}}{\\sqrt{\\operatorname{{V_{NO}}}{\\left(t,x \\right)}} \\sqrt{\\operatorname{{V_{O3}}}{\\left(t,x \\right)}}} + \\frac{2 k_{4} \\sqrt{\\operatorname{{V_{NO}}}{\\left(t,x \\right)}} \\operatorname{{s_{O3,xx}}}^{2}{\\left(t,x \\right)} {\\mathbb E}\\left(\\operatorname{{\\varepsilon_{NO}}}{\\left(t,x,\\omega \\right)} \\frac{\\partial}{\\partial x} \\operatorname{{\\varepsilon_{O3}}}{\\left(t,x,\\omega \\right)}\\right) \\frac{\\partial}{\\partial x} \\operatorname{O_{3}}{\\left(t,x \\right)}}{\\sqrt{\\operatorname{{V_{O3}}}{\\left(t,x \\right)}}} + \\frac{2 \\operatorname{V_{NO2O3}}{\\left(t,x \\right)} \\operatorname{k_{3}}{\\left(t \\right)} \\operatorname{{s_{O3,xx}}}{\\left(t,x \\right)}}{\\operatorname{{V_{O3}}}{\\left(t,x \\right)}} - \\frac{2 \\operatorname{k_{3}}{\\left(t \\right)} \\sqrt{\\operatorname{{V_{NO2}}}{\\left(t,x \\right)}} \\operatorname{{s_{O3,xx}}}^{2}{\\left(t,x \\right)} {\\mathbb E}\\left(\\frac{\\partial}{\\partial x} \\operatorname{{\\varepsilon_{NO2}}}{\\left(t,x,\\omega \\right)} \\frac{\\partial}{\\partial x} \\operatorname{{\\varepsilon_{O3}}}{\\left(t,x,\\omega \\right)}\\right)}{\\sqrt{\\operatorname{{V_{O3}}}{\\left(t,x \\right)}}} + \\frac{\\operatorname{k_{3}}{\\left(t \\right)} \\sqrt{\\operatorname{{V_{NO2}}}{\\left(t,x \\right)}} \\operatorname{{s_{O3,xx}}}^{2}{\\left(t,x \\right)} {\\mathbb E}\\left(\\operatorname{{\\varepsilon_{NO2}}}{\\left(t,x,\\omega \\right)} \\frac{\\partial}{\\partial x} \\operatorname{{\\varepsilon_{O3}}}{\\left(t,x,\\omega \\right)}\\right) \\frac{\\partial}{\\partial x} \\operatorname{{V_{O3}}}{\\left(t,x \\right)}}{\\operatorname{{V_{O3}}}^{\\frac{3}{2}}{\\left(t,x \\right)}} - \\frac{\\operatorname{k_{3}}{\\left(t \\right)} \\operatorname{{s_{O3,xx}}}^{2}{\\left(t,x \\right)} {\\mathbb E}\\left(\\operatorname{{\\varepsilon_{NO2}}}{\\left(t,x,\\omega \\right)} \\frac{\\partial}{\\partial x} \\operatorname{{\\varepsilon_{O3}}}{\\left(t,x,\\omega \\right)}\\right) \\frac{\\partial}{\\partial x} \\operatorname{{V_{NO2}}}{\\left(t,x \\right)}}{\\sqrt{\\operatorname{{V_{NO2}}}{\\left(t,x \\right)}} \\sqrt{\\operatorname{{V_{O3}}}{\\left(t,x \\right)}}} - u{\\left(x \\right)} \\frac{\\partial}{\\partial x} \\operatorname{{s_{O3,xx}}}{\\left(t,x \\right)} + 2 \\operatorname{{s_{O3,xx}}}{\\left(t,x \\right)} \\frac{d}{d x} u{\\left(x \\right)}$"
      ],
      "text/plain": [
       "Eq(Derivative({s_{O3,xx}}(t, x), t), -2*k_4*O3(t, x)*V_NOO3(t, x)*{s_{O3,xx}}(t, x)/{V_{O3}}(t, x) + 2*k_4*O3(t, x)*sqrt({V_{NO}}(t, x))*{s_{O3,xx}}(t, x)**2*Expectation(Derivative({\\varepsilon_{NO}}(t, x, omega), x)*Derivative({\\varepsilon_{O3}}(t, x, omega), x))/sqrt({V_{O3}}(t, x)) - k_4*O3(t, x)*sqrt({V_{NO}}(t, x))*{s_{O3,xx}}(t, x)**2*Expectation({\\varepsilon_{NO}}(t, x, omega)*Derivative({\\varepsilon_{O3}}(t, x, omega), x))*Derivative({V_{O3}}(t, x), x)/{V_{O3}}(t, x)**(3/2) + k_4*O3(t, x)*{s_{O3,xx}}(t, x)**2*Expectation({\\varepsilon_{NO}}(t, x, omega)*Derivative({\\varepsilon_{O3}}(t, x, omega), x))*Derivative({V_{NO}}(t, x), x)/(sqrt({V_{NO}}(t, x))*sqrt({V_{O3}}(t, x))) + 2*k_4*sqrt({V_{NO}}(t, x))*{s_{O3,xx}}(t, x)**2*Expectation({\\varepsilon_{NO}}(t, x, omega)*Derivative({\\varepsilon_{O3}}(t, x, omega), x))*Derivative(O3(t, x), x)/sqrt({V_{O3}}(t, x)) + 2*V_NO2O3(t, x)*k_3(t)*{s_{O3,xx}}(t, x)/{V_{O3}}(t, x) - 2*k_3(t)*sqrt({V_{NO2}}(t, x))*{s_{O3,xx}}(t, x)**2*Expectation(Derivative({\\varepsilon_{NO2}}(t, x, omega), x)*Derivative({\\varepsilon_{O3}}(t, x, omega), x))/sqrt({V_{O3}}(t, x)) + k_3(t)*sqrt({V_{NO2}}(t, x))*{s_{O3,xx}}(t, x)**2*Expectation({\\varepsilon_{NO2}}(t, x, omega)*Derivative({\\varepsilon_{O3}}(t, x, omega), x))*Derivative({V_{O3}}(t, x), x)/{V_{O3}}(t, x)**(3/2) - k_3(t)*{s_{O3,xx}}(t, x)**2*Expectation({\\varepsilon_{NO2}}(t, x, omega)*Derivative({\\varepsilon_{O3}}(t, x, omega), x))*Derivative({V_{NO2}}(t, x), x)/(sqrt({V_{NO2}}(t, x))*sqrt({V_{O3}}(t, x))) - u(x)*Derivative({s_{O3,xx}}(t, x), x) + 2*{s_{O3,xx}}(t, x)*Derivative(u(x), x))"
      ]
     },
     "metadata": {},
     "output_type": "display_data"
    },
    {
     "data": {
      "text/latex": [
       "$\\displaystyle \\frac{\\partial}{\\partial t} \\operatorname{{s_{SNGN,xx}}}{\\left(t,x \\right)} = \\frac{4 k_{6} \\operatorname{NO_{2}}{\\left(t,x \\right)} \\operatorname{V_{RPSNGN}}{\\left(t,x \\right)} \\operatorname{{s_{SNGN,xx}}}{\\left(t,x \\right)}}{\\operatorname{{V_{SNGN}}}{\\left(t,x \\right)}} - \\frac{4 k_{6} \\operatorname{NO_{2}}{\\left(t,x \\right)} \\sqrt{\\operatorname{{V_{RP}}}{\\left(t,x \\right)}} \\operatorname{{s_{SNGN,xx}}}^{2}{\\left(t,x \\right)} {\\mathbb E}\\left(\\frac{\\partial}{\\partial x} \\operatorname{{\\varepsilon_{RP}}}{\\left(t,x,\\omega \\right)} \\frac{\\partial}{\\partial x} \\operatorname{{\\varepsilon_{SNGN}}}{\\left(t,x,\\omega \\right)}\\right)}{\\sqrt{\\operatorname{{V_{SNGN}}}{\\left(t,x \\right)}}} + \\frac{2 k_{6} \\operatorname{NO_{2}}{\\left(t,x \\right)} \\sqrt{\\operatorname{{V_{RP}}}{\\left(t,x \\right)}} \\operatorname{{s_{SNGN,xx}}}^{2}{\\left(t,x \\right)} {\\mathbb E}\\left(\\operatorname{{\\varepsilon_{RP}}}{\\left(t,x,\\omega \\right)} \\frac{\\partial}{\\partial x} \\operatorname{{\\varepsilon_{SNGN}}}{\\left(t,x,\\omega \\right)}\\right) \\frac{\\partial}{\\partial x} \\operatorname{{V_{SNGN}}}{\\left(t,x \\right)}}{\\operatorname{{V_{SNGN}}}^{\\frac{3}{2}}{\\left(t,x \\right)}} - \\frac{2 k_{6} \\operatorname{NO_{2}}{\\left(t,x \\right)} \\operatorname{{s_{SNGN,xx}}}^{2}{\\left(t,x \\right)} {\\mathbb E}\\left(\\operatorname{{\\varepsilon_{RP}}}{\\left(t,x,\\omega \\right)} \\frac{\\partial}{\\partial x} \\operatorname{{\\varepsilon_{SNGN}}}{\\left(t,x,\\omega \\right)}\\right) \\frac{\\partial}{\\partial x} \\operatorname{{V_{RP}}}{\\left(t,x \\right)}}{\\sqrt{\\operatorname{{V_{RP}}}{\\left(t,x \\right)}} \\sqrt{\\operatorname{{V_{SNGN}}}{\\left(t,x \\right)}}} + \\frac{4 k_{6} \\operatorname{RP}{\\left(t,x \\right)} \\operatorname{V_{NO2SNGN}}{\\left(t,x \\right)} \\operatorname{{s_{SNGN,xx}}}{\\left(t,x \\right)}}{\\operatorname{{V_{SNGN}}}{\\left(t,x \\right)}} - \\frac{4 k_{6} \\operatorname{RP}{\\left(t,x \\right)} \\sqrt{\\operatorname{{V_{NO2}}}{\\left(t,x \\right)}} \\operatorname{{s_{SNGN,xx}}}^{2}{\\left(t,x \\right)} {\\mathbb E}\\left(\\frac{\\partial}{\\partial x} \\operatorname{{\\varepsilon_{NO2}}}{\\left(t,x,\\omega \\right)} \\frac{\\partial}{\\partial x} \\operatorname{{\\varepsilon_{SNGN}}}{\\left(t,x,\\omega \\right)}\\right)}{\\sqrt{\\operatorname{{V_{SNGN}}}{\\left(t,x \\right)}}} + \\frac{2 k_{6} \\operatorname{RP}{\\left(t,x \\right)} \\sqrt{\\operatorname{{V_{NO2}}}{\\left(t,x \\right)}} \\operatorname{{s_{SNGN,xx}}}^{2}{\\left(t,x \\right)} {\\mathbb E}\\left(\\operatorname{{\\varepsilon_{NO2}}}{\\left(t,x,\\omega \\right)} \\frac{\\partial}{\\partial x} \\operatorname{{\\varepsilon_{SNGN}}}{\\left(t,x,\\omega \\right)}\\right) \\frac{\\partial}{\\partial x} \\operatorname{{V_{SNGN}}}{\\left(t,x \\right)}}{\\operatorname{{V_{SNGN}}}^{\\frac{3}{2}}{\\left(t,x \\right)}} - \\frac{2 k_{6} \\operatorname{RP}{\\left(t,x \\right)} \\operatorname{{s_{SNGN,xx}}}^{2}{\\left(t,x \\right)} {\\mathbb E}\\left(\\operatorname{{\\varepsilon_{NO2}}}{\\left(t,x,\\omega \\right)} \\frac{\\partial}{\\partial x} \\operatorname{{\\varepsilon_{SNGN}}}{\\left(t,x,\\omega \\right)}\\right) \\frac{\\partial}{\\partial x} \\operatorname{{V_{NO2}}}{\\left(t,x \\right)}}{\\sqrt{\\operatorname{{V_{NO2}}}{\\left(t,x \\right)}} \\sqrt{\\operatorname{{V_{SNGN}}}{\\left(t,x \\right)}}} - \\frac{4 k_{6} \\sqrt{\\operatorname{{V_{NO2}}}{\\left(t,x \\right)}} \\operatorname{{s_{SNGN,xx}}}^{2}{\\left(t,x \\right)} {\\mathbb E}\\left(\\operatorname{{\\varepsilon_{NO2}}}{\\left(t,x,\\omega \\right)} \\frac{\\partial}{\\partial x} \\operatorname{{\\varepsilon_{SNGN}}}{\\left(t,x,\\omega \\right)}\\right) \\frac{\\partial}{\\partial x} \\operatorname{RP}{\\left(t,x \\right)}}{\\sqrt{\\operatorname{{V_{SNGN}}}{\\left(t,x \\right)}}} - \\frac{4 k_{6} \\sqrt{\\operatorname{{V_{RP}}}{\\left(t,x \\right)}} \\operatorname{{s_{SNGN,xx}}}^{2}{\\left(t,x \\right)} {\\mathbb E}\\left(\\operatorname{{\\varepsilon_{RP}}}{\\left(t,x,\\omega \\right)} \\frac{\\partial}{\\partial x} \\operatorname{{\\varepsilon_{SNGN}}}{\\left(t,x,\\omega \\right)}\\right) \\frac{\\partial}{\\partial x} \\operatorname{NO_{2}}{\\left(t,x \\right)}}{\\sqrt{\\operatorname{{V_{SNGN}}}{\\left(t,x \\right)}}} - u{\\left(x \\right)} \\frac{\\partial}{\\partial x} \\operatorname{{s_{SNGN,xx}}}{\\left(t,x \\right)} + 2 \\operatorname{{s_{SNGN,xx}}}{\\left(t,x \\right)} \\frac{d}{d x} u{\\left(x \\right)}$"
      ],
      "text/plain": [
       "Eq(Derivative({s_{SNGN,xx}}(t, x), t), 4*k_6*NO2(t, x)*V_RPSNGN(t, x)*{s_{SNGN,xx}}(t, x)/{V_{SNGN}}(t, x) - 4*k_6*NO2(t, x)*sqrt({V_{RP}}(t, x))*{s_{SNGN,xx}}(t, x)**2*Expectation(Derivative({\\varepsilon_{RP}}(t, x, omega), x)*Derivative({\\varepsilon_{SNGN}}(t, x, omega), x))/sqrt({V_{SNGN}}(t, x)) + 2*k_6*NO2(t, x)*sqrt({V_{RP}}(t, x))*{s_{SNGN,xx}}(t, x)**2*Expectation({\\varepsilon_{RP}}(t, x, omega)*Derivative({\\varepsilon_{SNGN}}(t, x, omega), x))*Derivative({V_{SNGN}}(t, x), x)/{V_{SNGN}}(t, x)**(3/2) - 2*k_6*NO2(t, x)*{s_{SNGN,xx}}(t, x)**2*Expectation({\\varepsilon_{RP}}(t, x, omega)*Derivative({\\varepsilon_{SNGN}}(t, x, omega), x))*Derivative({V_{RP}}(t, x), x)/(sqrt({V_{RP}}(t, x))*sqrt({V_{SNGN}}(t, x))) + 4*k_6*RP(t, x)*V_NO2SNGN(t, x)*{s_{SNGN,xx}}(t, x)/{V_{SNGN}}(t, x) - 4*k_6*RP(t, x)*sqrt({V_{NO2}}(t, x))*{s_{SNGN,xx}}(t, x)**2*Expectation(Derivative({\\varepsilon_{NO2}}(t, x, omega), x)*Derivative({\\varepsilon_{SNGN}}(t, x, omega), x))/sqrt({V_{SNGN}}(t, x)) + 2*k_6*RP(t, x)*sqrt({V_{NO2}}(t, x))*{s_{SNGN,xx}}(t, x)**2*Expectation({\\varepsilon_{NO2}}(t, x, omega)*Derivative({\\varepsilon_{SNGN}}(t, x, omega), x))*Derivative({V_{SNGN}}(t, x), x)/{V_{SNGN}}(t, x)**(3/2) - 2*k_6*RP(t, x)*{s_{SNGN,xx}}(t, x)**2*Expectation({\\varepsilon_{NO2}}(t, x, omega)*Derivative({\\varepsilon_{SNGN}}(t, x, omega), x))*Derivative({V_{NO2}}(t, x), x)/(sqrt({V_{NO2}}(t, x))*sqrt({V_{SNGN}}(t, x))) - 4*k_6*sqrt({V_{NO2}}(t, x))*{s_{SNGN,xx}}(t, x)**2*Expectation({\\varepsilon_{NO2}}(t, x, omega)*Derivative({\\varepsilon_{SNGN}}(t, x, omega), x))*Derivative(RP(t, x), x)/sqrt({V_{SNGN}}(t, x)) - 4*k_6*sqrt({V_{RP}}(t, x))*{s_{SNGN,xx}}(t, x)**2*Expectation({\\varepsilon_{RP}}(t, x, omega)*Derivative({\\varepsilon_{SNGN}}(t, x, omega), x))*Derivative(NO2(t, x), x)/sqrt({V_{SNGN}}(t, x)) - u(x)*Derivative({s_{SNGN,xx}}(t, x), x) + 2*{s_{SNGN,xx}}(t, x)*Derivative(u(x), x))"
      ]
     },
     "metadata": {},
     "output_type": "display_data"
    }
   ],
   "source": [
    "pkf_dynamics = SymbolicPKF(dynamics)\n",
    "for eq in pkf_dynamics.in_aspect : display(eq)"
   ]
  },
  {
   "cell_type": "markdown",
   "metadata": {},
   "source": [
    "## Simplification of the PKF dynamics"
   ]
  },
  {
   "cell_type": "markdown",
   "metadata": {},
   "source": [
    "### cleaning covariance dynamics"
   ]
  },
  {
   "cell_type": "code",
   "execution_count": 32,
   "metadata": {},
   "outputs": [],
   "source": [
    "mean_system = pkf_dynamics.in_aspect[:6]\n",
    "var_system = pkf_dynamics.in_aspect[6:6+6]\n",
    "cov_system= pkf_dynamics.in_aspect[6+6:6+6+15]\n",
    "aspect_system = pkf_dynamics.in_aspect[6+6+15:]\n",
    "\n",
    "\n",
    "new_cov_system = []\n",
    "for eq in cov_system :\n",
    "    new_eq = eq.subs(u,0).doit()\n",
    "    covar = eq.args[0].args[0]\n",
    "    new_eq = Eq(new_eq.args[0],new_eq.args[1]  -u *Derivative(covar,x) -2*covar*Derivative(u,x))\n",
    "    new_cov_system.append(new_eq)"
   ]
  },
  {
   "cell_type": "markdown",
   "metadata": {},
   "source": [
    "### simplifying aspect-tensor dynamics"
   ]
  },
  {
   "cell_type": "code",
   "execution_count": 41,
   "metadata": {},
   "outputs": [],
   "source": [
    "new_aspect_system = []\n",
    "for eq in aspect_system :\n",
    "    variable = eq.args[0].args[0]\n",
    "    new_eq = Eq(Derivative(variable,t), -u *Derivative(variable,x) +2*variable*Derivative(u,x))\n",
    "    new_aspect_system.append(new_eq)"
   ]
  },
  {
   "cell_type": "code",
   "execution_count": 42,
   "metadata": {},
   "outputs": [],
   "source": [
    "pkf_system = mean_system + var_system + new_cov_system + new_aspect_system"
   ]
  },
  {
   "cell_type": "code",
   "execution_count": 45,
   "metadata": {},
   "outputs": [
    {
     "name": "stdout",
     "output_type": "stream",
     "text": [
      "class adv_grs has been written in module adv_grs in file adv_grs.py\n",
      "class pkf_adv_grs has been written in module pkf_adv_grs in file pkf_adv_grs.py\n"
     ]
    }
   ],
   "source": [
    "#saving generated classes :\n",
    "FDModelBuilder(dynamics, class_name='adv_grs').write_module()\n",
    "FDModelBuilder(pkf_system, class_name='pkf_adv_grs').write_module()"
   ]
  },
  {
   "cell_type": "markdown",
   "metadata": {},
   "source": [
    "..."
   ]
  }
 ],
 "metadata": {
  "kernelspec": {
   "display_name": "Python 3",
   "language": "python",
   "name": "python3"
  },
  "language_info": {
   "codemirror_mode": {
    "name": "ipython",
    "version": 3
   },
   "file_extension": ".py",
   "mimetype": "text/x-python",
   "name": "python",
   "nbconvert_exporter": "python",
   "pygments_lexer": "ipython3",
   "version": "3.8.10"
  }
 },
 "nbformat": 4,
 "nbformat_minor": 4
}
