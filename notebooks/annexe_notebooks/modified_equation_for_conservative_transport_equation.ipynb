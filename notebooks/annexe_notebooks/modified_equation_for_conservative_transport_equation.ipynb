{
 "cells": [
  {
   "cell_type": "markdown",
   "metadata": {
    "slideshow": {
     "slide_type": "slide"
    }
   },
   "source": [
    "<h1><center> Computation of the spatial modified equation for conservative transport equation</center></h1>\n",
    "<center>"
   ]
  },
  {
   "cell_type": "markdown",
   "metadata": {},
   "source": [
    "module used : https://github.com/opannekoucke/modified-equation"
   ]
  },
  {
   "cell_type": "markdown",
   "metadata": {},
   "source": [
    "#### Import of modules & functions"
   ]
  },
  {
   "cell_type": "code",
   "execution_count": 1,
   "metadata": {},
   "outputs": [],
   "source": [
    "from modequation import ModifiedEquation\n",
    "import sympy\n",
    "from sympy import symbols, Derivative, Function, Eq"
   ]
  },
  {
   "cell_type": "code",
   "execution_count": 2,
   "metadata": {},
   "outputs": [],
   "source": [
    "c = sympy.symbols('c')\n",
    "coordinates = sympy.symbols('t x')\n",
    "t, x = coordinates\n",
    "dt, dx = sympy.symbols('dt dx')\n",
    "\n",
    "u = Function('u')(x)\n",
    "X = Function('\\mathcal{X}')(*coordinates)"
   ]
  },
  {
   "cell_type": "code",
   "execution_count": 3,
   "metadata": {},
   "outputs": [],
   "source": [
    "X_qp=X.subs(t,t+dt)\n",
    "X_kp=X.subs(x,x+dx)\n",
    "X_km=X.subs(x,x-dx)\n",
    "\n",
    "u_kp=u.subs(x,x+dx)\n",
    "u_km=u.subs(x,x-dx)"
   ]
  },
  {
   "cell_type": "markdown",
   "metadata": {},
   "source": [
    "#### Definition of the time schemes\n",
    "\n",
    "First we define the numerical schemes as an equation (`sympy.Eq`)\n",
    "$$(1)\\quad \\partial_t \\mathcal{X} =  - u \\frac{\\mathcal{X}_{k+1}-\\mathcal{X}_{k-1}}{2\\delta x} - \\mathcal{X} \\frac{u_{k+1}-u_{k-1}}{2\\delta x}$$\n"
   ]
  },
  {
   "cell_type": "code",
   "execution_count": 4,
   "metadata": {},
   "outputs": [],
   "source": [
    "euler_centered_scheme = Eq( Derivative(X,t), -u * (X_kp-X_km)/(2*dx) - X * (u_kp-u_km)/(2*dx) )"
   ]
  },
  {
   "cell_type": "markdown",
   "metadata": {},
   "source": [
    "#### Computation of the modified equations"
   ]
  },
  {
   "cell_type": "code",
   "execution_count": 5,
   "metadata": {},
   "outputs": [],
   "source": [
    "euler_centered = ModifiedEquation(euler_centered_scheme, X, order =3)"
   ]
  },
  {
   "cell_type": "code",
   "execution_count": 6,
   "metadata": {},
   "outputs": [
    {
     "data": {
      "text/latex": [
       "$\\displaystyle \\frac{\\partial}{\\partial t} \\mathcal{X}{\\left(t,x \\right)} = - \\mathcal{X}{\\left(t,x \\right)} \\frac{d}{d x} u{\\left(x \\right)} - u{\\left(x \\right)} \\frac{\\partial}{\\partial x} \\mathcal{X}{\\left(t,x \\right)}$"
      ],
      "text/plain": [
       "Eq(Derivative(\\mathcal{X}(t, x), t), -\\mathcal{X}(t, x)*Derivative(u(x), x) - u(x)*Derivative(\\mathcal{X}(t, x), x))"
      ]
     },
     "execution_count": 6,
     "metadata": {},
     "output_type": "execute_result"
    }
   ],
   "source": [
    "euler_centered.consistant_equation"
   ]
  },
  {
   "cell_type": "code",
   "execution_count": 7,
   "metadata": {},
   "outputs": [
    {
     "data": {
      "text/latex": [
       "$\\displaystyle \\frac{\\partial}{\\partial t} \\mathcal{X}{\\left(t,x \\right)} = - u{\\left(x \\right)} \\frac{\\partial}{\\partial x} \\mathcal{X}{\\left(t,x \\right)} - \\mathcal{X}{\\left(t,x \\right)} \\frac{d}{d x} u{\\left(x \\right)} - \\frac{dx^{2} u{\\left(x \\right)} \\frac{\\partial^{3}}{\\partial x^{3}} \\mathcal{X}{\\left(t,x \\right)}}{6} - \\frac{dx^{2} \\mathcal{X}{\\left(t,x \\right)} \\frac{d^{3}}{d x^{3}} u{\\left(x \\right)}}{6} + O\\left(dx^{3}\\right)$"
      ],
      "text/plain": [
       "Eq(Derivative(\\mathcal{X}(t, x), t), -u(x)*Derivative(\\mathcal{X}(t, x), x) - \\mathcal{X}(t, x)*Derivative(u(x), x) - dx**2*u(x)*Derivative(\\mathcal{X}(t, x), (x, 3))/6 - dx**2*\\mathcal{X}(t, x)*Derivative(u(x), (x, 3))/6 + O(dx**3))"
      ]
     },
     "execution_count": 7,
     "metadata": {},
     "output_type": "execute_result"
    }
   ],
   "source": [
    "euler_centered.modified_equation"
   ]
  }
 ],
 "metadata": {
  "celltoolbar": "Slideshow",
  "kernelspec": {
   "display_name": "Python 3",
   "language": "python",
   "name": "python3"
  },
  "language_info": {
   "codemirror_mode": {
    "name": "ipython",
    "version": 3
   },
   "file_extension": ".py",
   "mimetype": "text/x-python",
   "name": "python",
   "nbconvert_exporter": "python",
   "pygments_lexer": "ipython3",
   "version": "3.8.8"
  },
  "toc": {
   "nav_menu": {
    "height": "244px",
    "width": "212px"
   },
   "number_sections": true,
   "sideBar": true,
   "skip_h1_title": true,
   "toc_cell": false,
   "toc_position": {},
   "toc_section_display": "block",
   "toc_window_display": false
  }
 },
 "nbformat": 4,
 "nbformat_minor": 4
}
