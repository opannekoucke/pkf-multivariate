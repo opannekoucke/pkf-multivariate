{
 "cells": [
  {
   "cell_type": "code",
   "execution_count": 1,
   "metadata": {},
   "outputs": [],
   "source": [
    "import sys ; sys.path.append(\"../\")\n",
    "import numpy as np\n",
    "import matplotlib.pyplot as plt\n",
    "\n",
    "from module.tools import make_bivariate_ensemble, make_samples\n",
    "from module.generated_models import adv_lv, alternative_pkf_adv_lv\n",
    "from module.multivariate import MultivariateEnKF1D, MultivariatePKF1D\n",
    "\n",
    "from module.lh import *"
   ]
  },
  {
   "cell_type": "markdown",
   "metadata": {},
   "source": [
    "## Importing the alternative PKF dynamics"
   ]
  },
  {
   "cell_type": "code",
   "execution_count": 4,
   "metadata": {},
   "outputs": [
    {
     "name": "stdout",
     "output_type": "stream",
     "text": [
      "Warning: function `u` has to be set\n",
      "Warning: constant `k_3` has to be set\n",
      "Warning: constant `k_1` has to be set\n",
      "Warning: constant `k_2` has to be set\n",
      "Warning: function `u` has to be set\n",
      "Warning: constant `k_2` has to be set\n",
      "Warning: constant `k_3` has to be set\n",
      "Warning: constant `k_1` has to be set\n",
      "Warning: function `u` has to be set\n",
      "Warning: constant `k_3` has to be set\n",
      "Warning: constant `k_1` has to be set\n",
      "Warning: constant `k_2` has to be set\n"
     ]
    }
   ],
   "source": [
    "class EnKF_Advection_LV(MultivariateEnKF1D, adv_lv):\n",
    "    def __init__(self, **kwargs):\n",
    "        adv_lv.__init__(self, **kwargs)\n",
    "        MultivariateEnKF1D.__init__(self, ['A','B']) \n",
    "        \n",
    "class PKF_Advection_LV(MultivariatePKF1D, alternative_pkf_adv_lv):\n",
    "    def __init__(self, **kwargs):\n",
    "        alternative_pkf_adv_lv.__init__(self, **kwargs)\n",
    "        MultivariatePKF1D.__init__(self, ['A','B'])\n",
    "        \n",
    "Nx = 723\n",
    "enkf = EnKF_Advection_LV(shape=(Nx,))\n",
    "pkf = PKF_Advection_LV(shape=(Nx,));\n",
    "\n",
    "NR = EnKF_Advection_LV(shape=(Nx,)) # Nature run"
   ]
  },
  {
   "cell_type": "markdown",
   "metadata": {},
   "source": [
    "## Parameters of the simulation : <a class=\"anchor\" id=\"simulation-parameters\"></a>"
   ]
  },
  {
   "cell_type": "code",
   "execution_count": 5,
   "metadata": {},
   "outputs": [
    {
     "data": {
      "image/png": "[encoded data removed]",
      "text/plain": [
       "<Figure size 432x288 with 1 Axes>"
      ]
     },
     "metadata": {
      "needs_background": "light"
     },
     "output_type": "display_data"
    }
   ],
   "source": [
    "domain = enkf ; dx = domain.dx[0]\n",
    "\n",
    "D = 1000  #km\n",
    "u_mean = 35  #kmh\n",
    "u_amp = 15 #15#kmh\n",
    "\n",
    "u = (u_mean + u_amp*np.cos(2*np.pi*domain.x[0]))/D\n",
    "Tadv = 1/u.mean()\n",
    "\n",
    "enkf.u = u ; pkf.u = u ; NR.u = u\n",
    "enkf.k_1 = 0.075; pkf.k_1 = 0.075 ; NR.k_1 = 0.075\n",
    "enkf.k_2 = 0.065; pkf.k_2 = 0.065 ; NR.k_2 = 0.065\n",
    "enkf.k_3 = 0.085; pkf.k_3 = 0.085 ; NR.k_3 = 0.085\n",
    "\n",
    "dt = dx/u.max()\n",
    "enkf.set_dt(dt); pkf.set_dt(dt);\n",
    "\n",
    "species_name = ['A','B']\n",
    "initial_settings = {}\n",
    "nature_A = 1.2 * (1+0.1*make_samples(1, domain=domain.x[0],lh=lh)[0])\n",
    "nature_B = 0.8 * (1+0.1*make_samples(1, domain=domain.x[0],lh=lh)[0])\n",
    "initial_settings['Mean concentration'] = {'A':1.2,\n",
    "                                          'B':0.8}\n",
    "initial_settings['Std']                = {'A':0.1*1.2 ,'B':0.1*0.8}\n",
    "initial_settings['Length-scale']       = {'A':lh,'B':lh}\n",
    "\n",
    "plt.plot(domain.x[0], u/u.max(), c= 'k',linewidth=2)\n",
    "plt.xlabel(\"$x/D$\",fontsize=15);\n",
    "plt.ylabel(\"$u/U_{max}$\",fontsize=15);\n",
    "plt.title('$U_{max}=$'+ f'{int(u.max()*D)} kmh',fontsize=15);"
   ]
  },
  {
   "cell_type": "markdown",
   "metadata": {},
   "source": [
    "### Initializing the EnKF :"
   ]
  },
  {
   "cell_type": "code",
   "execution_count": 9,
   "metadata": {},
   "outputs": [
    {
     "name": "stdout",
     "output_type": "stream",
     "text": [
      "standard deviation for the ensemble : 9.13%\n"
     ]
    }
   ],
   "source": [
    "ensemble_size = 120\n",
    "from module.tools import make_samples\n",
    "print('standard deviation for the ensemble : {:.2%}'.format( (1/ensemble_size)**.5) )\n",
    "\n",
    "ensemble0 = np.array([ initial_settings['Mean concentration'][field] +\n",
    "                      make_samples(ensemble_size,\n",
    "                                   domain.x[0],\n",
    "                                   initial_settings['Length-scale'][field])\n",
    "                      * initial_settings['Std'][field] for field in species_name]).swapaxes(0,1)"
   ]
  },
  {
   "cell_type": "markdown",
   "metadata": {},
   "source": [
    "### Initializing the PKF :"
   ]
  },
  {
   "cell_type": "code",
   "execution_count": 10,
   "metadata": {},
   "outputs": [],
   "source": [
    "mean_states0    = [initial_settings['Mean concentration'][field] + np.zeros(Nx) for field in species_name]\n",
    "var0            = [initial_settings['Std'][field]**2 + np.zeros(Nx) for field in species_name]\n",
    "aspect_tensors0 = [initial_settings['Length-scale'][field]**2 +np.zeros(Nx) for field in species_name]\n",
    "covariance0     = [np.zeros(Nx)]\n",
    "pkf_state0 = np.array(mean_states0 +  var0 + covariance0 + aspect_tensors0, dtype=np.float64)\n",
    "\n",
    "# pkf_state0 = [mean_states0 +  var0 + covariance0 + aspect_tensors0]\n",
    "# pkf_state0 = np.vstack([pkf_state0[i] + np.zeros(Nx) for i in range(len(pkf_state0))])"
   ]
  },
  {
   "cell_type": "markdown",
   "metadata": {},
   "source": [
    "## Initializing the nature run :"
   ]
  },
  {
   "cell_type": "code",
   "execution_count": 11,
   "metadata": {},
   "outputs": [],
   "source": [
    "NR_0 = np.array([[nature_A,nature_B]])"
   ]
  },
  {
   "cell_type": "markdown",
   "metadata": {},
   "source": [
    "# 2. Five assimilation cycles <a class=\"anchor\" id=\"multivariate-assimilation\"></a>\n",
    "\n",
    "we now consider the assimilation of observations on species $A$ at four locations $\\mathbf{x}=0.5,0.63,0.76,0.9$."
   ]
  },
  {
   "cell_type": "code",
   "execution_count": 12,
   "metadata": {
    "scrolled": false
   },
   "outputs": [
    {
     "name": "stdout",
     "output_type": "stream",
     "text": [
      "cycle 0\n",
      "cycle 1\n",
      "cycle 2\n",
      "cycle 3\n",
      "cycle 4\n"
     ]
    }
   ],
   "source": [
    "assimilation_time_window = Tadv/3\n",
    "n_cycles = 5\n",
    "\n",
    "# observations configurations :\n",
    "obs_std = .1\n",
    "obs_network = (np.linspace(0.5,0.9,4)*Nx).astype(int)\n",
    "obs_specie = 'A'\n",
    "obs_species = len(obs_network)*[obs_specie]\n",
    "error_obs = obs_std + 0*obs_network\n",
    "\n",
    "#initializing the pkf and enkf :\n",
    "pkf_state  = pkf_state0\n",
    "enkf_state = ensemble0\n",
    "NR_state = NR_0\n",
    "\n",
    "# saving dictionnaries :\n",
    "pkf_DA = {} ; enkf_DA = {}\n",
    "obs_values_hist = {}\n",
    "NR_save = {}\n",
    "t = 0\n",
    "all_times = []\n",
    "for i in range(n_cycles):\n",
    "    print('cycle',i)\n",
    "    times = pkf.window(t + assimilation_time_window, start = t)\n",
    "    all_times = all_times + list(times)\n",
    "    saved_times = list(times[::4*3]) + [times[-1]]\n",
    "    \n",
    "    # pkf forecast \n",
    "    traj_pkf = pkf.forecast(times, pkf_state,saved_times)\n",
    "    rendered_traj_pkf = pkf.render_traj(traj_pkf, obs_network, obs_species)\n",
    "    \n",
    "    # enkf forecast \n",
    "    traj_enkf = enkf.ensemble_forecast(times, enkf_state, saved_times)\n",
    "    \n",
    "    # nature run forecast\n",
    "    traj_nr = NR.ensemble_forecast(times, NR_state, saved_times)\n",
    "    \n",
    "    t = list(rendered_traj_pkf.keys())[-1]\n",
    "    \n",
    "    pkf_state = traj_pkf[t] ; enkf_state = traj_enkf[t];\n",
    "    NR_state = np.array(traj_nr[t])\n",
    "    del traj_pkf\n",
    "    diag_enkf = enkf.diagnosis(traj_enkf, obs_network, obs_species)\n",
    "    del traj_enkf\n",
    "    \n",
    "    # collecting forecasts historic \n",
    "    pkf_DA = {**pkf_DA, **rendered_traj_pkf}\n",
    "    enkf_DA = {**enkf_DA, **diag_enkf}\n",
    "    NR_save = {**NR_save, **traj_nr}\n",
    "    \n",
    "    # generating observations\n",
    "#     state_f_obs_network_enkf = diag_enkf[t]['Mean concentration'][obs_specie][obs_network]\n",
    "#     state_f_obs_network_pkf = rendered_traj_pkf[t]['Mean concentration'][obs_specie][obs_network]\n",
    "    nr_A_obs_loc_reality = NR_state[0,0][obs_network]\n",
    "    \n",
    "    obs_values =  np.maximum(0, np.random.multivariate_normal(nr_A_obs_loc_reality, np.diag(error_obs**2)))\n",
    "    obs_values_hist[t] = obs_values\n",
    "    \n",
    "    #assimilation of the observations :\n",
    "    enkf_state = enkf.assimilate(enkf_state, obs_network, obs_species, obs_values, error_obs**2)\n",
    "    pkf_state = pkf.multivariate_assimilation(pkf_state, obs_values, obs_network, obs_species, error_obs**2, method='O1')\n",
    "    \n",
    "    #analysis diagnosis :\n",
    "    rendered_pkf_a = pkf.render_traj({t:pkf_state}, obs_network, obs_species)\n",
    "    diag_enkf_a = enkf.diagnosis({t:enkf_state}, obs_network, obs_species)\n",
    "    \n",
    "    #saving data :\n",
    "    pkf_DA = {**pkf_DA, **rendered_pkf_a}\n",
    "    enkf_DA = {**enkf_DA, **diag_enkf_a}\n",
    "\n",
    "    del rendered_traj_pkf, diag_enkf;"
   ]
  },
  {
   "cell_type": "markdown",
   "metadata": {},
   "source": [
    "# 3. Forecast <a class=\"anchor\" id=\"multivariate-assimilation\"></a>"
   ]
  },
  {
   "cell_type": "code",
   "execution_count": 13,
   "metadata": {
    "scrolled": false
   },
   "outputs": [],
   "source": [
    "assimilation_time_window = Tadv/3\n",
    "n_cycles = 5\n",
    "t_end = n_cycles * assimilation_time_window\n",
    "\n",
    "times = pkf.window(t_end, start = .0)\n",
    "saved_times = list(times)[::12] + [times[-1]]\n",
    "obs_network = (np.linspace(0.5,0.9,4)*Nx).astype(int)\n",
    "obs_specie = 'A'\n",
    "obs_species = len(obs_network)*[obs_specie]\n",
    "\n",
    "# pkf forecast \n",
    "traj_pkf = pkf.forecast(times, pkf_state0,saved_times)\n",
    "pkf_FCST = pkf.render_traj(traj_pkf, obs_network, obs_species)\n",
    "\n",
    "# enkf forecast \n",
    "traj_enkf = enkf.ensemble_forecast(times, ensemble0, saved_times)\n",
    "enkf_FCST = enkf.diagnosis(traj_enkf, obs_network, obs_species)"
   ]
  },
  {
   "cell_type": "markdown",
   "metadata": {},
   "source": [
    "# 4. Ploting"
   ]
  },
  {
   "cell_type": "code",
   "execution_count": 15,
   "metadata": {},
   "outputs": [],
   "source": [
    "normalization = initial_settings\n",
    "\n",
    "from copy import deepcopy\n",
    "subplot_lims_DA = deepcopy(initial_settings)\n",
    "\n",
    "for tf in subplot_lims_DA.keys():\n",
    "    for sp in species_name : subplot_lims_DA[tf][sp] = (np.inf,-np.inf)\n",
    "\n",
    "for t, diag in enkf_DA.items():\n",
    "    for tf in subplot_lims_DA.keys():\n",
    "        for sp in species_name : \n",
    "            _min, _max = subplot_lims_DA[tf][sp]\n",
    "            if diag[tf][sp].min()/normalization[tf][sp] < _min: _min = diag[tf][sp].min()/normalization[tf][sp]\n",
    "            if diag[tf][sp].max()/normalization[tf][sp] > _max: _max = diag[tf][sp].max()/normalization[tf][sp]\n",
    "            subplot_lims_DA[tf][sp] = (_min, _max)\n",
    "\n",
    "for tf in subplot_lims_DA.keys():\n",
    "    for sp in species_name :\n",
    "        _min, _max = subplot_lims_DA[tf][sp]\n",
    "        amp = _max - _min\n",
    "        subplot_lims_DA[tf][sp] = (_min - 0.1*amp, _max+0.1*amp)  \n",
    "\n",
    "titles_DA = {t:r'Data assimilation with EnKF (blue, $N_e ={}$) and PKF (red), $t={:.2f}$h'.format(ensemble_size, t) for t in enkf_DA.keys()}\n",
    "\n",
    "normalization = initial_settings\n",
    "\n",
    "from copy import deepcopy\n",
    "subplot_lims_FCST = deepcopy(initial_settings)\n",
    "\n",
    "for tf in subplot_lims_FCST.keys():\n",
    "    for sp in species_name : subplot_lims_FCST[tf][sp] = (np.inf,-np.inf)\n",
    "\n",
    "for t, diag in enkf_FCST.items():\n",
    "    for tf in subplot_lims_FCST.keys():\n",
    "        for sp in species_name : \n",
    "            _min, _max = subplot_lims_FCST[tf][sp]\n",
    "            if diag[tf][sp].min()/normalization[tf][sp] < _min: _min = diag[tf][sp].min()/normalization[tf][sp]\n",
    "            if diag[tf][sp].max()/normalization[tf][sp] > _max: _max = diag[tf][sp].max()/normalization[tf][sp]\n",
    "            subplot_lims_FCST[tf][sp] = (_min, _max)\n",
    "\n",
    "for tf in subplot_lims_FCST.keys():\n",
    "    for sp in species_name :\n",
    "        _min, _max = subplot_lims_FCST[tf][sp]\n",
    "        amp = _max - _min\n",
    "        subplot_lims_FCST[tf][sp] = (_min - 0.1*amp, _max+0.1*amp)  \n",
    "\n",
    "\n",
    "titles_FCST = {t:r'Forecast with EnKF (blue, $N_e ={}$) and PKF (red), $t={:.2f}$h'.format(ensemble_size, t) for t in enkf_FCST.keys()}\n",
    "\n",
    "ylabels = [r'$A/A^0$',\n",
    "          r'$B/B^0$',\n",
    "          r'$\\sigma_A/\\sigma_A^0$',\n",
    "          r'$\\sigma_B/\\sigma_B^0$',\n",
    "          r'$L_A/l_h^0$',\n",
    "          r'$L_B/l_h^0$']\n",
    "\n",
    "plots_indices= [f'({c}) ' for c in 'abcdfgh']\n",
    "subplots = [(3,4,1),(3,4,2),(3,4,3),(3,4,4),(3,4,7),(3,4,8),(3,4,9),(3,4,10),(3,2,6)]\n",
    "\n",
    "keys = [ ('Mean concentration','A'),\n",
    "       ('Mean concentration','B'),\n",
    "       ('Std','A'),\n",
    "       ('Std','B'),\n",
    "       ('Length-scale','A'),\n",
    "       ('Length-scale','B')]\n",
    "\n",
    "\n",
    "def make_plot(t, enkf_DA, pkf_DA, assimilation_exp, subplot_lims, plot_nature_run=False, title=None,):\n",
    "    fig = plt.figure(figsize=(24,12))\n",
    "    if assimilation_exp :\n",
    "        fig.suptitle(titles_DA[t],fontsize=15)\n",
    "        assim = t in list(obs_values_hist.keys())\n",
    "    else :\n",
    "        fig.suptitle(titles_FCST[t],fontsize=15)\n",
    "        assim = False\n",
    "    \n",
    "    \n",
    "    if assimilation_exp and assim:\n",
    "        plt.subplot(*subplots[0])\n",
    "        plt.scatter(domain.x[0][obs_network],obs_values_hist[t]/normalization['Mean concentration']['A'],marker='o',c='k')\n",
    "    for i, (plot_index, subplot, (key1,key2)) in enumerate(zip(plots_indices, subplots, keys)):\n",
    "        plt.subplot(*subplot)\n",
    "        plt.axhline(1,c='grey',alpha=0.2)\n",
    "        plt.ylim(*subplot_lims[key1][key2])\n",
    "        if plot_nature_run and i <2 :\n",
    "            plt.plot(domain.x[0], NR_save[t][0][i]/normalization[key1][key2],c='g',label='nature run')\n",
    "        \n",
    "        plt.plot(domain.x[0], enkf_DA[t][key1][key2]/normalization[key1][key2], c='b',linestyle='--',label='EnKF')\n",
    "        plt.plot(domain.x[0], pkf_DA[t][key1][key2]/normalization[key1][key2], c='r',linestyle='-',label='PKF')\n",
    "        plt.ylabel(ylabels[i],fontsize=13)\n",
    "        plt.title(key1 +' ' +key2,fontsize=14)\n",
    "        if i ==0 :plt.legend(loc='upper left');\n",
    "        \n",
    "        if assimilation_exp:\n",
    "            for loc in obs_network: plt.axvline(domain.x[0][loc], c='grey',alpha=0.3 if assim else 0.2)\n",
    "        \n",
    "    plt.subplot(3,2,3);plt.title('Correlation field' +r' $V^{AB}_x/(\\sigma^A_x\\sigma^B_x)$',fontsize=14);\n",
    "    if assimilation_exp:\n",
    "        for loc in obs_network: plt.axvline(domain.x[0][loc], c='grey',alpha=0.3 if assim else 0.2)\n",
    "    plt.ylim(-1.1,1.1); plt.axhline(0,c='grey',alpha=0.2)\n",
    "    plt.plot(domain.x[0], enkf_DA[t]['Correlation']['A']['B'], c='b',linestyle='--')\n",
    "    plt.plot(domain.x[0], pkf_DA[t]['Correlation']['A']['B'], c='r',linestyle='-')\n",
    "        \n",
    "    plt.subplot(3,4,9);plt.title('Auto-covariance functions',fontsize=14);\n",
    "    plt.axhline(1,c='grey',alpha=0.2); plt.ylabel(r\"$/V_A^0$\",fontsize=13)\n",
    "    plt.ylim(-0.1*subplot_lims['Std']['A'][1]**2, 5.1)\n",
    "    for loc in obs_network :\n",
    "        plt.axvline(domain.x[0][loc], c='grey',alpha=0.3 if assim else 0.2)\n",
    "        plt.plot(domain.x[0], enkf_DA[t]['Covariance functions'][loc]['A/A']/normalization['Std']['A']**2, c='b',linestyle='--')\n",
    "        plt.plot(domain.x[0], pkf_DA[t]['Covariance functions'][loc]['A/A']/normalization['Std']['A']**2, c='r',linestyle='-')\n",
    "    \n",
    "    plt.subplot(3,4,10);plt.title('Auto-correlation functions',fontsize=14);\n",
    "    plt.axhline(1,c='grey',alpha=0.2); plt.ylim(-0.1,1.1)\n",
    "    for loc in obs_network :\n",
    "        plt.axvline(domain.x[0][loc], c='grey',alpha=0.3 if assim else 0.2)\n",
    "        plt.plot(domain.x[0], enkf_DA[t]['Correlation functions'][loc]['A/A'], c='b',linestyle='--')\n",
    "        plt.plot(domain.x[0], pkf_DA[t]['Correlation functions'][loc]['A/A'], c='r',linestyle='-')\n",
    "        \n",
    "    plt.subplot(3,2,6);plt.title('Cross-correlation functions',fontsize=14);\n",
    "    plt.axhline(0,c='grey',alpha=0.2); plt.ylim(-1.1,1.1)\n",
    "    plt.axhline(-1,c='grey',alpha=0.2); plt.axhline(1,c='grey',alpha=0.2)\n",
    "    for loc in obs_network :\n",
    "        plt.axvline(domain.x[0][loc], c='grey',alpha=0.3 if assim else 0.2)\n",
    "        plt.plot(domain.x[0], enkf_DA[t]['Correlation functions'][loc]['A/B'], c='b',linestyle='--')\n",
    "        plt.plot(domain.x[0], pkf_DA[t]['Correlation functions'][loc]['A/B'], c='r',linestyle='-')\n",
    "    \n",
    "    fig.tight_layout();\n",
    "    return fig"
   ]
  },
  {
   "cell_type": "markdown",
   "metadata": {},
   "source": [
    "## 4.1 making videos"
   ]
  },
  {
   "cell_type": "markdown",
   "metadata": {},
   "source": [
    "### forecast experiment"
   ]
  },
  {
   "cell_type": "code",
   "execution_count": 18,
   "metadata": {},
   "outputs": [
    {
     "data": {
      "text/plain": [
       "<Figure size 1728x864 with 0 Axes>"
      ]
     },
     "metadata": {},
     "output_type": "display_data"
    },
    {
     "data": {
      "text/plain": [
       "<Figure size 1728x864 with 0 Axes>"
      ]
     },
     "metadata": {},
     "output_type": "display_data"
    },
    {
     "data": {
      "text/plain": [
       "<Figure size 1728x864 with 0 Axes>"
      ]
     },
     "metadata": {},
     "output_type": "display_data"
    },
    {
     "data": {
      "text/plain": [
       "<Figure size 1728x864 with 0 Axes>"
      ]
     },
     "metadata": {},
     "output_type": "display_data"
    },
    {
     "data": {
      "text/plain": [
       "<Figure size 1728x864 with 0 Axes>"
      ]
     },
     "metadata": {},
     "output_type": "display_data"
    },
    {
     "data": {
      "text/plain": [
       "<Figure size 1728x864 with 0 Axes>"
      ]
     },
     "metadata": {},
     "output_type": "display_data"
    },
    {
     "data": {
      "text/plain": [
       "<Figure size 1728x864 with 0 Axes>"
      ]
     },
     "metadata": {},
     "output_type": "display_data"
    },
    {
     "data": {
      "text/plain": [
       "<Figure size 1728x864 with 0 Axes>"
      ]
     },
     "metadata": {},
     "output_type": "display_data"
    },
    {
     "data": {
      "text/plain": [
       "<Figure size 1728x864 with 0 Axes>"
      ]
     },
     "metadata": {},
     "output_type": "display_data"
    },
    {
     "data": {
      "text/plain": [
       "<Figure size 1728x864 with 0 Axes>"
      ]
     },
     "metadata": {},
     "output_type": "display_data"
    },
    {
     "data": {
      "text/plain": [
       "<Figure size 1728x864 with 0 Axes>"
      ]
     },
     "metadata": {},
     "output_type": "display_data"
    },
    {
     "data": {
      "text/plain": [
       "<Figure size 1728x864 with 0 Axes>"
      ]
     },
     "metadata": {},
     "output_type": "display_data"
    },
    {
     "data": {
      "text/plain": [
       "<Figure size 1728x864 with 0 Axes>"
      ]
     },
     "metadata": {},
     "output_type": "display_data"
    },
    {
     "data": {
      "text/plain": [
       "<Figure size 1728x864 with 0 Axes>"
      ]
     },
     "metadata": {},
     "output_type": "display_data"
    },
    {
     "data": {
      "text/plain": [
       "<Figure size 1728x864 with 0 Axes>"
      ]
     },
     "metadata": {},
     "output_type": "display_data"
    },
    {
     "data": {
      "text/plain": [
       "<Figure size 1728x864 with 0 Axes>"
      ]
     },
     "metadata": {},
     "output_type": "display_data"
    },
    {
     "data": {
      "text/plain": [
       "<Figure size 1728x864 with 0 Axes>"
      ]
     },
     "metadata": {},
     "output_type": "display_data"
    },
    {
     "data": {
      "text/plain": [
       "<Figure size 1728x864 with 0 Axes>"
      ]
     },
     "metadata": {},
     "output_type": "display_data"
    },
    {
     "data": {
      "text/plain": [
       "<Figure size 1728x864 with 0 Axes>"
      ]
     },
     "metadata": {},
     "output_type": "display_data"
    },
    {
     "data": {
      "text/plain": [
       "<Figure size 1728x864 with 0 Axes>"
      ]
     },
     "metadata": {},
     "output_type": "display_data"
    },
    {
     "data": {
      "text/plain": [
       "<Figure size 1728x864 with 0 Axes>"
      ]
     },
     "metadata": {},
     "output_type": "display_data"
    },
    {
     "data": {
      "text/plain": [
       "<Figure size 1728x864 with 0 Axes>"
      ]
     },
     "metadata": {},
     "output_type": "display_data"
    },
    {
     "data": {
      "text/plain": [
       "<Figure size 1728x864 with 0 Axes>"
      ]
     },
     "metadata": {},
     "output_type": "display_data"
    },
    {
     "data": {
      "text/plain": [
       "<Figure size 1728x864 with 0 Axes>"
      ]
     },
     "metadata": {},
     "output_type": "display_data"
    },
    {
     "data": {
      "text/plain": [
       "<Figure size 1728x864 with 0 Axes>"
      ]
     },
     "metadata": {},
     "output_type": "display_data"
    },
    {
     "data": {
      "text/plain": [
       "<Figure size 1728x864 with 0 Axes>"
      ]
     },
     "metadata": {},
     "output_type": "display_data"
    },
    {
     "data": {
      "text/plain": [
       "<Figure size 1728x864 with 0 Axes>"
      ]
     },
     "metadata": {},
     "output_type": "display_data"
    },
    {
     "data": {
      "text/plain": [
       "<Figure size 1728x864 with 0 Axes>"
      ]
     },
     "metadata": {},
     "output_type": "display_data"
    },
    {
     "data": {
      "text/plain": [
       "<Figure size 1728x864 with 0 Axes>"
      ]
     },
     "metadata": {},
     "output_type": "display_data"
    },
    {
     "data": {
      "text/plain": [
       "<Figure size 1728x864 with 0 Axes>"
      ]
     },
     "metadata": {},
     "output_type": "display_data"
    },
    {
     "data": {
      "text/plain": [
       "<Figure size 1728x864 with 0 Axes>"
      ]
     },
     "metadata": {},
     "output_type": "display_data"
    },
    {
     "data": {
      "text/plain": [
       "<Figure size 1728x864 with 0 Axes>"
      ]
     },
     "metadata": {},
     "output_type": "display_data"
    },
    {
     "data": {
      "text/plain": [
       "<Figure size 1728x864 with 0 Axes>"
      ]
     },
     "metadata": {},
     "output_type": "display_data"
    },
    {
     "data": {
      "text/plain": [
       "<Figure size 1728x864 with 0 Axes>"
      ]
     },
     "metadata": {},
     "output_type": "display_data"
    },
    {
     "data": {
      "text/plain": [
       "<Figure size 1728x864 with 0 Axes>"
      ]
     },
     "metadata": {},
     "output_type": "display_data"
    },
    {
     "data": {
      "text/plain": [
       "<Figure size 1728x864 with 0 Axes>"
      ]
     },
     "metadata": {},
     "output_type": "display_data"
    },
    {
     "data": {
      "text/plain": [
       "<Figure size 1728x864 with 0 Axes>"
      ]
     },
     "metadata": {},
     "output_type": "display_data"
    },
    {
     "data": {
      "text/plain": [
       "<Figure size 1728x864 with 0 Axes>"
      ]
     },
     "metadata": {},
     "output_type": "display_data"
    },
    {
     "data": {
      "text/plain": [
       "<Figure size 1728x864 with 0 Axes>"
      ]
     },
     "metadata": {},
     "output_type": "display_data"
    },
    {
     "data": {
      "text/plain": [
       "<Figure size 1728x864 with 0 Axes>"
      ]
     },
     "metadata": {},
     "output_type": "display_data"
    },
    {
     "data": {
      "text/plain": [
       "<Figure size 1728x864 with 0 Axes>"
      ]
     },
     "metadata": {},
     "output_type": "display_data"
    },
    {
     "data": {
      "text/plain": [
       "<Figure size 1728x864 with 0 Axes>"
      ]
     },
     "metadata": {},
     "output_type": "display_data"
    },
    {
     "data": {
      "text/plain": [
       "<Figure size 1728x864 with 0 Axes>"
      ]
     },
     "metadata": {},
     "output_type": "display_data"
    },
    {
     "data": {
      "text/plain": [
       "<Figure size 1728x864 with 0 Axes>"
      ]
     },
     "metadata": {},
     "output_type": "display_data"
    },
    {
     "data": {
      "text/plain": [
       "<Figure size 1728x864 with 0 Axes>"
      ]
     },
     "metadata": {},
     "output_type": "display_data"
    },
    {
     "data": {
      "text/plain": [
       "<Figure size 1728x864 with 0 Axes>"
      ]
     },
     "metadata": {},
     "output_type": "display_data"
    },
    {
     "data": {
      "text/plain": [
       "<Figure size 1728x864 with 0 Axes>"
      ]
     },
     "metadata": {},
     "output_type": "display_data"
    },
    {
     "data": {
      "text/plain": [
       "<Figure size 1728x864 with 0 Axes>"
      ]
     },
     "metadata": {},
     "output_type": "display_data"
    },
    {
     "data": {
      "text/plain": [
       "<Figure size 1728x864 with 0 Axes>"
      ]
     },
     "metadata": {},
     "output_type": "display_data"
    },
    {
     "data": {
      "text/plain": [
       "<Figure size 1728x864 with 0 Axes>"
      ]
     },
     "metadata": {},
     "output_type": "display_data"
    },
    {
     "data": {
      "text/plain": [
       "<Figure size 1728x864 with 0 Axes>"
      ]
     },
     "metadata": {},
     "output_type": "display_data"
    },
    {
     "data": {
      "text/plain": [
       "<Figure size 1728x864 with 0 Axes>"
      ]
     },
     "metadata": {},
     "output_type": "display_data"
    },
    {
     "data": {
      "text/plain": [
       "<Figure size 1728x864 with 0 Axes>"
      ]
     },
     "metadata": {},
     "output_type": "display_data"
    },
    {
     "data": {
      "text/plain": [
       "<Figure size 1728x864 with 0 Axes>"
      ]
     },
     "metadata": {},
     "output_type": "display_data"
    },
    {
     "data": {
      "text/plain": [
       "<Figure size 1728x864 with 0 Axes>"
      ]
     },
     "metadata": {},
     "output_type": "display_data"
    },
    {
     "data": {
      "text/plain": [
       "<Figure size 1728x864 with 0 Axes>"
      ]
     },
     "metadata": {},
     "output_type": "display_data"
    },
    {
     "data": {
      "text/plain": [
       "<Figure size 1728x864 with 0 Axes>"
      ]
     },
     "metadata": {},
     "output_type": "display_data"
    },
    {
     "data": {
      "text/plain": [
       "<Figure size 1728x864 with 0 Axes>"
      ]
     },
     "metadata": {},
     "output_type": "display_data"
    },
    {
     "data": {
      "text/plain": [
       "<Figure size 1728x864 with 0 Axes>"
      ]
     },
     "metadata": {},
     "output_type": "display_data"
    },
    {
     "data": {
      "text/plain": [
       "<Figure size 1728x864 with 0 Axes>"
      ]
     },
     "metadata": {},
     "output_type": "display_data"
    },
    {
     "data": {
      "text/plain": [
       "<Figure size 1728x864 with 0 Axes>"
      ]
     },
     "metadata": {},
     "output_type": "display_data"
    },
    {
     "data": {
      "text/plain": [
       "<Figure size 1728x864 with 0 Axes>"
      ]
     },
     "metadata": {},
     "output_type": "display_data"
    },
    {
     "data": {
      "text/plain": [
       "<Figure size 1728x864 with 0 Axes>"
      ]
     },
     "metadata": {},
     "output_type": "display_data"
    },
    {
     "data": {
      "text/plain": [
       "<Figure size 1728x864 with 0 Axes>"
      ]
     },
     "metadata": {},
     "output_type": "display_data"
    },
    {
     "data": {
      "text/plain": [
       "<Figure size 1728x864 with 0 Axes>"
      ]
     },
     "metadata": {},
     "output_type": "display_data"
    },
    {
     "data": {
      "text/plain": [
       "<Figure size 1728x864 with 0 Axes>"
      ]
     },
     "metadata": {},
     "output_type": "display_data"
    },
    {
     "data": {
      "text/plain": [
       "<Figure size 1728x864 with 0 Axes>"
      ]
     },
     "metadata": {},
     "output_type": "display_data"
    },
    {
     "data": {
      "text/plain": [
       "<Figure size 1728x864 with 0 Axes>"
      ]
     },
     "metadata": {},
     "output_type": "display_data"
    },
    {
     "data": {
      "text/plain": [
       "<Figure size 1728x864 with 0 Axes>"
      ]
     },
     "metadata": {},
     "output_type": "display_data"
    },
    {
     "data": {
      "text/plain": [
       "<Figure size 1728x864 with 0 Axes>"
      ]
     },
     "metadata": {},
     "output_type": "display_data"
    },
    {
     "data": {
      "text/plain": [
       "<Figure size 1728x864 with 0 Axes>"
      ]
     },
     "metadata": {},
     "output_type": "display_data"
    },
    {
     "data": {
      "text/plain": [
       "<Figure size 1728x864 with 0 Axes>"
      ]
     },
     "metadata": {},
     "output_type": "display_data"
    },
    {
     "data": {
      "text/plain": [
       "<Figure size 1728x864 with 0 Axes>"
      ]
     },
     "metadata": {},
     "output_type": "display_data"
    },
    {
     "data": {
      "text/plain": [
       "<Figure size 1728x864 with 0 Axes>"
      ]
     },
     "metadata": {},
     "output_type": "display_data"
    },
    {
     "data": {
      "text/plain": [
       "<Figure size 1728x864 with 0 Axes>"
      ]
     },
     "metadata": {},
     "output_type": "display_data"
    },
    {
     "data": {
      "text/plain": [
       "<Figure size 1728x864 with 0 Axes>"
      ]
     },
     "metadata": {},
     "output_type": "display_data"
    },
    {
     "data": {
      "text/plain": [
       "<Figure size 1728x864 with 0 Axes>"
      ]
     },
     "metadata": {},
     "output_type": "display_data"
    },
    {
     "data": {
      "text/plain": [
       "<Figure size 1728x864 with 0 Axes>"
      ]
     },
     "metadata": {},
     "output_type": "display_data"
    },
    {
     "data": {
      "text/plain": [
       "<Figure size 1728x864 with 0 Axes>"
      ]
     },
     "metadata": {},
     "output_type": "display_data"
    },
    {
     "data": {
      "text/plain": [
       "<Figure size 1728x864 with 0 Axes>"
      ]
     },
     "metadata": {},
     "output_type": "display_data"
    },
    {
     "data": {
      "text/plain": [
       "<Figure size 1728x864 with 0 Axes>"
      ]
     },
     "metadata": {},
     "output_type": "display_data"
    },
    {
     "data": {
      "text/plain": [
       "<Figure size 1728x864 with 0 Axes>"
      ]
     },
     "metadata": {},
     "output_type": "display_data"
    },
    {
     "data": {
      "text/plain": [
       "<Figure size 1728x864 with 0 Axes>"
      ]
     },
     "metadata": {},
     "output_type": "display_data"
    },
    {
     "data": {
      "text/plain": [
       "<Figure size 1728x864 with 0 Axes>"
      ]
     },
     "metadata": {},
     "output_type": "display_data"
    },
    {
     "data": {
      "text/plain": [
       "<Figure size 1728x864 with 0 Axes>"
      ]
     },
     "metadata": {},
     "output_type": "display_data"
    },
    {
     "data": {
      "text/plain": [
       "<Figure size 1728x864 with 0 Axes>"
      ]
     },
     "metadata": {},
     "output_type": "display_data"
    },
    {
     "data": {
      "text/plain": [
       "<Figure size 1728x864 with 0 Axes>"
      ]
     },
     "metadata": {},
     "output_type": "display_data"
    },
    {
     "data": {
      "text/plain": [
       "<Figure size 1728x864 with 0 Axes>"
      ]
     },
     "metadata": {},
     "output_type": "display_data"
    },
    {
     "data": {
      "text/plain": [
       "<Figure size 1728x864 with 0 Axes>"
      ]
     },
     "metadata": {},
     "output_type": "display_data"
    },
    {
     "data": {
      "text/plain": [
       "<Figure size 1728x864 with 0 Axes>"
      ]
     },
     "metadata": {},
     "output_type": "display_data"
    },
    {
     "data": {
      "text/plain": [
       "<Figure size 1728x864 with 0 Axes>"
      ]
     },
     "metadata": {},
     "output_type": "display_data"
    },
    {
     "data": {
      "text/plain": [
       "<Figure size 1728x864 with 0 Axes>"
      ]
     },
     "metadata": {},
     "output_type": "display_data"
    },
    {
     "data": {
      "text/plain": [
       "<Figure size 1728x864 with 0 Axes>"
      ]
     },
     "metadata": {},
     "output_type": "display_data"
    },
    {
     "data": {
      "text/plain": [
       "<Figure size 1728x864 with 0 Axes>"
      ]
     },
     "metadata": {},
     "output_type": "display_data"
    },
    {
     "data": {
      "text/plain": [
       "<Figure size 1728x864 with 0 Axes>"
      ]
     },
     "metadata": {},
     "output_type": "display_data"
    },
    {
     "data": {
      "text/plain": [
       "<Figure size 1728x864 with 0 Axes>"
      ]
     },
     "metadata": {},
     "output_type": "display_data"
    },
    {
     "data": {
      "text/plain": [
       "<Figure size 1728x864 with 0 Axes>"
      ]
     },
     "metadata": {},
     "output_type": "display_data"
    },
    {
     "data": {
      "text/plain": [
       "<Figure size 1728x864 with 0 Axes>"
      ]
     },
     "metadata": {},
     "output_type": "display_data"
    },
    {
     "data": {
      "text/plain": [
       "<Figure size 1728x864 with 0 Axes>"
      ]
     },
     "metadata": {},
     "output_type": "display_data"
    },
    {
     "data": {
      "text/plain": [
       "<Figure size 1728x864 with 0 Axes>"
      ]
     },
     "metadata": {},
     "output_type": "display_data"
    },
    {
     "data": {
      "text/plain": [
       "<Figure size 1728x864 with 0 Axes>"
      ]
     },
     "metadata": {},
     "output_type": "display_data"
    },
    {
     "data": {
      "text/plain": [
       "<Figure size 1728x864 with 0 Axes>"
      ]
     },
     "metadata": {},
     "output_type": "display_data"
    },
    {
     "data": {
      "text/plain": [
       "<Figure size 1728x864 with 0 Axes>"
      ]
     },
     "metadata": {},
     "output_type": "display_data"
    },
    {
     "data": {
      "text/plain": [
       "<Figure size 1728x864 with 0 Axes>"
      ]
     },
     "metadata": {},
     "output_type": "display_data"
    },
    {
     "data": {
      "text/plain": [
       "<Figure size 1728x864 with 0 Axes>"
      ]
     },
     "metadata": {},
     "output_type": "display_data"
    },
    {
     "data": {
      "text/plain": [
       "<Figure size 1728x864 with 0 Axes>"
      ]
     },
     "metadata": {},
     "output_type": "display_data"
    },
    {
     "data": {
      "text/plain": [
       "<Figure size 1728x864 with 0 Axes>"
      ]
     },
     "metadata": {},
     "output_type": "display_data"
    },
    {
     "data": {
      "text/plain": [
       "<Figure size 1728x864 with 0 Axes>"
      ]
     },
     "metadata": {},
     "output_type": "display_data"
    },
    {
     "data": {
      "text/plain": [
       "<Figure size 1728x864 with 0 Axes>"
      ]
     },
     "metadata": {},
     "output_type": "display_data"
    },
    {
     "data": {
      "text/plain": [
       "<Figure size 1728x864 with 0 Axes>"
      ]
     },
     "metadata": {},
     "output_type": "display_data"
    },
    {
     "data": {
      "text/plain": [
       "<Figure size 1728x864 with 0 Axes>"
      ]
     },
     "metadata": {},
     "output_type": "display_data"
    },
    {
     "data": {
      "text/plain": [
       "<Figure size 1728x864 with 0 Axes>"
      ]
     },
     "metadata": {},
     "output_type": "display_data"
    },
    {
     "data": {
      "text/plain": [
       "<Figure size 1728x864 with 0 Axes>"
      ]
     },
     "metadata": {},
     "output_type": "display_data"
    },
    {
     "data": {
      "text/plain": [
       "<Figure size 1728x864 with 0 Axes>"
      ]
     },
     "metadata": {},
     "output_type": "display_data"
    },
    {
     "data": {
      "text/plain": [
       "<Figure size 1728x864 with 0 Axes>"
      ]
     },
     "metadata": {},
     "output_type": "display_data"
    },
    {
     "data": {
      "text/plain": [
       "<Figure size 1728x864 with 0 Axes>"
      ]
     },
     "metadata": {},
     "output_type": "display_data"
    },
    {
     "data": {
      "text/plain": [
       "<Figure size 1728x864 with 0 Axes>"
      ]
     },
     "metadata": {},
     "output_type": "display_data"
    },
    {
     "data": {
      "text/plain": [
       "<Figure size 1728x864 with 0 Axes>"
      ]
     },
     "metadata": {},
     "output_type": "display_data"
    },
    {
     "data": {
      "text/plain": [
       "<Figure size 1728x864 with 0 Axes>"
      ]
     },
     "metadata": {},
     "output_type": "display_data"
    },
    {
     "data": {
      "text/plain": [
       "<Figure size 1728x864 with 0 Axes>"
      ]
     },
     "metadata": {},
     "output_type": "display_data"
    },
    {
     "data": {
      "text/plain": [
       "<Figure size 1728x864 with 0 Axes>"
      ]
     },
     "metadata": {},
     "output_type": "display_data"
    },
    {
     "data": {
      "text/plain": [
       "<Figure size 1728x864 with 0 Axes>"
      ]
     },
     "metadata": {},
     "output_type": "display_data"
    },
    {
     "data": {
      "text/plain": [
       "<Figure size 1728x864 with 0 Axes>"
      ]
     },
     "metadata": {},
     "output_type": "display_data"
    },
    {
     "data": {
      "text/plain": [
       "<Figure size 1728x864 with 0 Axes>"
      ]
     },
     "metadata": {},
     "output_type": "display_data"
    },
    {
     "data": {
      "text/plain": [
       "<Figure size 1728x864 with 0 Axes>"
      ]
     },
     "metadata": {},
     "output_type": "display_data"
    },
    {
     "data": {
      "text/plain": [
       "<Figure size 1728x864 with 0 Axes>"
      ]
     },
     "metadata": {},
     "output_type": "display_data"
    },
    {
     "data": {
      "text/plain": [
       "<Figure size 1728x864 with 0 Axes>"
      ]
     },
     "metadata": {},
     "output_type": "display_data"
    },
    {
     "data": {
      "text/plain": [
       "<Figure size 1728x864 with 0 Axes>"
      ]
     },
     "metadata": {},
     "output_type": "display_data"
    },
    {
     "data": {
      "text/plain": [
       "<Figure size 1728x864 with 0 Axes>"
      ]
     },
     "metadata": {},
     "output_type": "display_data"
    },
    {
     "data": {
      "text/plain": [
       "<Figure size 1728x864 with 0 Axes>"
      ]
     },
     "metadata": {},
     "output_type": "display_data"
    },
    {
     "data": {
      "text/plain": [
       "<Figure size 1728x864 with 0 Axes>"
      ]
     },
     "metadata": {},
     "output_type": "display_data"
    },
    {
     "data": {
      "text/plain": [
       "<Figure size 1728x864 with 0 Axes>"
      ]
     },
     "metadata": {},
     "output_type": "display_data"
    },
    {
     "data": {
      "text/plain": [
       "<Figure size 1728x864 with 0 Axes>"
      ]
     },
     "metadata": {},
     "output_type": "display_data"
    },
    {
     "data": {
      "text/plain": [
       "<Figure size 1728x864 with 0 Axes>"
      ]
     },
     "metadata": {},
     "output_type": "display_data"
    },
    {
     "data": {
      "text/plain": [
       "<Figure size 1728x864 with 0 Axes>"
      ]
     },
     "metadata": {},
     "output_type": "display_data"
    },
    {
     "data": {
      "text/plain": [
       "<Figure size 1728x864 with 0 Axes>"
      ]
     },
     "metadata": {},
     "output_type": "display_data"
    },
    {
     "data": {
      "text/plain": [
       "<Figure size 1728x864 with 0 Axes>"
      ]
     },
     "metadata": {},
     "output_type": "display_data"
    },
    {
     "data": {
      "text/plain": [
       "<Figure size 1728x864 with 0 Axes>"
      ]
     },
     "metadata": {},
     "output_type": "display_data"
    },
    {
     "data": {
      "text/plain": [
       "<Figure size 1728x864 with 0 Axes>"
      ]
     },
     "metadata": {},
     "output_type": "display_data"
    },
    {
     "data": {
      "text/plain": [
       "<Figure size 1728x864 with 0 Axes>"
      ]
     },
     "metadata": {},
     "output_type": "display_data"
    },
    {
     "data": {
      "text/plain": [
       "<Figure size 1728x864 with 0 Axes>"
      ]
     },
     "metadata": {},
     "output_type": "display_data"
    },
    {
     "data": {
      "text/plain": [
       "<Figure size 1728x864 with 0 Axes>"
      ]
     },
     "metadata": {},
     "output_type": "display_data"
    },
    {
     "data": {
      "text/plain": [
       "<Figure size 1728x864 with 0 Axes>"
      ]
     },
     "metadata": {},
     "output_type": "display_data"
    },
    {
     "data": {
      "text/plain": [
       "<Figure size 1728x864 with 0 Axes>"
      ]
     },
     "metadata": {},
     "output_type": "display_data"
    },
    {
     "data": {
      "text/plain": [
       "<Figure size 1728x864 with 0 Axes>"
      ]
     },
     "metadata": {},
     "output_type": "display_data"
    }
   ],
   "source": [
    "from model.ploting_functions.utils import *\n",
    "\n",
    "times = list(enkf_FCST.keys())\n",
    "\n",
    "saving_dir = '../plots/'\n",
    "img_name= f'alternative_pkf_formulation_forecast_Nx{Nx}'\n",
    "\n",
    "ploting_args = (enkf_FCST,pkf_FCST,False,subplot_lims_FCST,None,)\n",
    "\n",
    "save_plots(saving_dir, img_name, make_plot, times, titles_FCST, ploting_args)\n",
    "\n",
    "make_video(imgs_dir = saving_dir, output_dir='../video_plots/',\n",
    "           output_filename = img_name,fps = 12)"
   ]
  },
  {
   "cell_type": "markdown",
   "metadata": {},
   "source": [
    "### data assimilation experiment"
   ]
  },
  {
   "cell_type": "code",
   "execution_count": 19,
   "metadata": {},
   "outputs": [
    {
     "data": {
      "text/plain": [
       "<Figure size 1728x864 with 0 Axes>"
      ]
     },
     "metadata": {},
     "output_type": "display_data"
    },
    {
     "data": {
      "text/plain": [
       "<Figure size 1728x864 with 0 Axes>"
      ]
     },
     "metadata": {},
     "output_type": "display_data"
    },
    {
     "data": {
      "text/plain": [
       "<Figure size 1728x864 with 0 Axes>"
      ]
     },
     "metadata": {},
     "output_type": "display_data"
    },
    {
     "data": {
      "text/plain": [
       "<Figure size 1728x864 with 0 Axes>"
      ]
     },
     "metadata": {},
     "output_type": "display_data"
    },
    {
     "data": {
      "text/plain": [
       "<Figure size 1728x864 with 0 Axes>"
      ]
     },
     "metadata": {},
     "output_type": "display_data"
    },
    {
     "data": {
      "text/plain": [
       "<Figure size 1728x864 with 0 Axes>"
      ]
     },
     "metadata": {},
     "output_type": "display_data"
    },
    {
     "data": {
      "text/plain": [
       "<Figure size 1728x864 with 0 Axes>"
      ]
     },
     "metadata": {},
     "output_type": "display_data"
    },
    {
     "data": {
      "text/plain": [
       "<Figure size 1728x864 with 0 Axes>"
      ]
     },
     "metadata": {},
     "output_type": "display_data"
    },
    {
     "data": {
      "text/plain": [
       "<Figure size 1728x864 with 0 Axes>"
      ]
     },
     "metadata": {},
     "output_type": "display_data"
    },
    {
     "data": {
      "text/plain": [
       "<Figure size 1728x864 with 0 Axes>"
      ]
     },
     "metadata": {},
     "output_type": "display_data"
    },
    {
     "data": {
      "text/plain": [
       "<Figure size 1728x864 with 0 Axes>"
      ]
     },
     "metadata": {},
     "output_type": "display_data"
    },
    {
     "data": {
      "text/plain": [
       "<Figure size 1728x864 with 0 Axes>"
      ]
     },
     "metadata": {},
     "output_type": "display_data"
    },
    {
     "data": {
      "text/plain": [
       "<Figure size 1728x864 with 0 Axes>"
      ]
     },
     "metadata": {},
     "output_type": "display_data"
    },
    {
     "data": {
      "text/plain": [
       "<Figure size 1728x864 with 0 Axes>"
      ]
     },
     "metadata": {},
     "output_type": "display_data"
    },
    {
     "data": {
      "text/plain": [
       "<Figure size 1728x864 with 0 Axes>"
      ]
     },
     "metadata": {},
     "output_type": "display_data"
    },
    {
     "data": {
      "text/plain": [
       "<Figure size 1728x864 with 0 Axes>"
      ]
     },
     "metadata": {},
     "output_type": "display_data"
    },
    {
     "data": {
      "text/plain": [
       "<Figure size 1728x864 with 0 Axes>"
      ]
     },
     "metadata": {},
     "output_type": "display_data"
    },
    {
     "data": {
      "text/plain": [
       "<Figure size 1728x864 with 0 Axes>"
      ]
     },
     "metadata": {},
     "output_type": "display_data"
    },
    {
     "data": {
      "text/plain": [
       "<Figure size 1728x864 with 0 Axes>"
      ]
     },
     "metadata": {},
     "output_type": "display_data"
    },
    {
     "data": {
      "text/plain": [
       "<Figure size 1728x864 with 0 Axes>"
      ]
     },
     "metadata": {},
     "output_type": "display_data"
    },
    {
     "data": {
      "text/plain": [
       "<Figure size 1728x864 with 0 Axes>"
      ]
     },
     "metadata": {},
     "output_type": "display_data"
    },
    {
     "data": {
      "text/plain": [
       "<Figure size 1728x864 with 0 Axes>"
      ]
     },
     "metadata": {},
     "output_type": "display_data"
    },
    {
     "data": {
      "text/plain": [
       "<Figure size 1728x864 with 0 Axes>"
      ]
     },
     "metadata": {},
     "output_type": "display_data"
    },
    {
     "data": {
      "text/plain": [
       "<Figure size 1728x864 with 0 Axes>"
      ]
     },
     "metadata": {},
     "output_type": "display_data"
    },
    {
     "data": {
      "text/plain": [
       "<Figure size 1728x864 with 0 Axes>"
      ]
     },
     "metadata": {},
     "output_type": "display_data"
    },
    {
     "data": {
      "text/plain": [
       "<Figure size 1728x864 with 0 Axes>"
      ]
     },
     "metadata": {},
     "output_type": "display_data"
    },
    {
     "data": {
      "text/plain": [
       "<Figure size 1728x864 with 0 Axes>"
      ]
     },
     "metadata": {},
     "output_type": "display_data"
    },
    {
     "data": {
      "text/plain": [
       "<Figure size 1728x864 with 0 Axes>"
      ]
     },
     "metadata": {},
     "output_type": "display_data"
    },
    {
     "data": {
      "text/plain": [
       "<Figure size 1728x864 with 0 Axes>"
      ]
     },
     "metadata": {},
     "output_type": "display_data"
    },
    {
     "data": {
      "text/plain": [
       "<Figure size 1728x864 with 0 Axes>"
      ]
     },
     "metadata": {},
     "output_type": "display_data"
    },
    {
     "data": {
      "text/plain": [
       "<Figure size 1728x864 with 0 Axes>"
      ]
     },
     "metadata": {},
     "output_type": "display_data"
    },
    {
     "data": {
      "text/plain": [
       "<Figure size 1728x864 with 0 Axes>"
      ]
     },
     "metadata": {},
     "output_type": "display_data"
    },
    {
     "data": {
      "text/plain": [
       "<Figure size 1728x864 with 0 Axes>"
      ]
     },
     "metadata": {},
     "output_type": "display_data"
    },
    {
     "data": {
      "text/plain": [
       "<Figure size 1728x864 with 0 Axes>"
      ]
     },
     "metadata": {},
     "output_type": "display_data"
    },
    {
     "data": {
      "text/plain": [
       "<Figure size 1728x864 with 0 Axes>"
      ]
     },
     "metadata": {},
     "output_type": "display_data"
    },
    {
     "data": {
      "text/plain": [
       "<Figure size 1728x864 with 0 Axes>"
      ]
     },
     "metadata": {},
     "output_type": "display_data"
    },
    {
     "data": {
      "text/plain": [
       "<Figure size 1728x864 with 0 Axes>"
      ]
     },
     "metadata": {},
     "output_type": "display_data"
    },
    {
     "data": {
      "text/plain": [
       "<Figure size 1728x864 with 0 Axes>"
      ]
     },
     "metadata": {},
     "output_type": "display_data"
    },
    {
     "data": {
      "text/plain": [
       "<Figure size 1728x864 with 0 Axes>"
      ]
     },
     "metadata": {},
     "output_type": "display_data"
    },
    {
     "data": {
      "text/plain": [
       "<Figure size 1728x864 with 0 Axes>"
      ]
     },
     "metadata": {},
     "output_type": "display_data"
    },
    {
     "data": {
      "text/plain": [
       "<Figure size 1728x864 with 0 Axes>"
      ]
     },
     "metadata": {},
     "output_type": "display_data"
    },
    {
     "data": {
      "text/plain": [
       "<Figure size 1728x864 with 0 Axes>"
      ]
     },
     "metadata": {},
     "output_type": "display_data"
    },
    {
     "data": {
      "text/plain": [
       "<Figure size 1728x864 with 0 Axes>"
      ]
     },
     "metadata": {},
     "output_type": "display_data"
    },
    {
     "data": {
      "text/plain": [
       "<Figure size 1728x864 with 0 Axes>"
      ]
     },
     "metadata": {},
     "output_type": "display_data"
    },
    {
     "data": {
      "text/plain": [
       "<Figure size 1728x864 with 0 Axes>"
      ]
     },
     "metadata": {},
     "output_type": "display_data"
    },
    {
     "data": {
      "text/plain": [
       "<Figure size 1728x864 with 0 Axes>"
      ]
     },
     "metadata": {},
     "output_type": "display_data"
    },
    {
     "data": {
      "text/plain": [
       "<Figure size 1728x864 with 0 Axes>"
      ]
     },
     "metadata": {},
     "output_type": "display_data"
    },
    {
     "data": {
      "text/plain": [
       "<Figure size 1728x864 with 0 Axes>"
      ]
     },
     "metadata": {},
     "output_type": "display_data"
    },
    {
     "data": {
      "text/plain": [
       "<Figure size 1728x864 with 0 Axes>"
      ]
     },
     "metadata": {},
     "output_type": "display_data"
    },
    {
     "data": {
      "text/plain": [
       "<Figure size 1728x864 with 0 Axes>"
      ]
     },
     "metadata": {},
     "output_type": "display_data"
    },
    {
     "data": {
      "text/plain": [
       "<Figure size 1728x864 with 0 Axes>"
      ]
     },
     "metadata": {},
     "output_type": "display_data"
    },
    {
     "data": {
      "text/plain": [
       "<Figure size 1728x864 with 0 Axes>"
      ]
     },
     "metadata": {},
     "output_type": "display_data"
    },
    {
     "data": {
      "text/plain": [
       "<Figure size 1728x864 with 0 Axes>"
      ]
     },
     "metadata": {},
     "output_type": "display_data"
    },
    {
     "data": {
      "text/plain": [
       "<Figure size 1728x864 with 0 Axes>"
      ]
     },
     "metadata": {},
     "output_type": "display_data"
    },
    {
     "data": {
      "text/plain": [
       "<Figure size 1728x864 with 0 Axes>"
      ]
     },
     "metadata": {},
     "output_type": "display_data"
    },
    {
     "data": {
      "text/plain": [
       "<Figure size 1728x864 with 0 Axes>"
      ]
     },
     "metadata": {},
     "output_type": "display_data"
    },
    {
     "data": {
      "text/plain": [
       "<Figure size 1728x864 with 0 Axes>"
      ]
     },
     "metadata": {},
     "output_type": "display_data"
    },
    {
     "data": {
      "text/plain": [
       "<Figure size 1728x864 with 0 Axes>"
      ]
     },
     "metadata": {},
     "output_type": "display_data"
    },
    {
     "data": {
      "text/plain": [
       "<Figure size 1728x864 with 0 Axes>"
      ]
     },
     "metadata": {},
     "output_type": "display_data"
    },
    {
     "data": {
      "text/plain": [
       "<Figure size 1728x864 with 0 Axes>"
      ]
     },
     "metadata": {},
     "output_type": "display_data"
    },
    {
     "data": {
      "text/plain": [
       "<Figure size 1728x864 with 0 Axes>"
      ]
     },
     "metadata": {},
     "output_type": "display_data"
    },
    {
     "data": {
      "text/plain": [
       "<Figure size 1728x864 with 0 Axes>"
      ]
     },
     "metadata": {},
     "output_type": "display_data"
    },
    {
     "data": {
      "text/plain": [
       "<Figure size 1728x864 with 0 Axes>"
      ]
     },
     "metadata": {},
     "output_type": "display_data"
    },
    {
     "data": {
      "text/plain": [
       "<Figure size 1728x864 with 0 Axes>"
      ]
     },
     "metadata": {},
     "output_type": "display_data"
    },
    {
     "data": {
      "text/plain": [
       "<Figure size 1728x864 with 0 Axes>"
      ]
     },
     "metadata": {},
     "output_type": "display_data"
    },
    {
     "data": {
      "text/plain": [
       "<Figure size 1728x864 with 0 Axes>"
      ]
     },
     "metadata": {},
     "output_type": "display_data"
    },
    {
     "data": {
      "text/plain": [
       "<Figure size 1728x864 with 0 Axes>"
      ]
     },
     "metadata": {},
     "output_type": "display_data"
    },
    {
     "data": {
      "text/plain": [
       "<Figure size 1728x864 with 0 Axes>"
      ]
     },
     "metadata": {},
     "output_type": "display_data"
    },
    {
     "data": {
      "text/plain": [
       "<Figure size 1728x864 with 0 Axes>"
      ]
     },
     "metadata": {},
     "output_type": "display_data"
    },
    {
     "data": {
      "text/plain": [
       "<Figure size 1728x864 with 0 Axes>"
      ]
     },
     "metadata": {},
     "output_type": "display_data"
    },
    {
     "data": {
      "text/plain": [
       "<Figure size 1728x864 with 0 Axes>"
      ]
     },
     "metadata": {},
     "output_type": "display_data"
    },
    {
     "data": {
      "text/plain": [
       "<Figure size 1728x864 with 0 Axes>"
      ]
     },
     "metadata": {},
     "output_type": "display_data"
    },
    {
     "data": {
      "text/plain": [
       "<Figure size 1728x864 with 0 Axes>"
      ]
     },
     "metadata": {},
     "output_type": "display_data"
    },
    {
     "data": {
      "text/plain": [
       "<Figure size 1728x864 with 0 Axes>"
      ]
     },
     "metadata": {},
     "output_type": "display_data"
    },
    {
     "data": {
      "text/plain": [
       "<Figure size 1728x864 with 0 Axes>"
      ]
     },
     "metadata": {},
     "output_type": "display_data"
    },
    {
     "data": {
      "text/plain": [
       "<Figure size 1728x864 with 0 Axes>"
      ]
     },
     "metadata": {},
     "output_type": "display_data"
    },
    {
     "data": {
      "text/plain": [
       "<Figure size 1728x864 with 0 Axes>"
      ]
     },
     "metadata": {},
     "output_type": "display_data"
    },
    {
     "data": {
      "text/plain": [
       "<Figure size 1728x864 with 0 Axes>"
      ]
     },
     "metadata": {},
     "output_type": "display_data"
    },
    {
     "data": {
      "text/plain": [
       "<Figure size 1728x864 with 0 Axes>"
      ]
     },
     "metadata": {},
     "output_type": "display_data"
    },
    {
     "data": {
      "text/plain": [
       "<Figure size 1728x864 with 0 Axes>"
      ]
     },
     "metadata": {},
     "output_type": "display_data"
    },
    {
     "data": {
      "text/plain": [
       "<Figure size 1728x864 with 0 Axes>"
      ]
     },
     "metadata": {},
     "output_type": "display_data"
    },
    {
     "data": {
      "text/plain": [
       "<Figure size 1728x864 with 0 Axes>"
      ]
     },
     "metadata": {},
     "output_type": "display_data"
    },
    {
     "data": {
      "text/plain": [
       "<Figure size 1728x864 with 0 Axes>"
      ]
     },
     "metadata": {},
     "output_type": "display_data"
    },
    {
     "data": {
      "text/plain": [
       "<Figure size 1728x864 with 0 Axes>"
      ]
     },
     "metadata": {},
     "output_type": "display_data"
    },
    {
     "data": {
      "text/plain": [
       "<Figure size 1728x864 with 0 Axes>"
      ]
     },
     "metadata": {},
     "output_type": "display_data"
    },
    {
     "data": {
      "text/plain": [
       "<Figure size 1728x864 with 0 Axes>"
      ]
     },
     "metadata": {},
     "output_type": "display_data"
    },
    {
     "data": {
      "text/plain": [
       "<Figure size 1728x864 with 0 Axes>"
      ]
     },
     "metadata": {},
     "output_type": "display_data"
    },
    {
     "data": {
      "text/plain": [
       "<Figure size 1728x864 with 0 Axes>"
      ]
     },
     "metadata": {},
     "output_type": "display_data"
    },
    {
     "data": {
      "text/plain": [
       "<Figure size 1728x864 with 0 Axes>"
      ]
     },
     "metadata": {},
     "output_type": "display_data"
    },
    {
     "data": {
      "text/plain": [
       "<Figure size 1728x864 with 0 Axes>"
      ]
     },
     "metadata": {},
     "output_type": "display_data"
    },
    {
     "data": {
      "text/plain": [
       "<Figure size 1728x864 with 0 Axes>"
      ]
     },
     "metadata": {},
     "output_type": "display_data"
    },
    {
     "data": {
      "text/plain": [
       "<Figure size 1728x864 with 0 Axes>"
      ]
     },
     "metadata": {},
     "output_type": "display_data"
    },
    {
     "data": {
      "text/plain": [
       "<Figure size 1728x864 with 0 Axes>"
      ]
     },
     "metadata": {},
     "output_type": "display_data"
    },
    {
     "data": {
      "text/plain": [
       "<Figure size 1728x864 with 0 Axes>"
      ]
     },
     "metadata": {},
     "output_type": "display_data"
    },
    {
     "data": {
      "text/plain": [
       "<Figure size 1728x864 with 0 Axes>"
      ]
     },
     "metadata": {},
     "output_type": "display_data"
    },
    {
     "data": {
      "text/plain": [
       "<Figure size 1728x864 with 0 Axes>"
      ]
     },
     "metadata": {},
     "output_type": "display_data"
    },
    {
     "data": {
      "text/plain": [
       "<Figure size 1728x864 with 0 Axes>"
      ]
     },
     "metadata": {},
     "output_type": "display_data"
    },
    {
     "data": {
      "text/plain": [
       "<Figure size 1728x864 with 0 Axes>"
      ]
     },
     "metadata": {},
     "output_type": "display_data"
    },
    {
     "data": {
      "text/plain": [
       "<Figure size 1728x864 with 0 Axes>"
      ]
     },
     "metadata": {},
     "output_type": "display_data"
    },
    {
     "data": {
      "text/plain": [
       "<Figure size 1728x864 with 0 Axes>"
      ]
     },
     "metadata": {},
     "output_type": "display_data"
    },
    {
     "data": {
      "text/plain": [
       "<Figure size 1728x864 with 0 Axes>"
      ]
     },
     "metadata": {},
     "output_type": "display_data"
    },
    {
     "data": {
      "text/plain": [
       "<Figure size 1728x864 with 0 Axes>"
      ]
     },
     "metadata": {},
     "output_type": "display_data"
    },
    {
     "data": {
      "text/plain": [
       "<Figure size 1728x864 with 0 Axes>"
      ]
     },
     "metadata": {},
     "output_type": "display_data"
    },
    {
     "data": {
      "text/plain": [
       "<Figure size 1728x864 with 0 Axes>"
      ]
     },
     "metadata": {},
     "output_type": "display_data"
    },
    {
     "data": {
      "text/plain": [
       "<Figure size 1728x864 with 0 Axes>"
      ]
     },
     "metadata": {},
     "output_type": "display_data"
    },
    {
     "data": {
      "text/plain": [
       "<Figure size 1728x864 with 0 Axes>"
      ]
     },
     "metadata": {},
     "output_type": "display_data"
    },
    {
     "data": {
      "text/plain": [
       "<Figure size 1728x864 with 0 Axes>"
      ]
     },
     "metadata": {},
     "output_type": "display_data"
    },
    {
     "data": {
      "text/plain": [
       "<Figure size 1728x864 with 0 Axes>"
      ]
     },
     "metadata": {},
     "output_type": "display_data"
    },
    {
     "data": {
      "text/plain": [
       "<Figure size 1728x864 with 0 Axes>"
      ]
     },
     "metadata": {},
     "output_type": "display_data"
    },
    {
     "data": {
      "text/plain": [
       "<Figure size 1728x864 with 0 Axes>"
      ]
     },
     "metadata": {},
     "output_type": "display_data"
    },
    {
     "data": {
      "text/plain": [
       "<Figure size 1728x864 with 0 Axes>"
      ]
     },
     "metadata": {},
     "output_type": "display_data"
    },
    {
     "data": {
      "text/plain": [
       "<Figure size 1728x864 with 0 Axes>"
      ]
     },
     "metadata": {},
     "output_type": "display_data"
    },
    {
     "data": {
      "text/plain": [
       "<Figure size 1728x864 with 0 Axes>"
      ]
     },
     "metadata": {},
     "output_type": "display_data"
    },
    {
     "data": {
      "text/plain": [
       "<Figure size 1728x864 with 0 Axes>"
      ]
     },
     "metadata": {},
     "output_type": "display_data"
    },
    {
     "data": {
      "text/plain": [
       "<Figure size 1728x864 with 0 Axes>"
      ]
     },
     "metadata": {},
     "output_type": "display_data"
    },
    {
     "data": {
      "text/plain": [
       "<Figure size 1728x864 with 0 Axes>"
      ]
     },
     "metadata": {},
     "output_type": "display_data"
    },
    {
     "data": {
      "text/plain": [
       "<Figure size 1728x864 with 0 Axes>"
      ]
     },
     "metadata": {},
     "output_type": "display_data"
    },
    {
     "data": {
      "text/plain": [
       "<Figure size 1728x864 with 0 Axes>"
      ]
     },
     "metadata": {},
     "output_type": "display_data"
    },
    {
     "data": {
      "text/plain": [
       "<Figure size 1728x864 with 0 Axes>"
      ]
     },
     "metadata": {},
     "output_type": "display_data"
    },
    {
     "data": {
      "text/plain": [
       "<Figure size 1728x864 with 0 Axes>"
      ]
     },
     "metadata": {},
     "output_type": "display_data"
    },
    {
     "data": {
      "text/plain": [
       "<Figure size 1728x864 with 0 Axes>"
      ]
     },
     "metadata": {},
     "output_type": "display_data"
    },
    {
     "data": {
      "text/plain": [
       "<Figure size 1728x864 with 0 Axes>"
      ]
     },
     "metadata": {},
     "output_type": "display_data"
    },
    {
     "data": {
      "text/plain": [
       "<Figure size 1728x864 with 0 Axes>"
      ]
     },
     "metadata": {},
     "output_type": "display_data"
    },
    {
     "data": {
      "text/plain": [
       "<Figure size 1728x864 with 0 Axes>"
      ]
     },
     "metadata": {},
     "output_type": "display_data"
    },
    {
     "data": {
      "text/plain": [
       "<Figure size 1728x864 with 0 Axes>"
      ]
     },
     "metadata": {},
     "output_type": "display_data"
    },
    {
     "data": {
      "text/plain": [
       "<Figure size 1728x864 with 0 Axes>"
      ]
     },
     "metadata": {},
     "output_type": "display_data"
    },
    {
     "data": {
      "text/plain": [
       "<Figure size 1728x864 with 0 Axes>"
      ]
     },
     "metadata": {},
     "output_type": "display_data"
    },
    {
     "data": {
      "text/plain": [
       "<Figure size 1728x864 with 0 Axes>"
      ]
     },
     "metadata": {},
     "output_type": "display_data"
    },
    {
     "data": {
      "text/plain": [
       "<Figure size 1728x864 with 0 Axes>"
      ]
     },
     "metadata": {},
     "output_type": "display_data"
    },
    {
     "data": {
      "text/plain": [
       "<Figure size 1728x864 with 0 Axes>"
      ]
     },
     "metadata": {},
     "output_type": "display_data"
    },
    {
     "data": {
      "text/plain": [
       "<Figure size 1728x864 with 0 Axes>"
      ]
     },
     "metadata": {},
     "output_type": "display_data"
    },
    {
     "data": {
      "text/plain": [
       "<Figure size 1728x864 with 0 Axes>"
      ]
     },
     "metadata": {},
     "output_type": "display_data"
    },
    {
     "data": {
      "text/plain": [
       "<Figure size 1728x864 with 0 Axes>"
      ]
     },
     "metadata": {},
     "output_type": "display_data"
    },
    {
     "data": {
      "text/plain": [
       "<Figure size 1728x864 with 0 Axes>"
      ]
     },
     "metadata": {},
     "output_type": "display_data"
    },
    {
     "data": {
      "text/plain": [
       "<Figure size 1728x864 with 0 Axes>"
      ]
     },
     "metadata": {},
     "output_type": "display_data"
    },
    {
     "data": {
      "text/plain": [
       "<Figure size 1728x864 with 0 Axes>"
      ]
     },
     "metadata": {},
     "output_type": "display_data"
    },
    {
     "data": {
      "text/plain": [
       "<Figure size 1728x864 with 0 Axes>"
      ]
     },
     "metadata": {},
     "output_type": "display_data"
    },
    {
     "data": {
      "text/plain": [
       "<Figure size 1728x864 with 0 Axes>"
      ]
     },
     "metadata": {},
     "output_type": "display_data"
    },
    {
     "data": {
      "text/plain": [
       "<Figure size 1728x864 with 0 Axes>"
      ]
     },
     "metadata": {},
     "output_type": "display_data"
    },
    {
     "data": {
      "text/plain": [
       "<Figure size 1728x864 with 0 Axes>"
      ]
     },
     "metadata": {},
     "output_type": "display_data"
    },
    {
     "data": {
      "text/plain": [
       "<Figure size 1728x864 with 0 Axes>"
      ]
     },
     "metadata": {},
     "output_type": "display_data"
    },
    {
     "data": {
      "text/plain": [
       "<Figure size 1728x864 with 0 Axes>"
      ]
     },
     "metadata": {},
     "output_type": "display_data"
    },
    {
     "data": {
      "text/plain": [
       "<Figure size 1728x864 with 0 Axes>"
      ]
     },
     "metadata": {},
     "output_type": "display_data"
    },
    {
     "data": {
      "text/plain": [
       "<Figure size 1728x864 with 0 Axes>"
      ]
     },
     "metadata": {},
     "output_type": "display_data"
    },
    {
     "data": {
      "text/plain": [
       "<Figure size 1728x864 with 0 Axes>"
      ]
     },
     "metadata": {},
     "output_type": "display_data"
    },
    {
     "data": {
      "text/plain": [
       "<Figure size 1728x864 with 0 Axes>"
      ]
     },
     "metadata": {},
     "output_type": "display_data"
    }
   ],
   "source": [
    "from model.ploting_functions.utils import *\n",
    "\n",
    "times = list(enkf_DA.keys())\n",
    "\n",
    "saving_dir = '../plots/'\n",
    "img_name= f'alternative_pkf_formulation_data_assimilation_experiment_Nx{Nx}'\n",
    "\n",
    "ploting_args = (enkf_DA,pkf_DA,True,subplot_lims_DA,True, None,)\n",
    "\n",
    "save_plots(saving_dir, img_name, make_plot, times, titles_DA, ploting_args)\n",
    "\n",
    "make_video(imgs_dir = saving_dir, output_dir='../video_plots/',\n",
    "           output_filename = img_name,fps = 12)"
   ]
  },
  {
   "cell_type": "markdown",
   "metadata": {},
   "source": [
    "## 4.2 Static plot for the article"
   ]
  },
  {
   "cell_type": "code",
   "execution_count": 20,
   "metadata": {},
   "outputs": [],
   "source": [
    "subplots2 = [(2,4,1),(2,4,2),(2,4,3),(2,4,4),(2,4,7),(2,4,8)]\n",
    "panel_indexs = [f'({c}) ' for c in 'abcdfg']\n",
    "def make_plot2(times, alphas,enkf_hist, pkf_hist, assimilation_exp,subplot_lims,plot_nature_run=False, title=None):\n",
    "    fig = plt.figure(figsize=(20,9))\n",
    "    if title : fig.suptitle(title, fontsize=15)\n",
    "#   \n",
    "    for t,alpha in zip(times,alphas) :\n",
    "        if assimilation_exp :\n",
    "            assim = t in list(obs_values_hist.keys())\n",
    "        else : \n",
    "            assim = False\n",
    "            \n",
    "        if assim and assimilation_exp:\n",
    "            plt.subplot(*subplots2[0])\n",
    "            plt.scatter(domain.x[0][obs_network],obs_values_hist[t]/normalization['Mean concentration']['A'],\n",
    "                        alpha=alpha,marker='o',c='k')\n",
    "        for i, (plot_index, subplot, (key1,key2),panel_index) in enumerate(zip(plots_indices, subplots2, keys,panel_indexs)):\n",
    "            plt.subplot(*subplot)\n",
    "            plt.axhline(1,c='grey',alpha=0.2)\n",
    "            plt.ylim(*subplot_lims[key1][key2])\n",
    "            time_label = r'$t$={:.1f}'.format(alpha) +r'$t_{max}$'\n",
    "            if plot_nature_run and i <2 :\n",
    "                plt.plot(domain.x[0], NR_save[t][0][i]/normalization[key1][key2],c='g', alpha=alpha,zorder=0.2)\n",
    "            \n",
    "            plt.plot(domain.x[0], enkf_hist[t][key1][key2]/normalization[key1][key2], c='b',linestyle='--',alpha=alpha,label='EnKF ' + time_label)\n",
    "            plt.plot(domain.x[0], pkf_hist[t][key1][key2]/normalization[key1][key2], c='r',linestyle='-',alpha=alpha,label='PKF   ' + time_label)\n",
    "            plt.ylabel(ylabels[i],fontsize=13)\n",
    "            plt.title(panel_index + key1 +' ' +key2,fontsize=14)\n",
    "            if i ==0 : plt.legend(loc='upper left')\n",
    "            if assimilation_exp:\n",
    "                for loc in obs_network: plt.axvline(domain.x[0][loc], c='grey',alpha=0.3 if assim else 0.2)\n",
    "\n",
    "        plt.subplot(2,2,3);plt.title('(e) Correlation field '+r'$V^{AB}_x/(\\sigma^A_x\\sigma^B_x)$',fontsize=14);\n",
    "        if assimilation_exp:\n",
    "            for loc in obs_network: plt.axvline(domain.x[0][loc], c='grey',alpha=0.3 if assim else 0.2)\n",
    "        plt.ylim(-1.1,1.1); plt.axhline(0,c='grey',alpha=0.2)\n",
    "        plt.plot(domain.x[0], enkf_hist[t]['Correlation']['A']['B'], c='b',linestyle='--',alpha=alpha)\n",
    "        plt.plot(domain.x[0], pkf_hist[t]['Correlation']['A']['B'], c='r',linestyle='-',alpha=alpha)\n",
    "        \n",
    "    fig.tight_layout();\n",
    "    return fig"
   ]
  },
  {
   "cell_type": "code",
   "execution_count": 27,
   "metadata": {},
   "outputs": [],
   "source": [
    "n_stops = 2\n",
    "\n",
    "times = list(enkf_FCST.keys())\n",
    "indexs = np.linspace(0, len(times)-1,n_stops+1).astype(int)[1:]\n",
    "\n",
    "times2 = [times[index] for index in indexs]\n",
    "alphas = [0.5,1]"
   ]
  },
  {
   "cell_type": "markdown",
   "metadata": {},
   "source": [
    "### Forecast experiment"
   ]
  },
  {
   "cell_type": "code",
   "execution_count": 29,
   "metadata": {},
   "outputs": [
    {
     "data": {
      "image/png": "[encoded data removed]",
      "text/plain": [
       "<Figure size 1440x648 with 7 Axes>"
      ]
     },
     "metadata": {
      "needs_background": "light"
     },
     "output_type": "display_data"
    }
   ],
   "source": [
    "title_FCST = r'Forecast with EnKF (blue, $N_e ={}$) and PKF (red), $t$={:.2f}'.format(ensemble_size, times2[0]/times[-1]) +\\\n",
    "    r'$t_{max}$' +' and $t$={:.2f}'.format(times2[1]/times[-1]) \\\n",
    "    + r'$t_{max}$'\n",
    "fig_FCST = make_plot2(times2[:2],alphas, enkf_FCST, pkf_FCST,False,subplot_lims_FCST, False, title_FCST);\n",
    "fig_FCST.savefig(f'../../figures/Nx{Nx}/alternative_pkf_formulation_forecast_Nx{Nx}.png')"
   ]
  },
  {
   "cell_type": "markdown",
   "metadata": {},
   "source": [
    "### Data assimilation experiment"
   ]
  },
  {
   "cell_type": "code",
   "execution_count": 24,
   "metadata": {
    "scrolled": false
   },
   "outputs": [
    {
     "data": {
      "image/png": "[encoded data removed]",
      "text/plain": [
       "<Figure size 1440x648 with 7 Axes>"
      ]
     },
     "metadata": {
      "needs_background": "light"
     },
     "output_type": "display_data"
    }
   ],
   "source": [
    "title_DA = r'Data assimilation with EnKF (blue, $N_e ={}$) and PKF (red), $t$={:.1f}'.format(ensemble_size, times2[0]/times[-1]) +\\\n",
    "    r'$t_{max}$' +' and $t$='.format(times2[1]/times[-1]) \\\n",
    "    + r'$t_{max}$'\n",
    "fig_DA = make_plot2(times2[:2],alphas,enkf_DA, pkf_DA, True,subplot_lims_DA,True, title_DA);\n",
    "fig_DA.savefig(f'../../figures/Nx{Nx}/alternative_pkf_formulation_data_assimilation_exp_Nx{Nx}_with_NR.png')"
   ]
  },
  {
   "cell_type": "markdown",
   "metadata": {},
   "source": [
    "# ...."
   ]
  },
  {
   "cell_type": "markdown",
   "metadata": {},
   "source": [
    "# Heterogeneous case\n",
    "\n",
    "We perform the same experiment as previously, except we consider heterogeneous initial length-scales"
   ]
  },
  {
   "cell_type": "code",
   "execution_count": 30,
   "metadata": {},
   "outputs": [],
   "source": [
    "initial_settings['Length-scale']  = {'A':lhA,'B':lhB}"
   ]
  },
  {
   "cell_type": "markdown",
   "metadata": {},
   "source": [
    "### Initializing the EnKF :"
   ]
  },
  {
   "cell_type": "code",
   "execution_count": 31,
   "metadata": {},
   "outputs": [
    {
     "name": "stdout",
     "output_type": "stream",
     "text": [
      "standard deviation for the ensemble : 9.13%\n"
     ]
    }
   ],
   "source": [
    "ensemble_size = 120\n",
    "from module.tools import make_samples\n",
    "print('standard deviation for the ensemble : {:.2%}'.format( (1/ensemble_size)**.5) )\n",
    "\n",
    "ensemble0 = np.array([ initial_settings['Mean concentration'][field] +\n",
    "                      make_samples(ensemble_size,\n",
    "                                   domain.x[0],\n",
    "                                   initial_settings['Length-scale'][field])\n",
    "                      * initial_settings['Std'][field] for field in species_name]).swapaxes(0,1)"
   ]
  },
  {
   "cell_type": "markdown",
   "metadata": {},
   "source": [
    "### Initializing the PKF :"
   ]
  },
  {
   "cell_type": "code",
   "execution_count": 32,
   "metadata": {},
   "outputs": [],
   "source": [
    "mean_states0    = [initial_settings['Mean concentration'][field] + np.zeros(Nx) for field in species_name]\n",
    "var0            = [initial_settings['Std'][field]**2 + np.zeros(Nx) for field in species_name]\n",
    "aspect_tensors0 = [initial_settings['Length-scale'][field]**2 +np.zeros(Nx) for field in species_name]\n",
    "covariance0     = [np.zeros(Nx)]\n",
    "pkf_state0 = np.array(mean_states0 +  var0 + covariance0 + aspect_tensors0, dtype=np.float64)\n",
    "\n",
    "# pkf_state0 = [mean_states0 +  var0 + covariance0 + aspect_tensors0]\n",
    "# pkf_state0 = np.vstack([pkf_state0[i] + np.zeros(Nx) for i in range(len(pkf_state0))])"
   ]
  },
  {
   "cell_type": "markdown",
   "metadata": {},
   "source": [
    "## Initializing the nature run :"
   ]
  },
  {
   "cell_type": "code",
   "execution_count": 33,
   "metadata": {},
   "outputs": [],
   "source": [
    "NR_0 = np.array([[nature_A,nature_B]])"
   ]
  },
  {
   "cell_type": "markdown",
   "metadata": {},
   "source": [
    "# 2. Five assimilation cycles <a class=\"anchor\" id=\"multivariate-assimilation\"></a>\n",
    "\n",
    "we now consider the assimilation of observations on species $A$ at four locations $\\mathbf{x}=0.5,0.63,0.76,0.9$."
   ]
  },
  {
   "cell_type": "code",
   "execution_count": 34,
   "metadata": {
    "scrolled": false
   },
   "outputs": [
    {
     "name": "stdout",
     "output_type": "stream",
     "text": [
      "cycle 0\n",
      "cycle 1\n",
      "cycle 2\n",
      "cycle 3\n",
      "cycle 4\n"
     ]
    }
   ],
   "source": [
    "assimilation_time_window = Tadv/3\n",
    "n_cycles = 5\n",
    "\n",
    "# observations configurations :\n",
    "obs_std = .1\n",
    "obs_network = (np.linspace(0.5,0.9,4)*Nx).astype(int)\n",
    "obs_specie = 'A'\n",
    "obs_species = len(obs_network)*[obs_specie]\n",
    "error_obs = obs_std + 0*obs_network\n",
    "\n",
    "#initializing the pkf and enkf :\n",
    "pkf_state  = pkf_state0\n",
    "enkf_state = ensemble0\n",
    "NR_state = NR_0\n",
    "\n",
    "# saving dictionnaries :\n",
    "pkf_DA = {} ; enkf_DA = {}\n",
    "obs_values_hist = {}\n",
    "NR_save = {}\n",
    "t = 0\n",
    "all_times = []\n",
    "for i in range(n_cycles):\n",
    "    print('cycle',i)\n",
    "    times = pkf.window(t + assimilation_time_window, start = t)\n",
    "    all_times = all_times + list(times)\n",
    "    saved_times = list(times[::4*3]) + [times[-1]]\n",
    "    \n",
    "    # pkf forecast \n",
    "    traj_pkf = pkf.forecast(times, pkf_state,saved_times)\n",
    "    rendered_traj_pkf = pkf.render_traj(traj_pkf, obs_network, obs_species)\n",
    "    \n",
    "    # enkf forecast \n",
    "    traj_enkf = enkf.ensemble_forecast(times, enkf_state, saved_times)\n",
    "    \n",
    "    # nature run forecast\n",
    "    traj_nr = NR.ensemble_forecast(times, NR_state, saved_times)\n",
    "    \n",
    "    t = list(rendered_traj_pkf.keys())[-1]\n",
    "    \n",
    "    pkf_state = traj_pkf[t] ; enkf_state = traj_enkf[t];\n",
    "    NR_state = np.array(traj_nr[t])\n",
    "    del traj_pkf\n",
    "    diag_enkf = enkf.diagnosis(traj_enkf, obs_network, obs_species)\n",
    "    del traj_enkf\n",
    "    \n",
    "    # collecting forecasts historic \n",
    "    pkf_DA = {**pkf_DA, **rendered_traj_pkf}\n",
    "    enkf_DA = {**enkf_DA, **diag_enkf}\n",
    "    NR_save = {**NR_save, **traj_nr}\n",
    "    \n",
    "    # generating observations\n",
    "#     state_f_obs_network_enkf = diag_enkf[t]['Mean concentration'][obs_specie][obs_network]\n",
    "#     state_f_obs_network_pkf = rendered_traj_pkf[t]['Mean concentration'][obs_specie][obs_network]\n",
    "    nr_A_obs_loc_reality = NR_state[0,0][obs_network]\n",
    "    \n",
    "    obs_values =  np.maximum(0, np.random.multivariate_normal(nr_A_obs_loc_reality, np.diag(error_obs**2)))\n",
    "    obs_values_hist[t] = obs_values\n",
    "    \n",
    "    #assimilation of the observations :\n",
    "    enkf_state = enkf.assimilate(enkf_state, obs_network, obs_species, obs_values, error_obs**2)\n",
    "    pkf_state = pkf.multivariate_assimilation(pkf_state, obs_values, obs_network, obs_species, error_obs**2, method='O1')\n",
    "    \n",
    "    #analysis diagnosis :\n",
    "    rendered_pkf_a = pkf.render_traj({t:pkf_state}, obs_network, obs_species)\n",
    "    diag_enkf_a = enkf.diagnosis({t:enkf_state}, obs_network, obs_species)\n",
    "    \n",
    "    #saving data :\n",
    "    pkf_DA = {**pkf_DA, **rendered_pkf_a}\n",
    "    enkf_DA = {**enkf_DA, **diag_enkf_a}\n",
    "\n",
    "    del rendered_traj_pkf, diag_enkf;"
   ]
  },
  {
   "cell_type": "markdown",
   "metadata": {},
   "source": [
    "# 3. Forecast <a class=\"anchor\" id=\"multivariate-assimilation\"></a>"
   ]
  },
  {
   "cell_type": "code",
   "execution_count": 35,
   "metadata": {
    "scrolled": false
   },
   "outputs": [],
   "source": [
    "assimilation_time_window = Tadv/3\n",
    "n_cycles = 5\n",
    "t_end = n_cycles * assimilation_time_window\n",
    "\n",
    "times = pkf.window(t_end, start = .0)\n",
    "saved_times = list(times)[::12] + [times[-1]]\n",
    "obs_network = (np.linspace(0.5,0.9,4)*Nx).astype(int)\n",
    "obs_specie = 'A'\n",
    "obs_species = len(obs_network)*[obs_specie]\n",
    "\n",
    "# pkf forecast \n",
    "traj_pkf = pkf.forecast(times, pkf_state0,saved_times)\n",
    "pkf_FCST = pkf.render_traj(traj_pkf, obs_network, obs_species)\n",
    "\n",
    "# enkf forecast \n",
    "traj_enkf = enkf.ensemble_forecast(times, ensemble0, saved_times)\n",
    "enkf_FCST = enkf.diagnosis(traj_enkf, obs_network, obs_species)"
   ]
  },
  {
   "cell_type": "markdown",
   "metadata": {},
   "source": [
    "# 4. Ploting"
   ]
  },
  {
   "cell_type": "code",
   "execution_count": 36,
   "metadata": {},
   "outputs": [],
   "source": [
    "normalization = initial_settings\n",
    "\n",
    "from copy import deepcopy\n",
    "subplot_lims_DA = deepcopy(initial_settings)\n",
    "\n",
    "for tf in subplot_lims_DA.keys():\n",
    "    for sp in species_name : subplot_lims_DA[tf][sp] = (np.inf,-np.inf)\n",
    "\n",
    "for t, diag in enkf_DA.items():\n",
    "    for tf in subplot_lims_DA.keys():\n",
    "        for sp in species_name : \n",
    "            _min, _max = subplot_lims_DA[tf][sp]\n",
    "            if diag[tf][sp].min()/normalization[tf][sp] < _min: _min = diag[tf][sp].min()/normalization[tf][sp]\n",
    "            if diag[tf][sp].max()/normalization[tf][sp] > _max: _max = diag[tf][sp].max()/normalization[tf][sp]\n",
    "            subplot_lims_DA[tf][sp] = (_min, _max)\n",
    "\n",
    "for tf in subplot_lims_DA.keys():\n",
    "    for sp in species_name :\n",
    "        _min, _max = subplot_lims_DA[tf][sp]\n",
    "        amp = _max - _min\n",
    "        subplot_lims_DA[tf][sp] = (_min - 0.1*amp, _max+0.1*amp)  \n",
    "\n",
    "titles_DA = {t:r'Data assimilation with EnKF (blue, $N_e ={}$) and PKF (red), $l^0_A \\neq l^0_B $, $t={:.2f}$h'.format(ensemble_size, t) for t in enkf_DA.keys()}\n",
    "\n",
    "normalization = initial_settings\n",
    "\n",
    "from copy import deepcopy\n",
    "subplot_lims_FCST = deepcopy(initial_settings)\n",
    "\n",
    "for tf in subplot_lims_FCST.keys():\n",
    "    for sp in species_name : subplot_lims_FCST[tf][sp] = (np.inf,-np.inf)\n",
    "\n",
    "for t, diag in enkf_FCST.items():\n",
    "    for tf in subplot_lims_FCST.keys():\n",
    "        for sp in species_name : \n",
    "            _min, _max = subplot_lims_FCST[tf][sp]\n",
    "            if diag[tf][sp].min()/normalization[tf][sp] < _min: _min = diag[tf][sp].min()/normalization[tf][sp]\n",
    "            if diag[tf][sp].max()/normalization[tf][sp] > _max: _max = diag[tf][sp].max()/normalization[tf][sp]\n",
    "            subplot_lims_FCST[tf][sp] = (_min, _max)\n",
    "\n",
    "for tf in subplot_lims_FCST.keys():\n",
    "    for sp in species_name :\n",
    "        _min, _max = subplot_lims_FCST[tf][sp]\n",
    "        amp = _max - _min\n",
    "        subplot_lims_FCST[tf][sp] = (_min - 0.1*amp, _max+0.1*amp)  \n",
    "\n",
    "\n",
    "titles_FCST = {t:r'Forecast with EnKF (blue, $N_e ={}$) and PKF (red), $l^0_A \\neq l^0_B $, $t={:.2f}$h'.format(ensemble_size, t) for t in enkf_FCST.keys()}\n",
    "\n",
    "ylabels = [r'$A/A^0$',\n",
    "          r'$B/B^0$',\n",
    "          r'$\\sigma_A/\\sigma_A^0$',\n",
    "          r'$\\sigma_B/\\sigma_B^0$',\n",
    "          r'$L_A/l_h^0$',\n",
    "          r'$L_B/l_h^0$']\n",
    "\n",
    "plots_indices= [f'({c}) ' for c in 'abcdfgh']\n",
    "subplots = [(3,4,1),(3,4,2),(3,4,3),(3,4,4),(3,4,7),(3,4,8),(3,4,9),(3,4,10),(3,2,6)]\n",
    "\n",
    "keys = [ ('Mean concentration','A'),\n",
    "       ('Mean concentration','B'),\n",
    "       ('Std','A'),\n",
    "       ('Std','B'),\n",
    "       ('Length-scale','A'),\n",
    "       ('Length-scale','B')]\n",
    "\n",
    "\n",
    "def make_plot(t, enkf_DA, pkf_DA, assimilation_exp, subplot_lims, plot_nature_run=False, title=None,):\n",
    "    fig = plt.figure(figsize=(24,12))\n",
    "    if assimilation_exp :\n",
    "        fig.suptitle(titles_DA[t],fontsize=15)\n",
    "        assim = t in list(obs_values_hist.keys())\n",
    "    else :\n",
    "        fig.suptitle(titles_FCST[t],fontsize=15)\n",
    "        assim = False\n",
    "    \n",
    "    \n",
    "    if assimilation_exp and assim:\n",
    "        plt.subplot(*subplots[0])\n",
    "        plt.scatter(domain.x[0][obs_network],obs_values_hist[t]/normalization['Mean concentration']['A'],marker='o',c='k')\n",
    "    for i, (plot_index, subplot, (key1,key2)) in enumerate(zip(plots_indices, subplots, keys)):\n",
    "        plt.subplot(*subplot)\n",
    "        plt.axhline(1,c='grey',alpha=0.2)\n",
    "        plt.ylim(*subplot_lims[key1][key2])\n",
    "        if plot_nature_run and i <2 :\n",
    "            plt.plot(domain.x[0], NR_save[t][0][i]/normalization[key1][key2],c='g',label='nature run')\n",
    "        \n",
    "        plt.plot(domain.x[0], enkf_DA[t][key1][key2]/normalization[key1][key2], c='b',linestyle='--',label='EnKF')\n",
    "        plt.plot(domain.x[0], pkf_DA[t][key1][key2]/normalization[key1][key2], c='r',linestyle='-',label='PKF')\n",
    "        plt.ylabel(ylabels[i],fontsize=13)\n",
    "        plt.title(key1 +' ' +key2,fontsize=14)\n",
    "        if i ==0 :plt.legend(loc='upper left');\n",
    "        \n",
    "        if assimilation_exp:\n",
    "            for loc in obs_network: plt.axvline(domain.x[0][loc], c='grey',alpha=0.3 if assim else 0.2)\n",
    "        \n",
    "    plt.subplot(3,2,3);plt.title('Correlation field' +r' $V^{AB}_x/(\\sigma^A_x\\sigma^B_x)$',fontsize=14);\n",
    "    if assimilation_exp:\n",
    "        for loc in obs_network: plt.axvline(domain.x[0][loc], c='grey',alpha=0.3 if assim else 0.2)\n",
    "    plt.ylim(-1.1,1.1); plt.axhline(0,c='grey',alpha=0.2)\n",
    "    plt.plot(domain.x[0], enkf_DA[t]['Correlation']['A']['B'], c='b',linestyle='--')\n",
    "    plt.plot(domain.x[0], pkf_DA[t]['Correlation']['A']['B'], c='r',linestyle='-')\n",
    "        \n",
    "    plt.subplot(3,4,9);plt.title('Auto-covariance functions',fontsize=14);\n",
    "    plt.axhline(1,c='grey',alpha=0.2); plt.ylabel(r\"$/V_A^0$\",fontsize=13)\n",
    "    plt.ylim(-0.1*subplot_lims['Std']['A'][1]**2, 5.1)\n",
    "    for loc in obs_network :\n",
    "        plt.axvline(domain.x[0][loc], c='grey',alpha=0.3 if assim else 0.2)\n",
    "        plt.plot(domain.x[0], enkf_DA[t]['Covariance functions'][loc]['A/A']/normalization['Std']['A']**2, c='b',linestyle='--')\n",
    "        plt.plot(domain.x[0], pkf_DA[t]['Covariance functions'][loc]['A/A']/normalization['Std']['A']**2, c='r',linestyle='-')\n",
    "    \n",
    "    plt.subplot(3,4,10);plt.title('Auto-correlation functions',fontsize=14);\n",
    "    plt.axhline(1,c='grey',alpha=0.2); plt.ylim(-0.1,1.1)\n",
    "    for loc in obs_network :\n",
    "        plt.axvline(domain.x[0][loc], c='grey',alpha=0.3 if assim else 0.2)\n",
    "        plt.plot(domain.x[0], enkf_DA[t]['Correlation functions'][loc]['A/A'], c='b',linestyle='--')\n",
    "        plt.plot(domain.x[0], pkf_DA[t]['Correlation functions'][loc]['A/A'], c='r',linestyle='-')\n",
    "        \n",
    "    plt.subplot(3,2,6);plt.title('Cross-correlation functions',fontsize=14);\n",
    "    plt.axhline(0,c='grey',alpha=0.2); plt.ylim(-1.1,1.1)\n",
    "    plt.axhline(-1,c='grey',alpha=0.2); plt.axhline(1,c='grey',alpha=0.2)\n",
    "    for loc in obs_network :\n",
    "        plt.axvline(domain.x[0][loc], c='grey',alpha=0.3 if assim else 0.2)\n",
    "        plt.plot(domain.x[0], enkf_DA[t]['Correlation functions'][loc]['A/B'], c='b',linestyle='--')\n",
    "        plt.plot(domain.x[0], pkf_DA[t]['Correlation functions'][loc]['A/B'], c='r',linestyle='-')\n",
    "    \n",
    "    fig.tight_layout();\n",
    "    return fig"
   ]
  },
  {
   "cell_type": "markdown",
   "metadata": {},
   "source": [
    "## 4.1 making videos"
   ]
  },
  {
   "cell_type": "markdown",
   "metadata": {},
   "source": [
    "### forecast experiment"
   ]
  },
  {
   "cell_type": "code",
   "execution_count": 39,
   "metadata": {},
   "outputs": [
    {
     "data": {
      "text/plain": [
       "<Figure size 1728x864 with 0 Axes>"
      ]
     },
     "metadata": {},
     "output_type": "display_data"
    },
    {
     "data": {
      "text/plain": [
       "<Figure size 1728x864 with 0 Axes>"
      ]
     },
     "metadata": {},
     "output_type": "display_data"
    },
    {
     "data": {
      "text/plain": [
       "<Figure size 1728x864 with 0 Axes>"
      ]
     },
     "metadata": {},
     "output_type": "display_data"
    },
    {
     "data": {
      "text/plain": [
       "<Figure size 1728x864 with 0 Axes>"
      ]
     },
     "metadata": {},
     "output_type": "display_data"
    },
    {
     "data": {
      "text/plain": [
       "<Figure size 1728x864 with 0 Axes>"
      ]
     },
     "metadata": {},
     "output_type": "display_data"
    },
    {
     "data": {
      "text/plain": [
       "<Figure size 1728x864 with 0 Axes>"
      ]
     },
     "metadata": {},
     "output_type": "display_data"
    },
    {
     "data": {
      "text/plain": [
       "<Figure size 1728x864 with 0 Axes>"
      ]
     },
     "metadata": {},
     "output_type": "display_data"
    },
    {
     "data": {
      "text/plain": [
       "<Figure size 1728x864 with 0 Axes>"
      ]
     },
     "metadata": {},
     "output_type": "display_data"
    },
    {
     "data": {
      "text/plain": [
       "<Figure size 1728x864 with 0 Axes>"
      ]
     },
     "metadata": {},
     "output_type": "display_data"
    },
    {
     "data": {
      "text/plain": [
       "<Figure size 1728x864 with 0 Axes>"
      ]
     },
     "metadata": {},
     "output_type": "display_data"
    },
    {
     "data": {
      "text/plain": [
       "<Figure size 1728x864 with 0 Axes>"
      ]
     },
     "metadata": {},
     "output_type": "display_data"
    },
    {
     "data": {
      "text/plain": [
       "<Figure size 1728x864 with 0 Axes>"
      ]
     },
     "metadata": {},
     "output_type": "display_data"
    },
    {
     "data": {
      "text/plain": [
       "<Figure size 1728x864 with 0 Axes>"
      ]
     },
     "metadata": {},
     "output_type": "display_data"
    },
    {
     "data": {
      "text/plain": [
       "<Figure size 1728x864 with 0 Axes>"
      ]
     },
     "metadata": {},
     "output_type": "display_data"
    },
    {
     "data": {
      "text/plain": [
       "<Figure size 1728x864 with 0 Axes>"
      ]
     },
     "metadata": {},
     "output_type": "display_data"
    },
    {
     "data": {
      "text/plain": [
       "<Figure size 1728x864 with 0 Axes>"
      ]
     },
     "metadata": {},
     "output_type": "display_data"
    },
    {
     "data": {
      "text/plain": [
       "<Figure size 1728x864 with 0 Axes>"
      ]
     },
     "metadata": {},
     "output_type": "display_data"
    },
    {
     "data": {
      "text/plain": [
       "<Figure size 1728x864 with 0 Axes>"
      ]
     },
     "metadata": {},
     "output_type": "display_data"
    },
    {
     "data": {
      "text/plain": [
       "<Figure size 1728x864 with 0 Axes>"
      ]
     },
     "metadata": {},
     "output_type": "display_data"
    },
    {
     "data": {
      "text/plain": [
       "<Figure size 1728x864 with 0 Axes>"
      ]
     },
     "metadata": {},
     "output_type": "display_data"
    },
    {
     "data": {
      "text/plain": [
       "<Figure size 1728x864 with 0 Axes>"
      ]
     },
     "metadata": {},
     "output_type": "display_data"
    },
    {
     "data": {
      "text/plain": [
       "<Figure size 1728x864 with 0 Axes>"
      ]
     },
     "metadata": {},
     "output_type": "display_data"
    },
    {
     "data": {
      "text/plain": [
       "<Figure size 1728x864 with 0 Axes>"
      ]
     },
     "metadata": {},
     "output_type": "display_data"
    },
    {
     "data": {
      "text/plain": [
       "<Figure size 1728x864 with 0 Axes>"
      ]
     },
     "metadata": {},
     "output_type": "display_data"
    },
    {
     "data": {
      "text/plain": [
       "<Figure size 1728x864 with 0 Axes>"
      ]
     },
     "metadata": {},
     "output_type": "display_data"
    },
    {
     "data": {
      "text/plain": [
       "<Figure size 1728x864 with 0 Axes>"
      ]
     },
     "metadata": {},
     "output_type": "display_data"
    },
    {
     "data": {
      "text/plain": [
       "<Figure size 1728x864 with 0 Axes>"
      ]
     },
     "metadata": {},
     "output_type": "display_data"
    },
    {
     "data": {
      "text/plain": [
       "<Figure size 1728x864 with 0 Axes>"
      ]
     },
     "metadata": {},
     "output_type": "display_data"
    },
    {
     "data": {
      "text/plain": [
       "<Figure size 1728x864 with 0 Axes>"
      ]
     },
     "metadata": {},
     "output_type": "display_data"
    },
    {
     "data": {
      "text/plain": [
       "<Figure size 1728x864 with 0 Axes>"
      ]
     },
     "metadata": {},
     "output_type": "display_data"
    },
    {
     "data": {
      "text/plain": [
       "<Figure size 1728x864 with 0 Axes>"
      ]
     },
     "metadata": {},
     "output_type": "display_data"
    },
    {
     "data": {
      "text/plain": [
       "<Figure size 1728x864 with 0 Axes>"
      ]
     },
     "metadata": {},
     "output_type": "display_data"
    },
    {
     "data": {
      "text/plain": [
       "<Figure size 1728x864 with 0 Axes>"
      ]
     },
     "metadata": {},
     "output_type": "display_data"
    },
    {
     "data": {
      "text/plain": [
       "<Figure size 1728x864 with 0 Axes>"
      ]
     },
     "metadata": {},
     "output_type": "display_data"
    },
    {
     "data": {
      "text/plain": [
       "<Figure size 1728x864 with 0 Axes>"
      ]
     },
     "metadata": {},
     "output_type": "display_data"
    },
    {
     "data": {
      "text/plain": [
       "<Figure size 1728x864 with 0 Axes>"
      ]
     },
     "metadata": {},
     "output_type": "display_data"
    },
    {
     "data": {
      "text/plain": [
       "<Figure size 1728x864 with 0 Axes>"
      ]
     },
     "metadata": {},
     "output_type": "display_data"
    },
    {
     "data": {
      "text/plain": [
       "<Figure size 1728x864 with 0 Axes>"
      ]
     },
     "metadata": {},
     "output_type": "display_data"
    },
    {
     "data": {
      "text/plain": [
       "<Figure size 1728x864 with 0 Axes>"
      ]
     },
     "metadata": {},
     "output_type": "display_data"
    },
    {
     "data": {
      "text/plain": [
       "<Figure size 1728x864 with 0 Axes>"
      ]
     },
     "metadata": {},
     "output_type": "display_data"
    },
    {
     "data": {
      "text/plain": [
       "<Figure size 1728x864 with 0 Axes>"
      ]
     },
     "metadata": {},
     "output_type": "display_data"
    },
    {
     "data": {
      "text/plain": [
       "<Figure size 1728x864 with 0 Axes>"
      ]
     },
     "metadata": {},
     "output_type": "display_data"
    },
    {
     "data": {
      "text/plain": [
       "<Figure size 1728x864 with 0 Axes>"
      ]
     },
     "metadata": {},
     "output_type": "display_data"
    },
    {
     "data": {
      "text/plain": [
       "<Figure size 1728x864 with 0 Axes>"
      ]
     },
     "metadata": {},
     "output_type": "display_data"
    },
    {
     "data": {
      "text/plain": [
       "<Figure size 1728x864 with 0 Axes>"
      ]
     },
     "metadata": {},
     "output_type": "display_data"
    },
    {
     "data": {
      "text/plain": [
       "<Figure size 1728x864 with 0 Axes>"
      ]
     },
     "metadata": {},
     "output_type": "display_data"
    },
    {
     "data": {
      "text/plain": [
       "<Figure size 1728x864 with 0 Axes>"
      ]
     },
     "metadata": {},
     "output_type": "display_data"
    },
    {
     "data": {
      "text/plain": [
       "<Figure size 1728x864 with 0 Axes>"
      ]
     },
     "metadata": {},
     "output_type": "display_data"
    },
    {
     "data": {
      "text/plain": [
       "<Figure size 1728x864 with 0 Axes>"
      ]
     },
     "metadata": {},
     "output_type": "display_data"
    },
    {
     "data": {
      "text/plain": [
       "<Figure size 1728x864 with 0 Axes>"
      ]
     },
     "metadata": {},
     "output_type": "display_data"
    },
    {
     "data": {
      "text/plain": [
       "<Figure size 1728x864 with 0 Axes>"
      ]
     },
     "metadata": {},
     "output_type": "display_data"
    },
    {
     "data": {
      "text/plain": [
       "<Figure size 1728x864 with 0 Axes>"
      ]
     },
     "metadata": {},
     "output_type": "display_data"
    },
    {
     "data": {
      "text/plain": [
       "<Figure size 1728x864 with 0 Axes>"
      ]
     },
     "metadata": {},
     "output_type": "display_data"
    },
    {
     "data": {
      "text/plain": [
       "<Figure size 1728x864 with 0 Axes>"
      ]
     },
     "metadata": {},
     "output_type": "display_data"
    },
    {
     "data": {
      "text/plain": [
       "<Figure size 1728x864 with 0 Axes>"
      ]
     },
     "metadata": {},
     "output_type": "display_data"
    },
    {
     "data": {
      "text/plain": [
       "<Figure size 1728x864 with 0 Axes>"
      ]
     },
     "metadata": {},
     "output_type": "display_data"
    },
    {
     "data": {
      "text/plain": [
       "<Figure size 1728x864 with 0 Axes>"
      ]
     },
     "metadata": {},
     "output_type": "display_data"
    },
    {
     "data": {
      "text/plain": [
       "<Figure size 1728x864 with 0 Axes>"
      ]
     },
     "metadata": {},
     "output_type": "display_data"
    },
    {
     "data": {
      "text/plain": [
       "<Figure size 1728x864 with 0 Axes>"
      ]
     },
     "metadata": {},
     "output_type": "display_data"
    },
    {
     "data": {
      "text/plain": [
       "<Figure size 1728x864 with 0 Axes>"
      ]
     },
     "metadata": {},
     "output_type": "display_data"
    },
    {
     "data": {
      "text/plain": [
       "<Figure size 1728x864 with 0 Axes>"
      ]
     },
     "metadata": {},
     "output_type": "display_data"
    },
    {
     "data": {
      "text/plain": [
       "<Figure size 1728x864 with 0 Axes>"
      ]
     },
     "metadata": {},
     "output_type": "display_data"
    },
    {
     "data": {
      "text/plain": [
       "<Figure size 1728x864 with 0 Axes>"
      ]
     },
     "metadata": {},
     "output_type": "display_data"
    },
    {
     "data": {
      "text/plain": [
       "<Figure size 1728x864 with 0 Axes>"
      ]
     },
     "metadata": {},
     "output_type": "display_data"
    },
    {
     "data": {
      "text/plain": [
       "<Figure size 1728x864 with 0 Axes>"
      ]
     },
     "metadata": {},
     "output_type": "display_data"
    },
    {
     "data": {
      "text/plain": [
       "<Figure size 1728x864 with 0 Axes>"
      ]
     },
     "metadata": {},
     "output_type": "display_data"
    },
    {
     "data": {
      "text/plain": [
       "<Figure size 1728x864 with 0 Axes>"
      ]
     },
     "metadata": {},
     "output_type": "display_data"
    },
    {
     "data": {
      "text/plain": [
       "<Figure size 1728x864 with 0 Axes>"
      ]
     },
     "metadata": {},
     "output_type": "display_data"
    },
    {
     "data": {
      "text/plain": [
       "<Figure size 1728x864 with 0 Axes>"
      ]
     },
     "metadata": {},
     "output_type": "display_data"
    },
    {
     "data": {
      "text/plain": [
       "<Figure size 1728x864 with 0 Axes>"
      ]
     },
     "metadata": {},
     "output_type": "display_data"
    },
    {
     "data": {
      "text/plain": [
       "<Figure size 1728x864 with 0 Axes>"
      ]
     },
     "metadata": {},
     "output_type": "display_data"
    },
    {
     "data": {
      "text/plain": [
       "<Figure size 1728x864 with 0 Axes>"
      ]
     },
     "metadata": {},
     "output_type": "display_data"
    },
    {
     "data": {
      "text/plain": [
       "<Figure size 1728x864 with 0 Axes>"
      ]
     },
     "metadata": {},
     "output_type": "display_data"
    },
    {
     "data": {
      "text/plain": [
       "<Figure size 1728x864 with 0 Axes>"
      ]
     },
     "metadata": {},
     "output_type": "display_data"
    },
    {
     "data": {
      "text/plain": [
       "<Figure size 1728x864 with 0 Axes>"
      ]
     },
     "metadata": {},
     "output_type": "display_data"
    },
    {
     "data": {
      "text/plain": [
       "<Figure size 1728x864 with 0 Axes>"
      ]
     },
     "metadata": {},
     "output_type": "display_data"
    },
    {
     "data": {
      "text/plain": [
       "<Figure size 1728x864 with 0 Axes>"
      ]
     },
     "metadata": {},
     "output_type": "display_data"
    },
    {
     "data": {
      "text/plain": [
       "<Figure size 1728x864 with 0 Axes>"
      ]
     },
     "metadata": {},
     "output_type": "display_data"
    },
    {
     "data": {
      "text/plain": [
       "<Figure size 1728x864 with 0 Axes>"
      ]
     },
     "metadata": {},
     "output_type": "display_data"
    },
    {
     "data": {
      "text/plain": [
       "<Figure size 1728x864 with 0 Axes>"
      ]
     },
     "metadata": {},
     "output_type": "display_data"
    },
    {
     "data": {
      "text/plain": [
       "<Figure size 1728x864 with 0 Axes>"
      ]
     },
     "metadata": {},
     "output_type": "display_data"
    },
    {
     "data": {
      "text/plain": [
       "<Figure size 1728x864 with 0 Axes>"
      ]
     },
     "metadata": {},
     "output_type": "display_data"
    },
    {
     "data": {
      "text/plain": [
       "<Figure size 1728x864 with 0 Axes>"
      ]
     },
     "metadata": {},
     "output_type": "display_data"
    },
    {
     "data": {
      "text/plain": [
       "<Figure size 1728x864 with 0 Axes>"
      ]
     },
     "metadata": {},
     "output_type": "display_data"
    },
    {
     "data": {
      "text/plain": [
       "<Figure size 1728x864 with 0 Axes>"
      ]
     },
     "metadata": {},
     "output_type": "display_data"
    },
    {
     "data": {
      "text/plain": [
       "<Figure size 1728x864 with 0 Axes>"
      ]
     },
     "metadata": {},
     "output_type": "display_data"
    },
    {
     "data": {
      "text/plain": [
       "<Figure size 1728x864 with 0 Axes>"
      ]
     },
     "metadata": {},
     "output_type": "display_data"
    },
    {
     "data": {
      "text/plain": [
       "<Figure size 1728x864 with 0 Axes>"
      ]
     },
     "metadata": {},
     "output_type": "display_data"
    },
    {
     "data": {
      "text/plain": [
       "<Figure size 1728x864 with 0 Axes>"
      ]
     },
     "metadata": {},
     "output_type": "display_data"
    },
    {
     "data": {
      "text/plain": [
       "<Figure size 1728x864 with 0 Axes>"
      ]
     },
     "metadata": {},
     "output_type": "display_data"
    },
    {
     "data": {
      "text/plain": [
       "<Figure size 1728x864 with 0 Axes>"
      ]
     },
     "metadata": {},
     "output_type": "display_data"
    },
    {
     "data": {
      "text/plain": [
       "<Figure size 1728x864 with 0 Axes>"
      ]
     },
     "metadata": {},
     "output_type": "display_data"
    },
    {
     "data": {
      "text/plain": [
       "<Figure size 1728x864 with 0 Axes>"
      ]
     },
     "metadata": {},
     "output_type": "display_data"
    },
    {
     "data": {
      "text/plain": [
       "<Figure size 1728x864 with 0 Axes>"
      ]
     },
     "metadata": {},
     "output_type": "display_data"
    },
    {
     "data": {
      "text/plain": [
       "<Figure size 1728x864 with 0 Axes>"
      ]
     },
     "metadata": {},
     "output_type": "display_data"
    },
    {
     "data": {
      "text/plain": [
       "<Figure size 1728x864 with 0 Axes>"
      ]
     },
     "metadata": {},
     "output_type": "display_data"
    },
    {
     "data": {
      "text/plain": [
       "<Figure size 1728x864 with 0 Axes>"
      ]
     },
     "metadata": {},
     "output_type": "display_data"
    },
    {
     "data": {
      "text/plain": [
       "<Figure size 1728x864 with 0 Axes>"
      ]
     },
     "metadata": {},
     "output_type": "display_data"
    },
    {
     "data": {
      "text/plain": [
       "<Figure size 1728x864 with 0 Axes>"
      ]
     },
     "metadata": {},
     "output_type": "display_data"
    },
    {
     "data": {
      "text/plain": [
       "<Figure size 1728x864 with 0 Axes>"
      ]
     },
     "metadata": {},
     "output_type": "display_data"
    },
    {
     "data": {
      "text/plain": [
       "<Figure size 1728x864 with 0 Axes>"
      ]
     },
     "metadata": {},
     "output_type": "display_data"
    },
    {
     "data": {
      "text/plain": [
       "<Figure size 1728x864 with 0 Axes>"
      ]
     },
     "metadata": {},
     "output_type": "display_data"
    },
    {
     "data": {
      "text/plain": [
       "<Figure size 1728x864 with 0 Axes>"
      ]
     },
     "metadata": {},
     "output_type": "display_data"
    },
    {
     "data": {
      "text/plain": [
       "<Figure size 1728x864 with 0 Axes>"
      ]
     },
     "metadata": {},
     "output_type": "display_data"
    },
    {
     "data": {
      "text/plain": [
       "<Figure size 1728x864 with 0 Axes>"
      ]
     },
     "metadata": {},
     "output_type": "display_data"
    },
    {
     "data": {
      "text/plain": [
       "<Figure size 1728x864 with 0 Axes>"
      ]
     },
     "metadata": {},
     "output_type": "display_data"
    },
    {
     "data": {
      "text/plain": [
       "<Figure size 1728x864 with 0 Axes>"
      ]
     },
     "metadata": {},
     "output_type": "display_data"
    },
    {
     "data": {
      "text/plain": [
       "<Figure size 1728x864 with 0 Axes>"
      ]
     },
     "metadata": {},
     "output_type": "display_data"
    },
    {
     "data": {
      "text/plain": [
       "<Figure size 1728x864 with 0 Axes>"
      ]
     },
     "metadata": {},
     "output_type": "display_data"
    },
    {
     "data": {
      "text/plain": [
       "<Figure size 1728x864 with 0 Axes>"
      ]
     },
     "metadata": {},
     "output_type": "display_data"
    },
    {
     "data": {
      "text/plain": [
       "<Figure size 1728x864 with 0 Axes>"
      ]
     },
     "metadata": {},
     "output_type": "display_data"
    },
    {
     "data": {
      "text/plain": [
       "<Figure size 1728x864 with 0 Axes>"
      ]
     },
     "metadata": {},
     "output_type": "display_data"
    },
    {
     "data": {
      "text/plain": [
       "<Figure size 1728x864 with 0 Axes>"
      ]
     },
     "metadata": {},
     "output_type": "display_data"
    },
    {
     "data": {
      "text/plain": [
       "<Figure size 1728x864 with 0 Axes>"
      ]
     },
     "metadata": {},
     "output_type": "display_data"
    },
    {
     "data": {
      "text/plain": [
       "<Figure size 1728x864 with 0 Axes>"
      ]
     },
     "metadata": {},
     "output_type": "display_data"
    },
    {
     "data": {
      "text/plain": [
       "<Figure size 1728x864 with 0 Axes>"
      ]
     },
     "metadata": {},
     "output_type": "display_data"
    },
    {
     "data": {
      "text/plain": [
       "<Figure size 1728x864 with 0 Axes>"
      ]
     },
     "metadata": {},
     "output_type": "display_data"
    },
    {
     "data": {
      "text/plain": [
       "<Figure size 1728x864 with 0 Axes>"
      ]
     },
     "metadata": {},
     "output_type": "display_data"
    },
    {
     "data": {
      "text/plain": [
       "<Figure size 1728x864 with 0 Axes>"
      ]
     },
     "metadata": {},
     "output_type": "display_data"
    },
    {
     "data": {
      "text/plain": [
       "<Figure size 1728x864 with 0 Axes>"
      ]
     },
     "metadata": {},
     "output_type": "display_data"
    },
    {
     "data": {
      "text/plain": [
       "<Figure size 1728x864 with 0 Axes>"
      ]
     },
     "metadata": {},
     "output_type": "display_data"
    },
    {
     "data": {
      "text/plain": [
       "<Figure size 1728x864 with 0 Axes>"
      ]
     },
     "metadata": {},
     "output_type": "display_data"
    },
    {
     "data": {
      "text/plain": [
       "<Figure size 1728x864 with 0 Axes>"
      ]
     },
     "metadata": {},
     "output_type": "display_data"
    },
    {
     "data": {
      "text/plain": [
       "<Figure size 1728x864 with 0 Axes>"
      ]
     },
     "metadata": {},
     "output_type": "display_data"
    },
    {
     "data": {
      "text/plain": [
       "<Figure size 1728x864 with 0 Axes>"
      ]
     },
     "metadata": {},
     "output_type": "display_data"
    },
    {
     "data": {
      "text/plain": [
       "<Figure size 1728x864 with 0 Axes>"
      ]
     },
     "metadata": {},
     "output_type": "display_data"
    },
    {
     "data": {
      "text/plain": [
       "<Figure size 1728x864 with 0 Axes>"
      ]
     },
     "metadata": {},
     "output_type": "display_data"
    },
    {
     "data": {
      "text/plain": [
       "<Figure size 1728x864 with 0 Axes>"
      ]
     },
     "metadata": {},
     "output_type": "display_data"
    },
    {
     "data": {
      "text/plain": [
       "<Figure size 1728x864 with 0 Axes>"
      ]
     },
     "metadata": {},
     "output_type": "display_data"
    },
    {
     "data": {
      "text/plain": [
       "<Figure size 1728x864 with 0 Axes>"
      ]
     },
     "metadata": {},
     "output_type": "display_data"
    },
    {
     "data": {
      "text/plain": [
       "<Figure size 1728x864 with 0 Axes>"
      ]
     },
     "metadata": {},
     "output_type": "display_data"
    },
    {
     "data": {
      "text/plain": [
       "<Figure size 1728x864 with 0 Axes>"
      ]
     },
     "metadata": {},
     "output_type": "display_data"
    },
    {
     "data": {
      "text/plain": [
       "<Figure size 1728x864 with 0 Axes>"
      ]
     },
     "metadata": {},
     "output_type": "display_data"
    },
    {
     "data": {
      "text/plain": [
       "<Figure size 1728x864 with 0 Axes>"
      ]
     },
     "metadata": {},
     "output_type": "display_data"
    },
    {
     "data": {
      "text/plain": [
       "<Figure size 1728x864 with 0 Axes>"
      ]
     },
     "metadata": {},
     "output_type": "display_data"
    },
    {
     "data": {
      "text/plain": [
       "<Figure size 1728x864 with 0 Axes>"
      ]
     },
     "metadata": {},
     "output_type": "display_data"
    },
    {
     "data": {
      "text/plain": [
       "<Figure size 1728x864 with 0 Axes>"
      ]
     },
     "metadata": {},
     "output_type": "display_data"
    },
    {
     "data": {
      "text/plain": [
       "<Figure size 1728x864 with 0 Axes>"
      ]
     },
     "metadata": {},
     "output_type": "display_data"
    },
    {
     "data": {
      "text/plain": [
       "<Figure size 1728x864 with 0 Axes>"
      ]
     },
     "metadata": {},
     "output_type": "display_data"
    },
    {
     "data": {
      "text/plain": [
       "<Figure size 1728x864 with 0 Axes>"
      ]
     },
     "metadata": {},
     "output_type": "display_data"
    },
    {
     "data": {
      "text/plain": [
       "<Figure size 1728x864 with 0 Axes>"
      ]
     },
     "metadata": {},
     "output_type": "display_data"
    },
    {
     "data": {
      "text/plain": [
       "<Figure size 1728x864 with 0 Axes>"
      ]
     },
     "metadata": {},
     "output_type": "display_data"
    },
    {
     "data": {
      "text/plain": [
       "<Figure size 1728x864 with 0 Axes>"
      ]
     },
     "metadata": {},
     "output_type": "display_data"
    },
    {
     "data": {
      "text/plain": [
       "<Figure size 1728x864 with 0 Axes>"
      ]
     },
     "metadata": {},
     "output_type": "display_data"
    },
    {
     "data": {
      "text/plain": [
       "<Figure size 1728x864 with 0 Axes>"
      ]
     },
     "metadata": {},
     "output_type": "display_data"
    }
   ],
   "source": [
    "from model.ploting_functions.utils import *\n",
    "\n",
    "times = list(enkf_FCST.keys())\n",
    "\n",
    "saving_dir = '../plots/'\n",
    "img_name= f'alternative_pkf_formulation_forecast_Nx{Nx}_l0A_neq_l0B'\n",
    "\n",
    "ploting_args = (enkf_FCST,pkf_FCST,False,subplot_lims_FCST,None,)\n",
    "\n",
    "save_plots(saving_dir, img_name, make_plot, times, titles_FCST, ploting_args)\n",
    "\n",
    "make_video(imgs_dir = saving_dir, output_dir='../video_plots/',\n",
    "           output_filename = img_name,fps = 12)"
   ]
  },
  {
   "cell_type": "markdown",
   "metadata": {},
   "source": [
    "### data assimilation experiment"
   ]
  },
  {
   "cell_type": "code",
   "execution_count": 40,
   "metadata": {},
   "outputs": [
    {
     "data": {
      "text/plain": [
       "<Figure size 1728x864 with 0 Axes>"
      ]
     },
     "metadata": {},
     "output_type": "display_data"
    },
    {
     "data": {
      "text/plain": [
       "<Figure size 1728x864 with 0 Axes>"
      ]
     },
     "metadata": {},
     "output_type": "display_data"
    },
    {
     "data": {
      "text/plain": [
       "<Figure size 1728x864 with 0 Axes>"
      ]
     },
     "metadata": {},
     "output_type": "display_data"
    },
    {
     "data": {
      "text/plain": [
       "<Figure size 1728x864 with 0 Axes>"
      ]
     },
     "metadata": {},
     "output_type": "display_data"
    },
    {
     "data": {
      "text/plain": [
       "<Figure size 1728x864 with 0 Axes>"
      ]
     },
     "metadata": {},
     "output_type": "display_data"
    },
    {
     "data": {
      "text/plain": [
       "<Figure size 1728x864 with 0 Axes>"
      ]
     },
     "metadata": {},
     "output_type": "display_data"
    },
    {
     "data": {
      "text/plain": [
       "<Figure size 1728x864 with 0 Axes>"
      ]
     },
     "metadata": {},
     "output_type": "display_data"
    },
    {
     "data": {
      "text/plain": [
       "<Figure size 1728x864 with 0 Axes>"
      ]
     },
     "metadata": {},
     "output_type": "display_data"
    },
    {
     "data": {
      "text/plain": [
       "<Figure size 1728x864 with 0 Axes>"
      ]
     },
     "metadata": {},
     "output_type": "display_data"
    },
    {
     "data": {
      "text/plain": [
       "<Figure size 1728x864 with 0 Axes>"
      ]
     },
     "metadata": {},
     "output_type": "display_data"
    },
    {
     "data": {
      "text/plain": [
       "<Figure size 1728x864 with 0 Axes>"
      ]
     },
     "metadata": {},
     "output_type": "display_data"
    },
    {
     "data": {
      "text/plain": [
       "<Figure size 1728x864 with 0 Axes>"
      ]
     },
     "metadata": {},
     "output_type": "display_data"
    },
    {
     "data": {
      "text/plain": [
       "<Figure size 1728x864 with 0 Axes>"
      ]
     },
     "metadata": {},
     "output_type": "display_data"
    },
    {
     "data": {
      "text/plain": [
       "<Figure size 1728x864 with 0 Axes>"
      ]
     },
     "metadata": {},
     "output_type": "display_data"
    },
    {
     "data": {
      "text/plain": [
       "<Figure size 1728x864 with 0 Axes>"
      ]
     },
     "metadata": {},
     "output_type": "display_data"
    },
    {
     "data": {
      "text/plain": [
       "<Figure size 1728x864 with 0 Axes>"
      ]
     },
     "metadata": {},
     "output_type": "display_data"
    },
    {
     "data": {
      "text/plain": [
       "<Figure size 1728x864 with 0 Axes>"
      ]
     },
     "metadata": {},
     "output_type": "display_data"
    },
    {
     "data": {
      "text/plain": [
       "<Figure size 1728x864 with 0 Axes>"
      ]
     },
     "metadata": {},
     "output_type": "display_data"
    },
    {
     "data": {
      "text/plain": [
       "<Figure size 1728x864 with 0 Axes>"
      ]
     },
     "metadata": {},
     "output_type": "display_data"
    },
    {
     "data": {
      "text/plain": [
       "<Figure size 1728x864 with 0 Axes>"
      ]
     },
     "metadata": {},
     "output_type": "display_data"
    },
    {
     "data": {
      "text/plain": [
       "<Figure size 1728x864 with 0 Axes>"
      ]
     },
     "metadata": {},
     "output_type": "display_data"
    },
    {
     "data": {
      "text/plain": [
       "<Figure size 1728x864 with 0 Axes>"
      ]
     },
     "metadata": {},
     "output_type": "display_data"
    },
    {
     "data": {
      "text/plain": [
       "<Figure size 1728x864 with 0 Axes>"
      ]
     },
     "metadata": {},
     "output_type": "display_data"
    },
    {
     "data": {
      "text/plain": [
       "<Figure size 1728x864 with 0 Axes>"
      ]
     },
     "metadata": {},
     "output_type": "display_data"
    },
    {
     "data": {
      "text/plain": [
       "<Figure size 1728x864 with 0 Axes>"
      ]
     },
     "metadata": {},
     "output_type": "display_data"
    },
    {
     "data": {
      "text/plain": [
       "<Figure size 1728x864 with 0 Axes>"
      ]
     },
     "metadata": {},
     "output_type": "display_data"
    },
    {
     "data": {
      "text/plain": [
       "<Figure size 1728x864 with 0 Axes>"
      ]
     },
     "metadata": {},
     "output_type": "display_data"
    },
    {
     "data": {
      "text/plain": [
       "<Figure size 1728x864 with 0 Axes>"
      ]
     },
     "metadata": {},
     "output_type": "display_data"
    },
    {
     "data": {
      "text/plain": [
       "<Figure size 1728x864 with 0 Axes>"
      ]
     },
     "metadata": {},
     "output_type": "display_data"
    },
    {
     "data": {
      "text/plain": [
       "<Figure size 1728x864 with 0 Axes>"
      ]
     },
     "metadata": {},
     "output_type": "display_data"
    },
    {
     "data": {
      "text/plain": [
       "<Figure size 1728x864 with 0 Axes>"
      ]
     },
     "metadata": {},
     "output_type": "display_data"
    },
    {
     "data": {
      "text/plain": [
       "<Figure size 1728x864 with 0 Axes>"
      ]
     },
     "metadata": {},
     "output_type": "display_data"
    },
    {
     "data": {
      "text/plain": [
       "<Figure size 1728x864 with 0 Axes>"
      ]
     },
     "metadata": {},
     "output_type": "display_data"
    },
    {
     "data": {
      "text/plain": [
       "<Figure size 1728x864 with 0 Axes>"
      ]
     },
     "metadata": {},
     "output_type": "display_data"
    },
    {
     "data": {
      "text/plain": [
       "<Figure size 1728x864 with 0 Axes>"
      ]
     },
     "metadata": {},
     "output_type": "display_data"
    },
    {
     "data": {
      "text/plain": [
       "<Figure size 1728x864 with 0 Axes>"
      ]
     },
     "metadata": {},
     "output_type": "display_data"
    },
    {
     "data": {
      "text/plain": [
       "<Figure size 1728x864 with 0 Axes>"
      ]
     },
     "metadata": {},
     "output_type": "display_data"
    },
    {
     "data": {
      "text/plain": [
       "<Figure size 1728x864 with 0 Axes>"
      ]
     },
     "metadata": {},
     "output_type": "display_data"
    },
    {
     "data": {
      "text/plain": [
       "<Figure size 1728x864 with 0 Axes>"
      ]
     },
     "metadata": {},
     "output_type": "display_data"
    },
    {
     "data": {
      "text/plain": [
       "<Figure size 1728x864 with 0 Axes>"
      ]
     },
     "metadata": {},
     "output_type": "display_data"
    },
    {
     "data": {
      "text/plain": [
       "<Figure size 1728x864 with 0 Axes>"
      ]
     },
     "metadata": {},
     "output_type": "display_data"
    },
    {
     "data": {
      "text/plain": [
       "<Figure size 1728x864 with 0 Axes>"
      ]
     },
     "metadata": {},
     "output_type": "display_data"
    },
    {
     "data": {
      "text/plain": [
       "<Figure size 1728x864 with 0 Axes>"
      ]
     },
     "metadata": {},
     "output_type": "display_data"
    },
    {
     "data": {
      "text/plain": [
       "<Figure size 1728x864 with 0 Axes>"
      ]
     },
     "metadata": {},
     "output_type": "display_data"
    },
    {
     "data": {
      "text/plain": [
       "<Figure size 1728x864 with 0 Axes>"
      ]
     },
     "metadata": {},
     "output_type": "display_data"
    },
    {
     "data": {
      "text/plain": [
       "<Figure size 1728x864 with 0 Axes>"
      ]
     },
     "metadata": {},
     "output_type": "display_data"
    },
    {
     "data": {
      "text/plain": [
       "<Figure size 1728x864 with 0 Axes>"
      ]
     },
     "metadata": {},
     "output_type": "display_data"
    },
    {
     "data": {
      "text/plain": [
       "<Figure size 1728x864 with 0 Axes>"
      ]
     },
     "metadata": {},
     "output_type": "display_data"
    },
    {
     "data": {
      "text/plain": [
       "<Figure size 1728x864 with 0 Axes>"
      ]
     },
     "metadata": {},
     "output_type": "display_data"
    },
    {
     "data": {
      "text/plain": [
       "<Figure size 1728x864 with 0 Axes>"
      ]
     },
     "metadata": {},
     "output_type": "display_data"
    },
    {
     "data": {
      "text/plain": [
       "<Figure size 1728x864 with 0 Axes>"
      ]
     },
     "metadata": {},
     "output_type": "display_data"
    },
    {
     "data": {
      "text/plain": [
       "<Figure size 1728x864 with 0 Axes>"
      ]
     },
     "metadata": {},
     "output_type": "display_data"
    },
    {
     "data": {
      "text/plain": [
       "<Figure size 1728x864 with 0 Axes>"
      ]
     },
     "metadata": {},
     "output_type": "display_data"
    },
    {
     "data": {
      "text/plain": [
       "<Figure size 1728x864 with 0 Axes>"
      ]
     },
     "metadata": {},
     "output_type": "display_data"
    },
    {
     "data": {
      "text/plain": [
       "<Figure size 1728x864 with 0 Axes>"
      ]
     },
     "metadata": {},
     "output_type": "display_data"
    },
    {
     "data": {
      "text/plain": [
       "<Figure size 1728x864 with 0 Axes>"
      ]
     },
     "metadata": {},
     "output_type": "display_data"
    },
    {
     "data": {
      "text/plain": [
       "<Figure size 1728x864 with 0 Axes>"
      ]
     },
     "metadata": {},
     "output_type": "display_data"
    },
    {
     "data": {
      "text/plain": [
       "<Figure size 1728x864 with 0 Axes>"
      ]
     },
     "metadata": {},
     "output_type": "display_data"
    },
    {
     "data": {
      "text/plain": [
       "<Figure size 1728x864 with 0 Axes>"
      ]
     },
     "metadata": {},
     "output_type": "display_data"
    },
    {
     "data": {
      "text/plain": [
       "<Figure size 1728x864 with 0 Axes>"
      ]
     },
     "metadata": {},
     "output_type": "display_data"
    },
    {
     "data": {
      "text/plain": [
       "<Figure size 1728x864 with 0 Axes>"
      ]
     },
     "metadata": {},
     "output_type": "display_data"
    },
    {
     "data": {
      "text/plain": [
       "<Figure size 1728x864 with 0 Axes>"
      ]
     },
     "metadata": {},
     "output_type": "display_data"
    },
    {
     "data": {
      "text/plain": [
       "<Figure size 1728x864 with 0 Axes>"
      ]
     },
     "metadata": {},
     "output_type": "display_data"
    },
    {
     "data": {
      "text/plain": [
       "<Figure size 1728x864 with 0 Axes>"
      ]
     },
     "metadata": {},
     "output_type": "display_data"
    },
    {
     "data": {
      "text/plain": [
       "<Figure size 1728x864 with 0 Axes>"
      ]
     },
     "metadata": {},
     "output_type": "display_data"
    },
    {
     "data": {
      "text/plain": [
       "<Figure size 1728x864 with 0 Axes>"
      ]
     },
     "metadata": {},
     "output_type": "display_data"
    },
    {
     "data": {
      "text/plain": [
       "<Figure size 1728x864 with 0 Axes>"
      ]
     },
     "metadata": {},
     "output_type": "display_data"
    },
    {
     "data": {
      "text/plain": [
       "<Figure size 1728x864 with 0 Axes>"
      ]
     },
     "metadata": {},
     "output_type": "display_data"
    },
    {
     "data": {
      "text/plain": [
       "<Figure size 1728x864 with 0 Axes>"
      ]
     },
     "metadata": {},
     "output_type": "display_data"
    },
    {
     "data": {
      "text/plain": [
       "<Figure size 1728x864 with 0 Axes>"
      ]
     },
     "metadata": {},
     "output_type": "display_data"
    },
    {
     "data": {
      "text/plain": [
       "<Figure size 1728x864 with 0 Axes>"
      ]
     },
     "metadata": {},
     "output_type": "display_data"
    },
    {
     "data": {
      "text/plain": [
       "<Figure size 1728x864 with 0 Axes>"
      ]
     },
     "metadata": {},
     "output_type": "display_data"
    },
    {
     "data": {
      "text/plain": [
       "<Figure size 1728x864 with 0 Axes>"
      ]
     },
     "metadata": {},
     "output_type": "display_data"
    },
    {
     "data": {
      "text/plain": [
       "<Figure size 1728x864 with 0 Axes>"
      ]
     },
     "metadata": {},
     "output_type": "display_data"
    },
    {
     "data": {
      "text/plain": [
       "<Figure size 1728x864 with 0 Axes>"
      ]
     },
     "metadata": {},
     "output_type": "display_data"
    },
    {
     "data": {
      "text/plain": [
       "<Figure size 1728x864 with 0 Axes>"
      ]
     },
     "metadata": {},
     "output_type": "display_data"
    },
    {
     "data": {
      "text/plain": [
       "<Figure size 1728x864 with 0 Axes>"
      ]
     },
     "metadata": {},
     "output_type": "display_data"
    },
    {
     "data": {
      "text/plain": [
       "<Figure size 1728x864 with 0 Axes>"
      ]
     },
     "metadata": {},
     "output_type": "display_data"
    },
    {
     "data": {
      "text/plain": [
       "<Figure size 1728x864 with 0 Axes>"
      ]
     },
     "metadata": {},
     "output_type": "display_data"
    },
    {
     "data": {
      "text/plain": [
       "<Figure size 1728x864 with 0 Axes>"
      ]
     },
     "metadata": {},
     "output_type": "display_data"
    },
    {
     "data": {
      "text/plain": [
       "<Figure size 1728x864 with 0 Axes>"
      ]
     },
     "metadata": {},
     "output_type": "display_data"
    },
    {
     "data": {
      "text/plain": [
       "<Figure size 1728x864 with 0 Axes>"
      ]
     },
     "metadata": {},
     "output_type": "display_data"
    },
    {
     "data": {
      "text/plain": [
       "<Figure size 1728x864 with 0 Axes>"
      ]
     },
     "metadata": {},
     "output_type": "display_data"
    },
    {
     "data": {
      "text/plain": [
       "<Figure size 1728x864 with 0 Axes>"
      ]
     },
     "metadata": {},
     "output_type": "display_data"
    },
    {
     "data": {
      "text/plain": [
       "<Figure size 1728x864 with 0 Axes>"
      ]
     },
     "metadata": {},
     "output_type": "display_data"
    },
    {
     "data": {
      "text/plain": [
       "<Figure size 1728x864 with 0 Axes>"
      ]
     },
     "metadata": {},
     "output_type": "display_data"
    },
    {
     "data": {
      "text/plain": [
       "<Figure size 1728x864 with 0 Axes>"
      ]
     },
     "metadata": {},
     "output_type": "display_data"
    },
    {
     "data": {
      "text/plain": [
       "<Figure size 1728x864 with 0 Axes>"
      ]
     },
     "metadata": {},
     "output_type": "display_data"
    },
    {
     "data": {
      "text/plain": [
       "<Figure size 1728x864 with 0 Axes>"
      ]
     },
     "metadata": {},
     "output_type": "display_data"
    },
    {
     "data": {
      "text/plain": [
       "<Figure size 1728x864 with 0 Axes>"
      ]
     },
     "metadata": {},
     "output_type": "display_data"
    },
    {
     "data": {
      "text/plain": [
       "<Figure size 1728x864 with 0 Axes>"
      ]
     },
     "metadata": {},
     "output_type": "display_data"
    },
    {
     "data": {
      "text/plain": [
       "<Figure size 1728x864 with 0 Axes>"
      ]
     },
     "metadata": {},
     "output_type": "display_data"
    },
    {
     "data": {
      "text/plain": [
       "<Figure size 1728x864 with 0 Axes>"
      ]
     },
     "metadata": {},
     "output_type": "display_data"
    },
    {
     "data": {
      "text/plain": [
       "<Figure size 1728x864 with 0 Axes>"
      ]
     },
     "metadata": {},
     "output_type": "display_data"
    },
    {
     "data": {
      "text/plain": [
       "<Figure size 1728x864 with 0 Axes>"
      ]
     },
     "metadata": {},
     "output_type": "display_data"
    },
    {
     "data": {
      "text/plain": [
       "<Figure size 1728x864 with 0 Axes>"
      ]
     },
     "metadata": {},
     "output_type": "display_data"
    },
    {
     "data": {
      "text/plain": [
       "<Figure size 1728x864 with 0 Axes>"
      ]
     },
     "metadata": {},
     "output_type": "display_data"
    },
    {
     "data": {
      "text/plain": [
       "<Figure size 1728x864 with 0 Axes>"
      ]
     },
     "metadata": {},
     "output_type": "display_data"
    },
    {
     "data": {
      "text/plain": [
       "<Figure size 1728x864 with 0 Axes>"
      ]
     },
     "metadata": {},
     "output_type": "display_data"
    },
    {
     "data": {
      "text/plain": [
       "<Figure size 1728x864 with 0 Axes>"
      ]
     },
     "metadata": {},
     "output_type": "display_data"
    },
    {
     "data": {
      "text/plain": [
       "<Figure size 1728x864 with 0 Axes>"
      ]
     },
     "metadata": {},
     "output_type": "display_data"
    },
    {
     "data": {
      "text/plain": [
       "<Figure size 1728x864 with 0 Axes>"
      ]
     },
     "metadata": {},
     "output_type": "display_data"
    },
    {
     "data": {
      "text/plain": [
       "<Figure size 1728x864 with 0 Axes>"
      ]
     },
     "metadata": {},
     "output_type": "display_data"
    },
    {
     "data": {
      "text/plain": [
       "<Figure size 1728x864 with 0 Axes>"
      ]
     },
     "metadata": {},
     "output_type": "display_data"
    },
    {
     "data": {
      "text/plain": [
       "<Figure size 1728x864 with 0 Axes>"
      ]
     },
     "metadata": {},
     "output_type": "display_data"
    },
    {
     "data": {
      "text/plain": [
       "<Figure size 1728x864 with 0 Axes>"
      ]
     },
     "metadata": {},
     "output_type": "display_data"
    },
    {
     "data": {
      "text/plain": [
       "<Figure size 1728x864 with 0 Axes>"
      ]
     },
     "metadata": {},
     "output_type": "display_data"
    },
    {
     "data": {
      "text/plain": [
       "<Figure size 1728x864 with 0 Axes>"
      ]
     },
     "metadata": {},
     "output_type": "display_data"
    },
    {
     "data": {
      "text/plain": [
       "<Figure size 1728x864 with 0 Axes>"
      ]
     },
     "metadata": {},
     "output_type": "display_data"
    },
    {
     "data": {
      "text/plain": [
       "<Figure size 1728x864 with 0 Axes>"
      ]
     },
     "metadata": {},
     "output_type": "display_data"
    },
    {
     "data": {
      "text/plain": [
       "<Figure size 1728x864 with 0 Axes>"
      ]
     },
     "metadata": {},
     "output_type": "display_data"
    },
    {
     "data": {
      "text/plain": [
       "<Figure size 1728x864 with 0 Axes>"
      ]
     },
     "metadata": {},
     "output_type": "display_data"
    },
    {
     "data": {
      "text/plain": [
       "<Figure size 1728x864 with 0 Axes>"
      ]
     },
     "metadata": {},
     "output_type": "display_data"
    },
    {
     "data": {
      "text/plain": [
       "<Figure size 1728x864 with 0 Axes>"
      ]
     },
     "metadata": {},
     "output_type": "display_data"
    },
    {
     "data": {
      "text/plain": [
       "<Figure size 1728x864 with 0 Axes>"
      ]
     },
     "metadata": {},
     "output_type": "display_data"
    },
    {
     "data": {
      "text/plain": [
       "<Figure size 1728x864 with 0 Axes>"
      ]
     },
     "metadata": {},
     "output_type": "display_data"
    },
    {
     "data": {
      "text/plain": [
       "<Figure size 1728x864 with 0 Axes>"
      ]
     },
     "metadata": {},
     "output_type": "display_data"
    },
    {
     "data": {
      "text/plain": [
       "<Figure size 1728x864 with 0 Axes>"
      ]
     },
     "metadata": {},
     "output_type": "display_data"
    },
    {
     "data": {
      "text/plain": [
       "<Figure size 1728x864 with 0 Axes>"
      ]
     },
     "metadata": {},
     "output_type": "display_data"
    },
    {
     "data": {
      "text/plain": [
       "<Figure size 1728x864 with 0 Axes>"
      ]
     },
     "metadata": {},
     "output_type": "display_data"
    },
    {
     "data": {
      "text/plain": [
       "<Figure size 1728x864 with 0 Axes>"
      ]
     },
     "metadata": {},
     "output_type": "display_data"
    },
    {
     "data": {
      "text/plain": [
       "<Figure size 1728x864 with 0 Axes>"
      ]
     },
     "metadata": {},
     "output_type": "display_data"
    },
    {
     "data": {
      "text/plain": [
       "<Figure size 1728x864 with 0 Axes>"
      ]
     },
     "metadata": {},
     "output_type": "display_data"
    },
    {
     "data": {
      "text/plain": [
       "<Figure size 1728x864 with 0 Axes>"
      ]
     },
     "metadata": {},
     "output_type": "display_data"
    },
    {
     "data": {
      "text/plain": [
       "<Figure size 1728x864 with 0 Axes>"
      ]
     },
     "metadata": {},
     "output_type": "display_data"
    },
    {
     "data": {
      "text/plain": [
       "<Figure size 1728x864 with 0 Axes>"
      ]
     },
     "metadata": {},
     "output_type": "display_data"
    },
    {
     "data": {
      "text/plain": [
       "<Figure size 1728x864 with 0 Axes>"
      ]
     },
     "metadata": {},
     "output_type": "display_data"
    },
    {
     "data": {
      "text/plain": [
       "<Figure size 1728x864 with 0 Axes>"
      ]
     },
     "metadata": {},
     "output_type": "display_data"
    },
    {
     "data": {
      "text/plain": [
       "<Figure size 1728x864 with 0 Axes>"
      ]
     },
     "metadata": {},
     "output_type": "display_data"
    },
    {
     "data": {
      "text/plain": [
       "<Figure size 1728x864 with 0 Axes>"
      ]
     },
     "metadata": {},
     "output_type": "display_data"
    },
    {
     "data": {
      "text/plain": [
       "<Figure size 1728x864 with 0 Axes>"
      ]
     },
     "metadata": {},
     "output_type": "display_data"
    },
    {
     "data": {
      "text/plain": [
       "<Figure size 1728x864 with 0 Axes>"
      ]
     },
     "metadata": {},
     "output_type": "display_data"
    },
    {
     "data": {
      "text/plain": [
       "<Figure size 1728x864 with 0 Axes>"
      ]
     },
     "metadata": {},
     "output_type": "display_data"
    },
    {
     "data": {
      "text/plain": [
       "<Figure size 1728x864 with 0 Axes>"
      ]
     },
     "metadata": {},
     "output_type": "display_data"
    },
    {
     "data": {
      "text/plain": [
       "<Figure size 1728x864 with 0 Axes>"
      ]
     },
     "metadata": {},
     "output_type": "display_data"
    },
    {
     "data": {
      "text/plain": [
       "<Figure size 1728x864 with 0 Axes>"
      ]
     },
     "metadata": {},
     "output_type": "display_data"
    },
    {
     "data": {
      "text/plain": [
       "<Figure size 1728x864 with 0 Axes>"
      ]
     },
     "metadata": {},
     "output_type": "display_data"
    },
    {
     "data": {
      "text/plain": [
       "<Figure size 1728x864 with 0 Axes>"
      ]
     },
     "metadata": {},
     "output_type": "display_data"
    },
    {
     "data": {
      "text/plain": [
       "<Figure size 1728x864 with 0 Axes>"
      ]
     },
     "metadata": {},
     "output_type": "display_data"
    },
    {
     "data": {
      "text/plain": [
       "<Figure size 1728x864 with 0 Axes>"
      ]
     },
     "metadata": {},
     "output_type": "display_data"
    },
    {
     "data": {
      "text/plain": [
       "<Figure size 1728x864 with 0 Axes>"
      ]
     },
     "metadata": {},
     "output_type": "display_data"
    },
    {
     "data": {
      "text/plain": [
       "<Figure size 1728x864 with 0 Axes>"
      ]
     },
     "metadata": {},
     "output_type": "display_data"
    },
    {
     "data": {
      "text/plain": [
       "<Figure size 1728x864 with 0 Axes>"
      ]
     },
     "metadata": {},
     "output_type": "display_data"
    },
    {
     "data": {
      "text/plain": [
       "<Figure size 1728x864 with 0 Axes>"
      ]
     },
     "metadata": {},
     "output_type": "display_data"
    },
    {
     "data": {
      "text/plain": [
       "<Figure size 1728x864 with 0 Axes>"
      ]
     },
     "metadata": {},
     "output_type": "display_data"
    },
    {
     "data": {
      "text/plain": [
       "<Figure size 1728x864 with 0 Axes>"
      ]
     },
     "metadata": {},
     "output_type": "display_data"
    }
   ],
   "source": [
    "from model.ploting_functions.utils import *\n",
    "\n",
    "times = list(enkf_DA.keys())\n",
    "\n",
    "saving_dir = '../plots/'\n",
    "img_name= f'alternative_pkf_formulation_data_assimilation_experiment_Nx{Nx}_l0A_neq_l0B'\n",
    "\n",
    "ploting_args = (enkf_DA,pkf_DA,True,subplot_lims_DA,True, None,)\n",
    "\n",
    "save_plots(saving_dir, img_name, make_plot, times, titles_DA, ploting_args)\n",
    "\n",
    "make_video(imgs_dir = saving_dir, output_dir='../video_plots/',\n",
    "           output_filename = img_name,fps = 12)"
   ]
  },
  {
   "cell_type": "markdown",
   "metadata": {},
   "source": [
    "## 4.2 Static plot for the article"
   ]
  },
  {
   "cell_type": "code",
   "execution_count": 41,
   "metadata": {},
   "outputs": [],
   "source": [
    "subplots2 = [(2,4,1),(2,4,2),(2,4,3),(2,4,4),(2,4,7),(2,4,8)]\n",
    "panel_indexs = [f'({c}) ' for c in 'abcdfg']\n",
    "def make_plot2(times, alphas,enkf_hist, pkf_hist, assimilation_exp,subplot_lims,plot_nature_run=False, title=None):\n",
    "    fig = plt.figure(figsize=(20,9))\n",
    "    if title : fig.suptitle(title, fontsize=15)\n",
    "#   \n",
    "    for t,alpha in zip(times,alphas) :\n",
    "        if assimilation_exp :\n",
    "            assim = t in list(obs_values_hist.keys())\n",
    "        else : \n",
    "            assim = False\n",
    "            \n",
    "        if assim and assimilation_exp:\n",
    "            plt.subplot(*subplots2[0])\n",
    "            plt.scatter(domain.x[0][obs_network],obs_values_hist[t]/normalization['Mean concentration']['A'],\n",
    "                        alpha=alpha,marker='o',c='k')\n",
    "        for i, (plot_index, subplot, (key1,key2),panel_index) in enumerate(zip(plots_indices, subplots2, keys,panel_indexs)):\n",
    "            plt.subplot(*subplot)\n",
    "            plt.axhline(1,c='grey',alpha=0.2)\n",
    "            plt.ylim(*subplot_lims[key1][key2])\n",
    "            time_label = r'$t$={:.1f}'.format(alpha) +r'$t_{max}$'\n",
    "            if plot_nature_run and i <2 :\n",
    "                plt.plot(domain.x[0], NR_save[t][0][i]/normalization[key1][key2],c='g', alpha=alpha,zorder=0.2)\n",
    "            \n",
    "            plt.plot(domain.x[0], enkf_hist[t][key1][key2]/normalization[key1][key2], c='b',linestyle='--',alpha=alpha,label='EnKF ' + time_label)\n",
    "            plt.plot(domain.x[0], pkf_hist[t][key1][key2]/normalization[key1][key2], c='r',linestyle='-',alpha=alpha,label='PKF   ' + time_label)\n",
    "            plt.ylabel(ylabels[i],fontsize=13)\n",
    "            plt.title(panel_index + key1 +' ' +key2,fontsize=14)\n",
    "            if i ==0 : plt.legend(loc='upper left')\n",
    "            if assimilation_exp:\n",
    "                for loc in obs_network: plt.axvline(domain.x[0][loc], c='grey',alpha=0.3 if assim else 0.2)\n",
    "\n",
    "        plt.subplot(2,2,3);plt.title('(e) Correlation field '+r'$V^{AB}_x/(\\sigma^A_x\\sigma^B_x)$',fontsize=14);\n",
    "        if assimilation_exp:\n",
    "            for loc in obs_network: plt.axvline(domain.x[0][loc], c='grey',alpha=0.3 if assim else 0.2)\n",
    "        plt.ylim(-1.1,1.1); plt.axhline(0,c='grey',alpha=0.2)\n",
    "        plt.plot(domain.x[0], enkf_hist[t]['Correlation']['A']['B'], c='b',linestyle='--',alpha=alpha)\n",
    "        plt.plot(domain.x[0], pkf_hist[t]['Correlation']['A']['B'], c='r',linestyle='-',alpha=alpha)\n",
    "        \n",
    "    fig.tight_layout();\n",
    "    return fig"
   ]
  },
  {
   "cell_type": "markdown",
   "metadata": {},
   "source": [
    "### Forecast experiment"
   ]
  },
  {
   "cell_type": "code",
   "execution_count": 44,
   "metadata": {},
   "outputs": [
    {
     "data": {
      "image/png": "[encoded data removed]",
      "text/plain": [
       "<Figure size 1440x648 with 7 Axes>"
      ]
     },
     "metadata": {
      "needs_background": "light"
     },
     "output_type": "display_data"
    }
   ],
   "source": [
    "n_stops = 2\n",
    "\n",
    "times = list(enkf_FCST.keys())\n",
    "indexs = np.linspace(0, len(times)-1,n_stops+1).astype(int)[1:]\n",
    "\n",
    "times2 = [times[index] for index in indexs]\n",
    "alphas = [0.5,1]\n",
    "\n",
    "title_FCST = r'Forecast with EnKF (blue, $N_e ={}$) and PKF (red), $l^0_A \\neq l^0_B$, $t$={:.2f}'.format(ensemble_size, times2[0]/times[-1]) +\\\n",
    "    r'$t_{max}$' +' and $t$={:.2f}'.format(times2[1]/times[-1]) \\\n",
    "    + r'$t_{max}$'\n",
    "fig_FCST = make_plot2(times2[:2],alphas, enkf_FCST, pkf_FCST,False,subplot_lims_FCST, False, title_FCST);\n",
    "fig_FCST.savefig(f'../../figures/Nx{Nx}/alternative_pkf_formulation_forecast_Nx{Nx}_l0A_neq_l0B.png')"
   ]
  },
  {
   "cell_type": "markdown",
   "metadata": {},
   "source": [
    "### Data assimilation experiment"
   ]
  },
  {
   "cell_type": "code",
   "execution_count": 45,
   "metadata": {
    "scrolled": false
   },
   "outputs": [
    {
     "data": {
      "image/png": "[encoded data removed]",
      "text/plain": [
       "<Figure size 1440x648 with 7 Axes>"
      ]
     },
     "metadata": {
      "needs_background": "light"
     },
     "output_type": "display_data"
    }
   ],
   "source": [
    "n_stops = 2\n",
    "\n",
    "times = list(enkf_DA.keys())\n",
    "indexs = np.linspace(0, len(times)-1,n_stops+1).astype(int)[1:]\n",
    "\n",
    "times2 = [times[index] for index in indexs]\n",
    "alphas = [0.5,1]\n",
    "\n",
    "title_DA = r'Data assimilation with EnKF (blue, $N_e ={}$) and PKF (red), $l^0_A \\neq l^0_B$, $t$={:.1f}'.format(ensemble_size, times2[0]/times[-1]) +\\\n",
    "    r'$t_{max}$' +' and $t$='.format(times2[1]/times[-1]) \\\n",
    "    + r'$t_{max}$'\n",
    "fig_DA = make_plot2(times2[:2],alphas,enkf_DA, pkf_DA, True,subplot_lims_DA,True, title_DA);\n",
    "fig_DA.savefig(f'../../figures/Nx{Nx}/alternative_pkf_formulation_data_assimilation_exp_Nx{Nx}_with_NR_l0A_neq_l0B.png')"
   ]
  }
 ],
 "metadata": {
  "kernelspec": {
   "display_name": "Python 3",
   "language": "python",
   "name": "python3"
  },
  "language_info": {
   "codemirror_mode": {
    "name": "ipython",
    "version": 3
   },
   "file_extension": ".py",
   "mimetype": "text/x-python",
   "name": "python",
   "nbconvert_exporter": "python",
   "pygments_lexer": "ipython3",
   "version": "3.8.8"
  }
 },
 "nbformat": 4,
 "nbformat_minor": 4
}
